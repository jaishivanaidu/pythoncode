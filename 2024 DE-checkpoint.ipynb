{
 "cells": [
  {
   "cell_type": "code",
   "execution_count": 2,
   "metadata": {},
   "outputs": [
    {
     "name": "stdout",
     "output_type": "stream",
     "text": [
      "Hello World\n"
     ]
    }
   ],
   "source": [
    "print('Hello World')"
   ]
  },
  {
   "cell_type": "markdown",
   "metadata": {},
   "source": [
    "The above is a code"
   ]
  },
  {
   "cell_type": "raw",
   "metadata": {},
   "source": [
    "This is raw NB conneco"
   ]
  },
  {
   "cell_type": "markdown",
   "metadata": {},
   "source": [
    "# This is Heading"
   ]
  },
  {
   "cell_type": "code",
   "execution_count": 3,
   "metadata": {},
   "outputs": [],
   "source": [
    "a = 'hello world'"
   ]
  },
  {
   "cell_type": "code",
   "execution_count": 4,
   "metadata": {},
   "outputs": [
    {
     "name": "stdout",
     "output_type": "stream",
     "text": [
      "hello world\n"
     ]
    }
   ],
   "source": [
    "print(a)"
   ]
  },
  {
   "cell_type": "code",
   "execution_count": 5,
   "metadata": {},
   "outputs": [
    {
     "ename": "NameError",
     "evalue": "name 'A' is not defined",
     "output_type": "error",
     "traceback": [
      "\u001b[1;31m---------------------------------------------------------------------------\u001b[0m",
      "\u001b[1;31mNameError\u001b[0m                                 Traceback (most recent call last)",
      "\u001b[1;32m<ipython-input-5-939330b76721>\u001b[0m in \u001b[0;36m<module>\u001b[1;34m\u001b[0m\n\u001b[1;32m----> 1\u001b[1;33m \u001b[0mprint\u001b[0m\u001b[1;33m(\u001b[0m\u001b[0mA\u001b[0m\u001b[1;33m)\u001b[0m\u001b[1;33m\u001b[0m\u001b[1;33m\u001b[0m\u001b[0m\n\u001b[0m",
      "\u001b[1;31mNameError\u001b[0m: name 'A' is not defined"
     ]
    }
   ],
   "source": [
    "print(A)"
   ]
  },
  {
   "cell_type": "code",
   "execution_count": 6,
   "metadata": {},
   "outputs": [],
   "source": [
    "a = '21234'"
   ]
  },
  {
   "cell_type": "code",
   "execution_count": 8,
   "metadata": {},
   "outputs": [],
   "source": [
    "a = 1234"
   ]
  },
  {
   "cell_type": "code",
   "execution_count": 9,
   "metadata": {},
   "outputs": [
    {
     "name": "stdout",
     "output_type": "stream",
     "text": [
      "1234\n"
     ]
    }
   ],
   "source": [
    "print(a)"
   ]
  },
  {
   "cell_type": "code",
   "execution_count": 1,
   "metadata": {},
   "outputs": [],
   "source": [
    "a = '21234'"
   ]
  },
  {
   "cell_type": "code",
   "execution_count": 2,
   "metadata": {},
   "outputs": [],
   "source": [
    "b = 21234"
   ]
  },
  {
   "cell_type": "code",
   "execution_count": null,
   "metadata": {},
   "outputs": [],
   "source": [
    "# type() >> tells us about what is the datatype"
   ]
  },
  {
   "cell_type": "code",
   "execution_count": 3,
   "metadata": {},
   "outputs": [
    {
     "data": {
      "text/plain": [
       "str"
      ]
     },
     "execution_count": 3,
     "metadata": {},
     "output_type": "execute_result"
    }
   ],
   "source": [
    "type(a)"
   ]
  },
  {
   "cell_type": "code",
   "execution_count": 4,
   "metadata": {},
   "outputs": [
    {
     "data": {
      "text/plain": [
       "int"
      ]
     },
     "execution_count": 4,
     "metadata": {},
     "output_type": "execute_result"
    }
   ],
   "source": [
    "type(b)"
   ]
  },
  {
   "cell_type": "code",
   "execution_count": null,
   "metadata": {},
   "outputs": [],
   "source": [
    "# len () >> how many characters are there in the variable"
   ]
  },
  {
   "cell_type": "code",
   "execution_count": 8,
   "metadata": {},
   "outputs": [
    {
     "data": {
      "text/plain": [
       "5"
      ]
     },
     "execution_count": 8,
     "metadata": {},
     "output_type": "execute_result"
    }
   ],
   "source": [
    "len (a)"
   ]
  },
  {
   "cell_type": "code",
   "execution_count": 6,
   "metadata": {},
   "outputs": [
    {
     "ename": "TypeError",
     "evalue": "object of type 'int' has no len()",
     "output_type": "error",
     "traceback": [
      "\u001b[1;31m---------------------------------------------------------------------------\u001b[0m",
      "\u001b[1;31mTypeError\u001b[0m                                 Traceback (most recent call last)",
      "\u001b[1;32m<ipython-input-6-97d8916a185b>\u001b[0m in \u001b[0;36m<module>\u001b[1;34m\u001b[0m\n\u001b[1;32m----> 1\u001b[1;33m \u001b[0mlen\u001b[0m\u001b[1;33m(\u001b[0m\u001b[0mb\u001b[0m\u001b[1;33m)\u001b[0m\u001b[1;33m\u001b[0m\u001b[1;33m\u001b[0m\u001b[0m\n\u001b[0m",
      "\u001b[1;31mTypeError\u001b[0m: object of type 'int' has no len()"
     ]
    }
   ],
   "source": [
    "len(b)"
   ]
  },
  {
   "cell_type": "code",
   "execution_count": null,
   "metadata": {},
   "outputs": [],
   "source": [
    "# How to input the data\n",
    "# Input"
   ]
  },
  {
   "cell_type": "code",
   "execution_count": null,
   "metadata": {},
   "outputs": [],
   "source": [
    "# we have two types of variables \n",
    "# Global \n",
    "# Local\n"
   ]
  },
  {
   "cell_type": "code",
   "execution_count": null,
   "metadata": {},
   "outputs": [],
   "source": [
    "#Input() >> this will ask the user to enter the value"
   ]
  },
  {
   "cell_type": "code",
   "execution_count": 7,
   "metadata": {},
   "outputs": [
    {
     "name": "stdout",
     "output_type": "stream",
     "text": [
      "what is the rollnumber123\n"
     ]
    },
    {
     "data": {
      "text/plain": [
       "'123'"
      ]
     },
     "execution_count": 7,
     "metadata": {},
     "output_type": "execute_result"
    }
   ],
   "source": [
    "input(\"what is the rollnumber\")"
   ]
  },
  {
   "cell_type": "code",
   "execution_count": null,
   "metadata": {},
   "outputs": [],
   "source": [
    "#concatenation operators >> these are used to add one or more strings"
   ]
  },
  {
   "cell_type": "code",
   "execution_count": 9,
   "metadata": {},
   "outputs": [],
   "source": [
    "a = 'Hi'"
   ]
  },
  {
   "cell_type": "code",
   "execution_count": 10,
   "metadata": {},
   "outputs": [],
   "source": [
    "b = 'jai'"
   ]
  },
  {
   "cell_type": "code",
   "execution_count": 11,
   "metadata": {},
   "outputs": [
    {
     "name": "stdout",
     "output_type": "stream",
     "text": [
      "Hijai\n"
     ]
    }
   ],
   "source": [
    "print( a + b)"
   ]
  },
  {
   "cell_type": "code",
   "execution_count": 12,
   "metadata": {},
   "outputs": [
    {
     "name": "stdout",
     "output_type": "stream",
     "text": [
      "Hi jai\n"
     ]
    }
   ],
   "source": [
    "print( a +' '+ b)"
   ]
  },
  {
   "cell_type": "code",
   "execution_count": 14,
   "metadata": {},
   "outputs": [
    {
     "name": "stdout",
     "output_type": "stream",
     "text": [
      "wht is the rollnumber123\n",
      "Your Roll123\n"
     ]
    }
   ],
   "source": [
    "print('Your Roll'+input(\"wht is the rollnumber\"))"
   ]
  },
  {
   "cell_type": "code",
   "execution_count": 15,
   "metadata": {},
   "outputs": [
    {
     "name": "stdout",
     "output_type": "stream",
     "text": [
      "wht is the rollnumber: 123\n",
      "Your Roll 123\n"
     ]
    }
   ],
   "source": [
    "print('Your Roll '+input(\"wht is the rollnumber: \"))"
   ]
  },
  {
   "cell_type": "code",
   "execution_count": 16,
   "metadata": {},
   "outputs": [
    {
     "name": "stdout",
     "output_type": "stream",
     "text": [
      "wht is the rollnumber: 123\n"
     ]
    }
   ],
   "source": [
    "a = input(\"wht is the rollnumber: \")"
   ]
  },
  {
   "cell_type": "code",
   "execution_count": 17,
   "metadata": {},
   "outputs": [
    {
     "data": {
      "text/plain": [
       "str"
      ]
     },
     "execution_count": 17,
     "metadata": {},
     "output_type": "execute_result"
    }
   ],
   "source": [
    "type(a)"
   ]
  },
  {
   "cell_type": "code",
   "execution_count": 18,
   "metadata": {},
   "outputs": [
    {
     "name": "stdout",
     "output_type": "stream",
     "text": [
      "Your Roll 123\n"
     ]
    }
   ],
   "source": [
    "print('Your Roll '+ a)"
   ]
  },
  {
   "cell_type": "code",
   "execution_count": 21,
   "metadata": {},
   "outputs": [
    {
     "name": "stdout",
     "output_type": "stream",
     "text": [
      "5\n"
     ]
    }
   ],
   "source": [
    "print(2 + 3)"
   ]
  },
  {
   "cell_type": "code",
   "execution_count": 24,
   "metadata": {},
   "outputs": [
    {
     "ename": "IndentationError",
     "evalue": "unexpected indent (<ipython-input-24-49e1becec228>, line 3)",
     "output_type": "error",
     "traceback": [
      "\u001b[1;36m  File \u001b[1;32m\"<ipython-input-24-49e1becec228>\"\u001b[1;36m, line \u001b[1;32m3\u001b[0m\n\u001b[1;33m    print(a)\u001b[0m\n\u001b[1;37m    ^\u001b[0m\n\u001b[1;31mIndentationError\u001b[0m\u001b[1;31m:\u001b[0m unexpected indent\n"
     ]
    }
   ],
   "source": [
    "# Python is very strict in indentation \n",
    "\n",
    "print(a)\n",
    "#while loop \n",
    "#    --- do statements ---\n",
    "#    --- do statements ---\n",
    "#    --- do statements ---\n",
    "#    --- do statements ---\n",
    "#    --- do statements ---\n",
    "# end loop\n"
   ]
  },
  {
   "cell_type": "code",
   "execution_count": null,
   "metadata": {},
   "outputs": [],
   "source": [
    "HW >>\n",
    "   write the input statements to input some value from user to enter his dob asking in 3 statements\n",
    "    concatinate it in the proper way of (mm/DD/yyyy)\n",
    "# Hw >> Create a user defined funcion and check the global and local variables"
   ]
  },
  {
   "cell_type": "code",
   "execution_count": null,
   "metadata": {},
   "outputs": [],
   "source": [
    " # operators\n",
    "    = ,== ,And  /  not  \n",
    "    \n",
    "    "
   ]
  },
  {
   "cell_type": "code",
   "execution_count": 25,
   "metadata": {},
   "outputs": [
    {
     "name": "stdout",
     "output_type": "stream",
     "text": [
      "False\n"
     ]
    }
   ],
   "source": [
    "a = 1\n",
    "b = 2\n",
    "c = 3\n",
    "\n",
    "print(a > b)\n"
   ]
  },
  {
   "cell_type": "code",
   "execution_count": 26,
   "metadata": {},
   "outputs": [
    {
     "name": "stdout",
     "output_type": "stream",
     "text": [
      "True\n"
     ]
    }
   ],
   "source": [
    "print(a < b and b < c )"
   ]
  },
  {
   "cell_type": "code",
   "execution_count": 27,
   "metadata": {},
   "outputs": [
    {
     "name": "stdout",
     "output_type": "stream",
     "text": [
      "False\n"
     ]
    }
   ],
   "source": [
    "print(a < b and b > c )"
   ]
  },
  {
   "cell_type": "code",
   "execution_count": 29,
   "metadata": {},
   "outputs": [
    {
     "name": "stdout",
     "output_type": "stream",
     "text": [
      "False\n"
     ]
    }
   ],
   "source": [
    "print(a == b and b < c )"
   ]
  },
  {
   "cell_type": "code",
   "execution_count": null,
   "metadata": {},
   "outputs": [],
   "source": [
    "a = 1\n",
    "b = 1\n",
    "c = 3"
   ]
  },
  {
   "cell_type": "code",
   "execution_count": 35,
   "metadata": {},
   "outputs": [
    {
     "name": "stdout",
     "output_type": "stream",
     "text": [
      "True\n"
     ]
    }
   ],
   "source": [
    "print(a < b or b > c )"
   ]
  },
  {
   "cell_type": "code",
   "execution_count": null,
   "metadata": {},
   "outputs": [],
   "source": [
    "#Naming conventions\n",
    "\n",
    "1) we have to have the starting word to be a character\n",
    "\n",
    "a123 (right)\n",
    "1emp (wrong)\n",
    "a_123 (right)\n",
    "_a (right)\n",
    "\n",
    "you can use the Captial letters, small letters and numericals"
   ]
  },
  {
   "cell_type": "code",
   "execution_count": 36,
   "metadata": {},
   "outputs": [],
   "source": [
    "# Functions >>\n",
    "\n",
    "# we can use the functions in multiple times\n",
    "# no need to rewrite the whole code\n",
    "# Global variable \n",
    "    # \n",
    "# Local Variable\n",
    "\n",
    "# To create a user defined function below is the syntax\n",
    "\n",
    "# def <name of function>():\n",
    "#         --- statements --\n",
    "# to call the function <functionName>()\n",
    "\n",
    "def rollnumber():\n",
    "        roll = 25\n",
    "        \n",
    "        print(roll)\n",
    "        "
   ]
  },
  {
   "cell_type": "code",
   "execution_count": 37,
   "metadata": {},
   "outputs": [
    {
     "name": "stdout",
     "output_type": "stream",
     "text": [
      "25\n"
     ]
    }
   ],
   "source": [
    "rollnumber()"
   ]
  },
  {
   "cell_type": "code",
   "execution_count": 38,
   "metadata": {},
   "outputs": [],
   "source": [
    "roll = 50"
   ]
  },
  {
   "cell_type": "code",
   "execution_count": 39,
   "metadata": {},
   "outputs": [
    {
     "name": "stdout",
     "output_type": "stream",
     "text": [
      "25\n"
     ]
    }
   ],
   "source": [
    "rollnumber()"
   ]
  },
  {
   "cell_type": "code",
   "execution_count": 40,
   "metadata": {},
   "outputs": [
    {
     "name": "stdout",
     "output_type": "stream",
     "text": [
      "50\n"
     ]
    }
   ],
   "source": [
    "print(roll)"
   ]
  },
  {
   "cell_type": "code",
   "execution_count": 46,
   "metadata": {},
   "outputs": [
    {
     "name": "stdout",
     "output_type": "stream",
     "text": [
      "50\n",
      "75\n"
     ]
    }
   ],
   "source": [
    "roll = 75\n",
    "def rollnumber():\n",
    "        roll = 50\n",
    "        print(roll)\n",
    "rollnumber()        \n",
    "print(roll)"
   ]
  },
  {
   "cell_type": "code",
   "execution_count": 43,
   "metadata": {},
   "outputs": [
    {
     "name": "stdout",
     "output_type": "stream",
     "text": [
      "50\n"
     ]
    }
   ],
   "source": [
    "rollnumber()"
   ]
  },
  {
   "cell_type": "code",
   "execution_count": 44,
   "metadata": {},
   "outputs": [
    {
     "name": "stdout",
     "output_type": "stream",
     "text": [
      "75\n"
     ]
    }
   ],
   "source": [
    "print(roll)"
   ]
  },
  {
   "cell_type": "code",
   "execution_count": null,
   "metadata": {},
   "outputs": [],
   "source": [
    "def rollnumber():\n",
    "        roll = 50\n",
    "        print(roll)\n",
    "rollnumber()        \n",
    "print(roll)"
   ]
  },
  {
   "cell_type": "code",
   "execution_count": null,
   "metadata": {},
   "outputs": [],
   "source": [
    "# Hw >> Create a user defined funcion and check the global and local variables"
   ]
  },
  {
   "cell_type": "code",
   "execution_count": null,
   "metadata": {},
   "outputs": [],
   "source": [
    "# In python we deal with containers >>\n",
    "\n",
    "# what is container  >> the space of memory where the values are assigned and we can do the manipulation on it.\n",
    "# Tuples\n",
    "# Dictionaries (dict)\n"
   ]
  },
  {
   "cell_type": "code",
   "execution_count": null,
   "metadata": {},
   "outputs": [],
   "source": [
    "# what are tuples\n",
    "# it can store the number,characters , float or boolean \n",
    "# it can be indexed\n",
    "# it can be sliced\n",
    "# it can be converted to other containers\n"
   ]
  },
  {
   "cell_type": "code",
   "execution_count": 47,
   "metadata": {},
   "outputs": [],
   "source": [
    "a = (1,2,3,4,5)"
   ]
  },
  {
   "cell_type": "code",
   "execution_count": 48,
   "metadata": {},
   "outputs": [
    {
     "data": {
      "text/plain": [
       "tuple"
      ]
     },
     "execution_count": 48,
     "metadata": {},
     "output_type": "execute_result"
    }
   ],
   "source": [
    "type(a)"
   ]
  },
  {
   "cell_type": "code",
   "execution_count": 2,
   "metadata": {},
   "outputs": [],
   "source": [
    "a = (1,2,3,4,5,'abc','def',14.2)"
   ]
  },
  {
   "cell_type": "code",
   "execution_count": 3,
   "metadata": {},
   "outputs": [
    {
     "data": {
      "text/plain": [
       "tuple"
      ]
     },
     "execution_count": 3,
     "metadata": {},
     "output_type": "execute_result"
    }
   ],
   "source": [
    "type(a)"
   ]
  },
  {
   "cell_type": "code",
   "execution_count": 4,
   "metadata": {},
   "outputs": [
    {
     "name": "stdout",
     "output_type": "stream",
     "text": [
      "(1, 2, 3, 4, 5, 'abc', 'def', 14.2)\n"
     ]
    }
   ],
   "source": [
    "print(a)"
   ]
  },
  {
   "cell_type": "code",
   "execution_count": 4,
   "metadata": {},
   "outputs": [],
   "source": [
    "# using the Index we can get the specific data as needed. "
   ]
  },
  {
   "cell_type": "code",
   "execution_count": 5,
   "metadata": {},
   "outputs": [],
   "source": [
    "b = a[:4]"
   ]
  },
  {
   "cell_type": "code",
   "execution_count": 6,
   "metadata": {},
   "outputs": [
    {
     "name": "stdout",
     "output_type": "stream",
     "text": [
      "(1, 2, 3, 4)\n"
     ]
    }
   ],
   "source": [
    "print(b)"
   ]
  },
  {
   "cell_type": "code",
   "execution_count": 7,
   "metadata": {},
   "outputs": [],
   "source": [
    "# we have the negative indeing also which will pull the data from reverse."
   ]
  },
  {
   "cell_type": "code",
   "execution_count": 8,
   "metadata": {},
   "outputs": [],
   "source": [
    "b = a[-4:]"
   ]
  },
  {
   "cell_type": "code",
   "execution_count": 9,
   "metadata": {},
   "outputs": [
    {
     "name": "stdout",
     "output_type": "stream",
     "text": [
      "(5, 'abc', 'def', 14.2)\n"
     ]
    }
   ],
   "source": [
    "print(b)"
   ]
  },
  {
   "cell_type": "code",
   "execution_count": 11,
   "metadata": {},
   "outputs": [
    {
     "name": "stdout",
     "output_type": "stream",
     "text": [
      "(3, 4, 5, 'abc')\n"
     ]
    }
   ],
   "source": [
    "print(a[2:6])"
   ]
  },
  {
   "cell_type": "code",
   "execution_count": 12,
   "metadata": {},
   "outputs": [
    {
     "name": "stdout",
     "output_type": "stream",
     "text": [
      "(1, 3, 5, 'def')\n"
     ]
    }
   ],
   "source": [
    "# skipping the values \n",
    "print(a[::2])\n"
   ]
  },
  {
   "cell_type": "code",
   "execution_count": 13,
   "metadata": {},
   "outputs": [
    {
     "name": "stdout",
     "output_type": "stream",
     "text": [
      "(1, 5)\n"
     ]
    }
   ],
   "source": [
    "print(a[::4])"
   ]
  },
  {
   "cell_type": "code",
   "execution_count": 14,
   "metadata": {},
   "outputs": [
    {
     "name": "stdout",
     "output_type": "stream",
     "text": [
      "(5, 'abc', 'def', 14.2)\n"
     ]
    }
   ],
   "source": [
    "# Concatination + and nested tupels are different\n",
    "\n",
    "print(b)"
   ]
  },
  {
   "cell_type": "code",
   "execution_count": 15,
   "metadata": {},
   "outputs": [
    {
     "name": "stdout",
     "output_type": "stream",
     "text": [
      "(1, 2, 3, 4, 5, 'abc', 'def', 14.2)\n"
     ]
    }
   ],
   "source": [
    "print(a)"
   ]
  },
  {
   "cell_type": "code",
   "execution_count": 16,
   "metadata": {},
   "outputs": [],
   "source": [
    "# nested tuple\n",
    "c =(a,b)"
   ]
  },
  {
   "cell_type": "code",
   "execution_count": 18,
   "metadata": {},
   "outputs": [
    {
     "name": "stdout",
     "output_type": "stream",
     "text": [
      "<class 'tuple'>\n"
     ]
    }
   ],
   "source": [
    "print(type(c))"
   ]
  },
  {
   "cell_type": "code",
   "execution_count": 19,
   "metadata": {},
   "outputs": [
    {
     "name": "stdout",
     "output_type": "stream",
     "text": [
      "((1, 2, 3, 4, 5, 'abc', 'def', 14.2), (5, 'abc', 'def', 14.2))\n"
     ]
    }
   ],
   "source": [
    "print(c)"
   ]
  },
  {
   "cell_type": "code",
   "execution_count": 21,
   "metadata": {},
   "outputs": [
    {
     "name": "stdout",
     "output_type": "stream",
     "text": [
      "2\n"
     ]
    }
   ],
   "source": [
    "print(len(c))"
   ]
  },
  {
   "cell_type": "code",
   "execution_count": 22,
   "metadata": {},
   "outputs": [
    {
     "name": "stdout",
     "output_type": "stream",
     "text": [
      "(5, 'abc', 'def', 14.2)\n"
     ]
    }
   ],
   "source": [
    "print(c[1])"
   ]
  },
  {
   "cell_type": "code",
   "execution_count": 23,
   "metadata": {},
   "outputs": [],
   "source": [
    "#concatenation\n",
    "d = (a + b)"
   ]
  },
  {
   "cell_type": "code",
   "execution_count": 24,
   "metadata": {},
   "outputs": [
    {
     "name": "stdout",
     "output_type": "stream",
     "text": [
      "<class 'tuple'>\n"
     ]
    }
   ],
   "source": [
    "print(type(d))"
   ]
  },
  {
   "cell_type": "code",
   "execution_count": 25,
   "metadata": {},
   "outputs": [
    {
     "name": "stdout",
     "output_type": "stream",
     "text": [
      "(1, 2, 3, 4, 5, 'abc', 'def', 14.2, 5, 'abc', 'def', 14.2)\n"
     ]
    }
   ],
   "source": [
    "print(d)"
   ]
  },
  {
   "cell_type": "code",
   "execution_count": 26,
   "metadata": {},
   "outputs": [
    {
     "name": "stdout",
     "output_type": "stream",
     "text": [
      "12\n"
     ]
    }
   ],
   "source": [
    "print(len(d))"
   ]
  },
  {
   "cell_type": "code",
   "execution_count": null,
   "metadata": {},
   "outputs": [],
   "source": [
    "# HW >>\n",
    "# min \n",
    "# max"
   ]
  },
  {
   "cell_type": "code",
   "execution_count": 27,
   "metadata": {},
   "outputs": [],
   "source": [
    "singleval = (1)"
   ]
  },
  {
   "cell_type": "code",
   "execution_count": 28,
   "metadata": {},
   "outputs": [
    {
     "data": {
      "text/plain": [
       "int"
      ]
     },
     "execution_count": 28,
     "metadata": {},
     "output_type": "execute_result"
    }
   ],
   "source": [
    "type(singleval)"
   ]
  },
  {
   "cell_type": "code",
   "execution_count": 29,
   "metadata": {},
   "outputs": [],
   "source": [
    "singleval = (1,)"
   ]
  },
  {
   "cell_type": "code",
   "execution_count": 30,
   "metadata": {},
   "outputs": [
    {
     "data": {
      "text/plain": [
       "tuple"
      ]
     },
     "execution_count": 30,
     "metadata": {},
     "output_type": "execute_result"
    }
   ],
   "source": [
    "type(singleval)"
   ]
  },
  {
   "cell_type": "code",
   "execution_count": 31,
   "metadata": {},
   "outputs": [],
   "source": [
    "emptyt = ()"
   ]
  },
  {
   "cell_type": "code",
   "execution_count": 32,
   "metadata": {},
   "outputs": [
    {
     "name": "stdout",
     "output_type": "stream",
     "text": [
      "<class 'tuple'>\n"
     ]
    }
   ],
   "source": [
    "print(type(emptyt))"
   ]
  },
  {
   "cell_type": "code",
   "execution_count": null,
   "metadata": {},
   "outputs": [],
   "source": [
    "#HW >> Create empty  tuple \n",
    "# add the values to it\n",
    "# i need the values of 10"
   ]
  },
  {
   "cell_type": "code",
   "execution_count": 35,
   "metadata": {},
   "outputs": [],
   "source": [
    "tpl2 = d"
   ]
  },
  {
   "cell_type": "code",
   "execution_count": 36,
   "metadata": {},
   "outputs": [
    {
     "data": {
      "text/plain": [
       "12"
      ]
     },
     "execution_count": 36,
     "metadata": {},
     "output_type": "execute_result"
    }
   ],
   "source": [
    "len(tpl2)"
   ]
  },
  {
   "cell_type": "code",
   "execution_count": 37,
   "metadata": {},
   "outputs": [
    {
     "name": "stdout",
     "output_type": "stream",
     "text": [
      "1\n",
      "2\n",
      "3\n",
      "4\n",
      "5\n",
      "abc\n",
      "def\n",
      "14.2\n",
      "5\n",
      "abc\n",
      "def\n",
      "14.2\n"
     ]
    }
   ],
   "source": [
    "for x in tpl2:\n",
    "    print(x)"
   ]
  },
  {
   "cell_type": "code",
   "execution_count": 39,
   "metadata": {},
   "outputs": [
    {
     "name": "stdout",
     "output_type": "stream",
     "text": [
      "1\n",
      "2\n",
      "3\n",
      "4\n",
      "5\n",
      "abc\n",
      "def\n",
      "14.2\n",
      "5\n",
      "abc\n",
      "def\n",
      "14.2\n"
     ]
    }
   ],
   "source": [
    "# to read the data using index values we will use len and range system functions\n",
    "\n",
    "for x in range(len(tpl2)):\n",
    "    print(tpl2[x])"
   ]
  },
  {
   "cell_type": "code",
   "execution_count": 31,
   "metadata": {},
   "outputs": [],
   "source": [
    "# Lists \n",
    "lst1 = ['data','code','pass',1,45,78,33.5,True,1,0]\n"
   ]
  },
  {
   "cell_type": "code",
   "execution_count": 2,
   "metadata": {},
   "outputs": [
    {
     "name": "stdout",
     "output_type": "stream",
     "text": [
      "['data', 'code', 'pass', 1, 45, 78, 33.5, True, 1, 0]\n"
     ]
    }
   ],
   "source": [
    "print(lst1)"
   ]
  },
  {
   "cell_type": "code",
   "execution_count": 3,
   "metadata": {},
   "outputs": [
    {
     "name": "stdout",
     "output_type": "stream",
     "text": [
      "<class 'list'>\n"
     ]
    }
   ],
   "source": [
    "print(type(lst1))"
   ]
  },
  {
   "cell_type": "code",
   "execution_count": 4,
   "metadata": {},
   "outputs": [
    {
     "name": "stdout",
     "output_type": "stream",
     "text": [
      "['data', 'code', 'pass', 1, 45]\n"
     ]
    }
   ],
   "source": [
    "print(lst1[:5]) "
   ]
  },
  {
   "cell_type": "code",
   "execution_count": 5,
   "metadata": {},
   "outputs": [
    {
     "name": "stdout",
     "output_type": "stream",
     "text": [
      "[1, 45, 78, 33.5, True]\n"
     ]
    }
   ],
   "source": [
    "print(lst1[3:8]) "
   ]
  },
  {
   "cell_type": "code",
   "execution_count": 6,
   "metadata": {},
   "outputs": [],
   "source": [
    "# Hw >>\n",
    "    # practice the other \n",
    "    # pull only last 4 items\n",
    "        "
   ]
  },
  {
   "cell_type": "code",
   "execution_count": 7,
   "metadata": {},
   "outputs": [],
   "source": [
    "# change the individual values\n",
    "lst1[0] = 'data3'"
   ]
  },
  {
   "cell_type": "code",
   "execution_count": 8,
   "metadata": {},
   "outputs": [
    {
     "name": "stdout",
     "output_type": "stream",
     "text": [
      "['data3', 'code', 'pass', 1, 45, 78, 33.5, True, 1, 0]\n"
     ]
    }
   ],
   "source": [
    "print(lst1)"
   ]
  },
  {
   "cell_type": "code",
   "execution_count": 9,
   "metadata": {},
   "outputs": [],
   "source": [
    "lst1[-1] = '500'"
   ]
  },
  {
   "cell_type": "code",
   "execution_count": 10,
   "metadata": {},
   "outputs": [
    {
     "name": "stdout",
     "output_type": "stream",
     "text": [
      "['data3', 'code', 'pass', 1, 45, 78, 33.5, True, 1, '500']\n"
     ]
    }
   ],
   "source": [
    "print(lst1)"
   ]
  },
  {
   "cell_type": "code",
   "execution_count": 11,
   "metadata": {},
   "outputs": [],
   "source": [
    "# change the values in a range\n",
    "lst1[1:3]= [\"a\",\"b\"]"
   ]
  },
  {
   "cell_type": "code",
   "execution_count": 12,
   "metadata": {},
   "outputs": [
    {
     "name": "stdout",
     "output_type": "stream",
     "text": [
      "['data3', 'a', 'b', 1, 45, 78, 33.5, True, 1, '500']\n"
     ]
    }
   ],
   "source": [
    "print(lst1)"
   ]
  },
  {
   "cell_type": "code",
   "execution_count": 13,
   "metadata": {},
   "outputs": [],
   "source": [
    "# Add items to the list\n",
    "# 1) append()\n",
    "# 2) Insert\n",
    "lst1.append(\"core\")"
   ]
  },
  {
   "cell_type": "code",
   "execution_count": 14,
   "metadata": {},
   "outputs": [
    {
     "name": "stdout",
     "output_type": "stream",
     "text": [
      "['data3', 'a', 'b', 1, 45, 78, 33.5, True, 1, '500', 'core']\n"
     ]
    }
   ],
   "source": [
    "print(lst1)"
   ]
  },
  {
   "cell_type": "code",
   "execution_count": 15,
   "metadata": {},
   "outputs": [],
   "source": [
    "lst1.insert(1,\"core\")"
   ]
  },
  {
   "cell_type": "code",
   "execution_count": 16,
   "metadata": {},
   "outputs": [
    {
     "name": "stdout",
     "output_type": "stream",
     "text": [
      "['data3', 'core', 'a', 'b', 1, 45, 78, 33.5, True, 1, '500', 'core']\n"
     ]
    }
   ],
   "source": [
    "print(lst1)"
   ]
  },
  {
   "cell_type": "markdown",
   "metadata": {},
   "source": [
    "# Remove >> To delete , or clear the existing list\n",
    "remove \n",
    "pop >> with index >> will remove only the indexed value\n",
    "pop  >> with out index will delete the values randomly\n",
    "del >> to delte the list\n",
    "clear >> to clear all the values in thelist\n",
    "\n"
   ]
  },
  {
   "cell_type": "code",
   "execution_count": 17,
   "metadata": {},
   "outputs": [],
   "source": [
    "lst1.remove(\"core\")\n",
    "# if we have duplicates and the same value is deleted then it will delete the first occurance.\n"
   ]
  },
  {
   "cell_type": "code",
   "execution_count": 18,
   "metadata": {},
   "outputs": [
    {
     "name": "stdout",
     "output_type": "stream",
     "text": [
      "['data3', 'a', 'b', 1, 45, 78, 33.5, True, 1, '500', 'core']\n"
     ]
    }
   ],
   "source": [
    "print(lst1)"
   ]
  },
  {
   "cell_type": "code",
   "execution_count": 19,
   "metadata": {},
   "outputs": [
    {
     "data": {
      "text/plain": [
       "'core'"
      ]
     },
     "execution_count": 19,
     "metadata": {},
     "output_type": "execute_result"
    }
   ],
   "source": [
    "# the pop() function will delete any value randomly\n",
    "lst1.pop()"
   ]
  },
  {
   "cell_type": "code",
   "execution_count": 20,
   "metadata": {},
   "outputs": [
    {
     "data": {
      "text/plain": [
       "'a'"
      ]
     },
     "execution_count": 20,
     "metadata": {},
     "output_type": "execute_result"
    }
   ],
   "source": [
    "lst1.pop(1)"
   ]
  },
  {
   "cell_type": "code",
   "execution_count": 21,
   "metadata": {},
   "outputs": [
    {
     "name": "stdout",
     "output_type": "stream",
     "text": [
      "['data3', 'b', 1, 45, 78, 33.5, True, 1, '500']\n"
     ]
    }
   ],
   "source": [
    "print(lst1)"
   ]
  },
  {
   "cell_type": "code",
   "execution_count": 22,
   "metadata": {},
   "outputs": [],
   "source": [
    "lst2 = lst1"
   ]
  },
  {
   "cell_type": "code",
   "execution_count": 23,
   "metadata": {},
   "outputs": [],
   "source": [
    "del lst1"
   ]
  },
  {
   "cell_type": "code",
   "execution_count": 24,
   "metadata": {},
   "outputs": [
    {
     "ename": "NameError",
     "evalue": "name 'lst1' is not defined",
     "output_type": "error",
     "traceback": [
      "\u001b[1;31m---------------------------------------------------------------------------\u001b[0m",
      "\u001b[1;31mNameError\u001b[0m                                 Traceback (most recent call last)",
      "\u001b[1;32m<ipython-input-24-11e7a8a8aec1>\u001b[0m in \u001b[0;36m<module>\u001b[1;34m\u001b[0m\n\u001b[1;32m----> 1\u001b[1;33m \u001b[0mprint\u001b[0m\u001b[1;33m(\u001b[0m\u001b[0mlst1\u001b[0m\u001b[1;33m)\u001b[0m\u001b[1;33m\u001b[0m\u001b[1;33m\u001b[0m\u001b[0m\n\u001b[0m",
      "\u001b[1;31mNameError\u001b[0m: name 'lst1' is not defined"
     ]
    }
   ],
   "source": [
    "print(lst1)"
   ]
  },
  {
   "cell_type": "code",
   "execution_count": 25,
   "metadata": {},
   "outputs": [
    {
     "name": "stdout",
     "output_type": "stream",
     "text": [
      "['data3', 'b', 1, 45, 78, 33.5, True, 1, '500']\n"
     ]
    }
   ],
   "source": [
    "print(lst2)"
   ]
  },
  {
   "cell_type": "code",
   "execution_count": 26,
   "metadata": {},
   "outputs": [],
   "source": [
    "lst3 = lst2"
   ]
  },
  {
   "cell_type": "code",
   "execution_count": 27,
   "metadata": {},
   "outputs": [],
   "source": [
    "lst2.clear()"
   ]
  },
  {
   "cell_type": "code",
   "execution_count": 28,
   "metadata": {},
   "outputs": [
    {
     "name": "stdout",
     "output_type": "stream",
     "text": [
      "[]\n"
     ]
    }
   ],
   "source": [
    "print(lst2)"
   ]
  },
  {
   "cell_type": "code",
   "execution_count": null,
   "metadata": {},
   "outputs": [],
   "source": [
    "# loop i list\n",
    "# append\n",
    "# sorting\n",
    "# difference between delete and pop\n",
    "# tuple\n",
    "   # how to change the values\n",
    "    "
   ]
  },
  {
   "cell_type": "code",
   "execution_count": 32,
   "metadata": {},
   "outputs": [
    {
     "name": "stdout",
     "output_type": "stream",
     "text": [
      "['data', 'code', 'pass', 1, 45, 78, 33.5, True, 1, 0]\n"
     ]
    }
   ],
   "source": [
    "print(lst1)"
   ]
  },
  {
   "cell_type": "code",
   "execution_count": 33,
   "metadata": {},
   "outputs": [
    {
     "name": "stdout",
     "output_type": "stream",
     "text": [
      "data\n",
      "code\n",
      "pass\n",
      "1\n",
      "45\n",
      "78\n",
      "33.5\n",
      "True\n",
      "1\n",
      "0\n"
     ]
    }
   ],
   "source": [
    "# Looping of list\n",
    "for x in lst1:\n",
    "    print(x)"
   ]
  },
  {
   "cell_type": "code",
   "execution_count": 37,
   "metadata": {},
   "outputs": [
    {
     "name": "stdout",
     "output_type": "stream",
     "text": [
      "data\n",
      "code\n",
      "pass\n",
      "1\n",
      "45\n",
      "78\n",
      "33.5\n",
      "True\n",
      "1\n",
      "0\n"
     ]
    }
   ],
   "source": [
    "# getting the values with indexes.\n",
    "for x in range(len(lst1)):\n",
    "    print(lst1[x])"
   ]
  },
  {
   "cell_type": "code",
   "execution_count": 40,
   "metadata": {},
   "outputs": [
    {
     "name": "stdout",
     "output_type": "stream",
     "text": [
      "['code', 'data', 'pass', 1, 45, 78, 33.5, True, 1, 0]\n"
     ]
    }
   ],
   "source": [
    "# sorting\n",
    "print(lst1)\n"
   ]
  },
  {
   "cell_type": "code",
   "execution_count": 41,
   "metadata": {},
   "outputs": [
    {
     "ename": "TypeError",
     "evalue": "'<' not supported between instances of 'int' and 'str'",
     "output_type": "error",
     "traceback": [
      "\u001b[1;31m---------------------------------------------------------------------------\u001b[0m",
      "\u001b[1;31mTypeError\u001b[0m                                 Traceback (most recent call last)",
      "\u001b[1;32m<ipython-input-41-3b40e3e906aa>\u001b[0m in \u001b[0;36m<module>\u001b[1;34m\u001b[0m\n\u001b[1;32m----> 1\u001b[1;33m \u001b[0mlst1\u001b[0m\u001b[1;33m.\u001b[0m\u001b[0msort\u001b[0m\u001b[1;33m(\u001b[0m\u001b[1;33m)\u001b[0m\u001b[1;33m\u001b[0m\u001b[1;33m\u001b[0m\u001b[0m\n\u001b[0m",
      "\u001b[1;31mTypeError\u001b[0m: '<' not supported between instances of 'int' and 'str'"
     ]
    }
   ],
   "source": [
    "lst1.sort()"
   ]
  },
  {
   "cell_type": "code",
   "execution_count": 48,
   "metadata": {},
   "outputs": [],
   "source": [
    "lst4 = [88,46,23,1,9]"
   ]
  },
  {
   "cell_type": "code",
   "execution_count": 49,
   "metadata": {},
   "outputs": [
    {
     "data": {
      "text/plain": [
       "[88, 46, 23, 1, 9]"
      ]
     },
     "execution_count": 49,
     "metadata": {},
     "output_type": "execute_result"
    }
   ],
   "source": [
    "#lst5=lst4.sort()\n",
    "\n",
    "lst4\n"
   ]
  },
  {
   "cell_type": "code",
   "execution_count": 50,
   "metadata": {},
   "outputs": [],
   "source": [
    "# by default the order will be in ascending\n",
    "lst4.sort()"
   ]
  },
  {
   "cell_type": "code",
   "execution_count": 51,
   "metadata": {},
   "outputs": [
    {
     "data": {
      "text/plain": [
       "[1, 9, 23, 46, 88]"
      ]
     },
     "execution_count": 51,
     "metadata": {},
     "output_type": "execute_result"
    }
   ],
   "source": [
    "lst4"
   ]
  },
  {
   "cell_type": "code",
   "execution_count": 52,
   "metadata": {},
   "outputs": [],
   "source": [
    "# order in descending \n",
    "lst4.sort(reverse=True)"
   ]
  },
  {
   "cell_type": "code",
   "execution_count": 53,
   "metadata": {},
   "outputs": [
    {
     "data": {
      "text/plain": [
       "[88, 46, 23, 9, 1]"
      ]
     },
     "execution_count": 53,
     "metadata": {},
     "output_type": "execute_result"
    }
   ],
   "source": [
    "\n",
    "lst4"
   ]
  },
  {
   "cell_type": "code",
   "execution_count": 56,
   "metadata": {},
   "outputs": [],
   "source": [
    "lst5 = lst4.copy()"
   ]
  },
  {
   "cell_type": "code",
   "execution_count": 57,
   "metadata": {},
   "outputs": [
    {
     "name": "stdout",
     "output_type": "stream",
     "text": [
      "[88, 46, 23, 9, 1]\n"
     ]
    }
   ],
   "source": [
    "print(lst5)"
   ]
  },
  {
   "cell_type": "code",
   "execution_count": null,
   "metadata": {},
   "outputs": [],
   "source": [
    "# append\n",
    "# insert\n",
    "# copoy\n",
    "# delete\n",
    "# remove\n",
    "# pop\n",
    "# order "
   ]
  },
  {
   "cell_type": "code",
   "execution_count": null,
   "metadata": {},
   "outputs": [],
   "source": [
    "# Tuples >> Ordered, Un-changeable, and will allow the duplicates.\n",
    "# Lits  >> Ordered,changeable and will allow the duplicates.\n"
   ]
  },
  {
   "cell_type": "code",
   "execution_count": null,
   "metadata": {},
   "outputs": [],
   "source": [
    "# Sets {} \n",
    "# >> Sets will ber used to store multiple items in a single variable\n",
    "# A set is a collection which is un-ordered unchangeable and unidexed\n",
    "# No duplicates are allowed.\n",
    "# False and 0 are same / True and 1 are same"
   ]
  },
  {
   "cell_type": "code",
   "execution_count": 58,
   "metadata": {},
   "outputs": [],
   "source": [
    "st1 = {\"a\",\"b\",\"c\"}"
   ]
  },
  {
   "cell_type": "code",
   "execution_count": 59,
   "metadata": {},
   "outputs": [
    {
     "name": "stdout",
     "output_type": "stream",
     "text": [
      "{'c', 'a', 'b'}\n"
     ]
    }
   ],
   "source": [
    "print(st1)"
   ]
  },
  {
   "cell_type": "code",
   "execution_count": 85,
   "metadata": {},
   "outputs": [],
   "source": [
    "st2 = {\"a\",\"a\",\"b\",\"c\",\"d\",\"d\"} # in this we have added the duplicates but sets will not allow the duplicates"
   ]
  },
  {
   "cell_type": "code",
   "execution_count": 61,
   "metadata": {},
   "outputs": [
    {
     "name": "stdout",
     "output_type": "stream",
     "text": [
      "{'c', 'd', 'a', 'b'}\n"
     ]
    }
   ],
   "source": [
    "print(st2)"
   ]
  },
  {
   "cell_type": "code",
   "execution_count": 62,
   "metadata": {},
   "outputs": [],
   "source": [
    "st3 = {\"a\",\"b\",\"c\",0,False}"
   ]
  },
  {
   "cell_type": "code",
   "execution_count": 63,
   "metadata": {},
   "outputs": [
    {
     "name": "stdout",
     "output_type": "stream",
     "text": [
      "{0, 'c', 'a', 'b'}\n"
     ]
    }
   ],
   "source": [
    "print(st3)"
   ]
  },
  {
   "cell_type": "code",
   "execution_count": 64,
   "metadata": {},
   "outputs": [],
   "source": [
    "st3 = {\"a\",\"b\",\"c\",True,1}"
   ]
  },
  {
   "cell_type": "code",
   "execution_count": 65,
   "metadata": {},
   "outputs": [
    {
     "name": "stdout",
     "output_type": "stream",
     "text": [
      "{True, 'c', 'a', 'b'}\n"
     ]
    }
   ],
   "source": [
    "print(st3)"
   ]
  },
  {
   "cell_type": "code",
   "execution_count": 66,
   "metadata": {},
   "outputs": [],
   "source": [
    "# To Add the new values to the set.\n",
    "st3.add(\"z\")"
   ]
  },
  {
   "cell_type": "code",
   "execution_count": 68,
   "metadata": {},
   "outputs": [
    {
     "name": "stdout",
     "output_type": "stream",
     "text": [
      "{True, 'a', 'b', 'z', 'c'}\n"
     ]
    }
   ],
   "source": [
    "print(st3)"
   ]
  },
  {
   "cell_type": "code",
   "execution_count": 69,
   "metadata": {},
   "outputs": [
    {
     "name": "stdout",
     "output_type": "stream",
     "text": [
      "{'c', 'a', 'b'}\n",
      "{'c', 'd', 'a', 'b'}\n"
     ]
    }
   ],
   "source": [
    "# Update this will also used to add new items to the list.\n",
    "\n",
    "print(st1)\n",
    "print(st2)\n",
    "\n"
   ]
  },
  {
   "cell_type": "code",
   "execution_count": 78,
   "metadata": {},
   "outputs": [
    {
     "ename": "AttributeError",
     "evalue": "'NoneType' object has no attribute 'update'",
     "output_type": "error",
     "traceback": [
      "\u001b[1;31m---------------------------------------------------------------------------\u001b[0m",
      "\u001b[1;31mAttributeError\u001b[0m                            Traceback (most recent call last)",
      "\u001b[1;32m<ipython-input-78-5adb68d3b771>\u001b[0m in \u001b[0;36m<module>\u001b[1;34m\u001b[0m\n\u001b[1;32m----> 1\u001b[1;33m \u001b[0mst1\u001b[0m\u001b[1;33m.\u001b[0m\u001b[0mupdate\u001b[0m\u001b[1;33m(\u001b[0m\u001b[0mst2\u001b[0m\u001b[1;33m)\u001b[0m\u001b[1;33m\u001b[0m\u001b[1;33m\u001b[0m\u001b[0m\n\u001b[0m",
      "\u001b[1;31mAttributeError\u001b[0m: 'NoneType' object has no attribute 'update'"
     ]
    }
   ],
   "source": [
    "st1.update(st2)"
   ]
  },
  {
   "cell_type": "code",
   "execution_count": 75,
   "metadata": {},
   "outputs": [
    {
     "name": "stdout",
     "output_type": "stream",
     "text": [
      "None\n"
     ]
    }
   ],
   "source": [
    "print(st1)"
   ]
  },
  {
   "cell_type": "code",
   "execution_count": null,
   "metadata": {},
   "outputs": [],
   "source": [
    "# Remove set items"
   ]
  },
  {
   "cell_type": "code",
   "execution_count": 77,
   "metadata": {},
   "outputs": [
    {
     "name": "stdout",
     "output_type": "stream",
     "text": [
      "{'c', 'd', 'a', 'b'}\n"
     ]
    }
   ],
   "source": [
    "print(st2)"
   ]
  },
  {
   "cell_type": "code",
   "execution_count": 79,
   "metadata": {},
   "outputs": [],
   "source": [
    "st2.remove(\"a\")"
   ]
  },
  {
   "cell_type": "code",
   "execution_count": 80,
   "metadata": {},
   "outputs": [
    {
     "name": "stdout",
     "output_type": "stream",
     "text": [
      "{'c', 'd', 'b'}\n"
     ]
    }
   ],
   "source": [
    "print(st2)"
   ]
  },
  {
   "cell_type": "code",
   "execution_count": 81,
   "metadata": {},
   "outputs": [],
   "source": [
    "# discard\n",
    "st2.discard(\"b\")"
   ]
  },
  {
   "cell_type": "code",
   "execution_count": 82,
   "metadata": {},
   "outputs": [
    {
     "name": "stdout",
     "output_type": "stream",
     "text": [
      "{'c', 'd'}\n"
     ]
    }
   ],
   "source": [
    "print(st2)"
   ]
  },
  {
   "cell_type": "code",
   "execution_count": 83,
   "metadata": {},
   "outputs": [
    {
     "data": {
      "text/plain": [
       "'c'"
      ]
     },
     "execution_count": 83,
     "metadata": {},
     "output_type": "execute_result"
    }
   ],
   "source": [
    "# pop\n",
    "\n",
    "st2.pop()"
   ]
  },
  {
   "cell_type": "code",
   "execution_count": 84,
   "metadata": {},
   "outputs": [
    {
     "name": "stdout",
     "output_type": "stream",
     "text": [
      "{'d'}\n"
     ]
    }
   ],
   "source": [
    "print(st2)"
   ]
  },
  {
   "cell_type": "code",
   "execution_count": null,
   "metadata": {},
   "outputs": [],
   "source": [
    "# del >> this will delete the set\n",
    "# Clear  >> this will clear the set\n"
   ]
  },
  {
   "cell_type": "code",
   "execution_count": 87,
   "metadata": {},
   "outputs": [],
   "source": [
    "st2.clear()"
   ]
  },
  {
   "cell_type": "code",
   "execution_count": 88,
   "metadata": {},
   "outputs": [
    {
     "data": {
      "text/plain": [
       "set()"
      ]
     },
     "execution_count": 88,
     "metadata": {},
     "output_type": "execute_result"
    }
   ],
   "source": [
    "st2"
   ]
  },
  {
   "cell_type": "code",
   "execution_count": 89,
   "metadata": {},
   "outputs": [],
   "source": [
    "# delete the set using del function\n",
    "del st2"
   ]
  },
  {
   "cell_type": "code",
   "execution_count": 90,
   "metadata": {},
   "outputs": [
    {
     "ename": "NameError",
     "evalue": "name 'st2' is not defined",
     "output_type": "error",
     "traceback": [
      "\u001b[1;31m---------------------------------------------------------------------------\u001b[0m",
      "\u001b[1;31mNameError\u001b[0m                                 Traceback (most recent call last)",
      "\u001b[1;32m<ipython-input-90-d9c030cab1a2>\u001b[0m in \u001b[0;36m<module>\u001b[1;34m\u001b[0m\n\u001b[1;32m----> 1\u001b[1;33m \u001b[0mprint\u001b[0m\u001b[1;33m(\u001b[0m\u001b[0mst2\u001b[0m\u001b[1;33m)\u001b[0m\u001b[1;33m\u001b[0m\u001b[1;33m\u001b[0m\u001b[0m\n\u001b[0m",
      "\u001b[1;31mNameError\u001b[0m: name 'st2' is not defined"
     ]
    }
   ],
   "source": [
    "print(st2)"
   ]
  },
  {
   "cell_type": "code",
   "execution_count": null,
   "metadata": {},
   "outputs": [],
   "source": [
    "# in the remove function if there is no such items to be removed it will raise an error\n",
    "# in the discard functin if there is no item to be removed it will not raise any error.\n"
   ]
  },
  {
   "cell_type": "code",
   "execution_count": null,
   "metadata": {},
   "outputs": [],
   "source": [
    "# Dictionaries >>\n",
    "\n",
    "# A dictioary is a collection which is ordered , changeable and dot now allow duplicates\n",
    "# this uses or shows the data in a Key Value pair\n",
    "\n",
    "# Syntax >>\n",
    "\n",
    "# <dictionary Name> = {\n",
    "#         \"Key1\" : \"value1\",\n",
    "#         \"Key2\" : \"value2\",\n",
    "#         \"Key3\" : \"value3\"\n",
    "# }\n",
    "\n"
   ]
  },
  {
   "cell_type": "code",
   "execution_count": 92,
   "metadata": {},
   "outputs": [],
   "source": [
    "dict1 = {\n",
    "    \"cbrand\" :\"Maruthi\",\n",
    "    \"model\"  : \"swift\",\n",
    "    \"year\"   : 2016    \n",
    "}"
   ]
  },
  {
   "cell_type": "code",
   "execution_count": 93,
   "metadata": {},
   "outputs": [
    {
     "name": "stdout",
     "output_type": "stream",
     "text": [
      "{'cbrand': 'Maruthi', 'model': 'swift', 'year': 2016}\n"
     ]
    }
   ],
   "source": [
    "print(dict1)"
   ]
  },
  {
   "cell_type": "code",
   "execution_count": 94,
   "metadata": {},
   "outputs": [],
   "source": [
    "dict1 = {\n",
    "    \"cbrand\" :\"Maruthi\",\n",
    "    \"model\"  : \"swift\",\n",
    "    \"year\"   : 2016,\n",
    "    \"Accesories\" : [\"fog lamps\",\"wipers\",\"back camera\"]\n",
    "    \n",
    "}"
   ]
  },
  {
   "cell_type": "code",
   "execution_count": 95,
   "metadata": {},
   "outputs": [
    {
     "name": "stdout",
     "output_type": "stream",
     "text": [
      "{'cbrand': 'Maruthi', 'model': 'swift', 'year': 2016, 'Accesories': ['fog lamps', 'wipers', 'back camera']}\n"
     ]
    }
   ],
   "source": [
    "print(dict1)"
   ]
  },
  {
   "cell_type": "code",
   "execution_count": 96,
   "metadata": {},
   "outputs": [],
   "source": [
    "# Change Values \n",
    "dict1 = {\n",
    "    \"cbrand\" :\"Maruthi\",\n",
    "    \"model\"  : \"swift\",\n",
    "    \"year\"   : 2016    \n",
    "}\n",
    "\n",
    "dict1[\"year\"] = 2024\n",
    "\n"
   ]
  },
  {
   "cell_type": "code",
   "execution_count": 97,
   "metadata": {},
   "outputs": [
    {
     "name": "stdout",
     "output_type": "stream",
     "text": [
      "{'cbrand': 'Maruthi', 'model': 'swift', 'year': 2024}\n"
     ]
    }
   ],
   "source": [
    "print(dict1)"
   ]
  },
  {
   "cell_type": "code",
   "execution_count": 99,
   "metadata": {},
   "outputs": [],
   "source": [
    "# update() >> this is also used to update the values\n",
    "dict2 = {\n",
    "    \"cbrand\" :\"Maruthi\",\n",
    "    \"model\"  : \"swift\",\n",
    "    \"year\"   : 2016    \n",
    "}"
   ]
  },
  {
   "cell_type": "code",
   "execution_count": 100,
   "metadata": {},
   "outputs": [],
   "source": [
    "dict2.update({\"year\" : 2060})"
   ]
  },
  {
   "cell_type": "code",
   "execution_count": 101,
   "metadata": {},
   "outputs": [
    {
     "name": "stdout",
     "output_type": "stream",
     "text": [
      "{'cbrand': 'Maruthi', 'model': 'swift', 'year': 2060}\n"
     ]
    }
   ],
   "source": [
    "print(dict2)"
   ]
  },
  {
   "cell_type": "code",
   "execution_count": 102,
   "metadata": {},
   "outputs": [],
   "source": [
    "# Add items >>\n",
    "dict3 = {\n",
    "    \"cbrand\" :\"Maruthi\",\n",
    "    \"model\"  : \"swift\",\n",
    "    \"year\"   : 2016    \n",
    "}\n",
    "dict3[\"cost\"] = 500000"
   ]
  },
  {
   "cell_type": "code",
   "execution_count": 103,
   "metadata": {},
   "outputs": [
    {
     "name": "stdout",
     "output_type": "stream",
     "text": [
      "{'cbrand': 'Maruthi', 'model': 'swift', 'year': 2016, 'cost': 500000}\n"
     ]
    }
   ],
   "source": [
    "print(dict3)"
   ]
  },
  {
   "cell_type": "code",
   "execution_count": 106,
   "metadata": {},
   "outputs": [],
   "source": [
    " # Removing items >>\n",
    "dict4 = dict3"
   ]
  },
  {
   "cell_type": "code",
   "execution_count": 107,
   "metadata": {},
   "outputs": [
    {
     "data": {
      "text/plain": [
       "'swift'"
      ]
     },
     "execution_count": 107,
     "metadata": {},
     "output_type": "execute_result"
    }
   ],
   "source": [
    "dict4.pop(\"model\")"
   ]
  },
  {
   "cell_type": "code",
   "execution_count": 120,
   "metadata": {},
   "outputs": [
    {
     "ename": "AttributeError",
     "evalue": "'dict' object has no attribute 'remove'",
     "output_type": "error",
     "traceback": [
      "\u001b[1;31m---------------------------------------------------------------------------\u001b[0m",
      "\u001b[1;31mAttributeError\u001b[0m                            Traceback (most recent call last)",
      "\u001b[1;32m<ipython-input-120-b91c0f4667be>\u001b[0m in \u001b[0;36m<module>\u001b[1;34m\u001b[0m\n\u001b[1;32m----> 1\u001b[1;33m \u001b[0mdict2\u001b[0m\u001b[1;33m.\u001b[0m\u001b[0mremove\u001b[0m\u001b[1;33m(\u001b[0m\u001b[1;34m\"model\"\u001b[0m\u001b[1;33m)\u001b[0m\u001b[1;33m\u001b[0m\u001b[1;33m\u001b[0m\u001b[0m\n\u001b[0m",
      "\u001b[1;31mAttributeError\u001b[0m: 'dict' object has no attribute 'remove'"
     ]
    }
   ],
   "source": [
    "dict2.remove(\"model\")"
   ]
  },
  {
   "cell_type": "code",
   "execution_count": 119,
   "metadata": {},
   "outputs": [
    {
     "data": {
      "text/plain": [
       "{'cbrand': 'Maruthi', 'model': 'swift', 'year': 2060}"
      ]
     },
     "execution_count": 119,
     "metadata": {},
     "output_type": "execute_result"
    }
   ],
   "source": [
    "dict2"
   ]
  },
  {
   "cell_type": "code",
   "execution_count": 110,
   "metadata": {},
   "outputs": [
    {
     "data": {
      "text/plain": [
       "('cost', 500000)"
      ]
     },
     "execution_count": 110,
     "metadata": {},
     "output_type": "execute_result"
    }
   ],
   "source": [
    "dict4.popitem() # this will delete the last item added."
   ]
  },
  {
   "cell_type": "code",
   "execution_count": 111,
   "metadata": {},
   "outputs": [],
   "source": [
    "del dict4"
   ]
  },
  {
   "cell_type": "code",
   "execution_count": 112,
   "metadata": {},
   "outputs": [
    {
     "ename": "NameError",
     "evalue": "name 'dict4' is not defined",
     "output_type": "error",
     "traceback": [
      "\u001b[1;31m---------------------------------------------------------------------------\u001b[0m",
      "\u001b[1;31mNameError\u001b[0m                                 Traceback (most recent call last)",
      "\u001b[1;32m<ipython-input-112-0859f61ed75d>\u001b[0m in \u001b[0;36m<module>\u001b[1;34m\u001b[0m\n\u001b[1;32m----> 1\u001b[1;33m \u001b[0mprint\u001b[0m\u001b[1;33m(\u001b[0m\u001b[0mdict4\u001b[0m\u001b[1;33m)\u001b[0m\u001b[1;33m\u001b[0m\u001b[1;33m\u001b[0m\u001b[0m\n\u001b[0m",
      "\u001b[1;31mNameError\u001b[0m: name 'dict4' is not defined"
     ]
    }
   ],
   "source": [
    "print(dict4)"
   ]
  },
  {
   "cell_type": "code",
   "execution_count": 114,
   "metadata": {},
   "outputs": [
    {
     "data": {
      "text/plain": [
       "{'cbrand': 'Maruthi', 'model': 'swift', 'year': 2060}"
      ]
     },
     "execution_count": 114,
     "metadata": {},
     "output_type": "execute_result"
    }
   ],
   "source": [
    "dict3"
   ]
  },
  {
   "cell_type": "code",
   "execution_count": 115,
   "metadata": {},
   "outputs": [],
   "source": [
    "dict3.clear()"
   ]
  },
  {
   "cell_type": "code",
   "execution_count": 116,
   "metadata": {},
   "outputs": [
    {
     "data": {
      "text/plain": [
       "{}"
      ]
     },
     "execution_count": 116,
     "metadata": {},
     "output_type": "execute_result"
    }
   ],
   "source": [
    "dict3"
   ]
  },
  {
   "cell_type": "code",
   "execution_count": null,
   "metadata": {},
   "outputs": [],
   "source": [
    "# Tuples >> Ordered, Un-changeable, and will allow the duplicates.\n",
    "# Lits  >> Ordered,changeable and will allow the duplicates.\n",
    "# set >> un-ordered, un-chngeable, un-indexed and no duplicate items\n",
    "# dict >. ordered, changeable and no duplicates"
   ]
  },
  {
   "cell_type": "code",
   "execution_count": null,
   "metadata": {},
   "outputs": [],
   "source": [
    "#03/18/2024\n",
    "# If- Else statements\n",
    "# while Loops\n",
    "# for Loops\n",
    "# functions"
   ]
  },
  {
   "cell_type": "code",
   "execution_count": null,
   "metadata": {},
   "outputs": [],
   "source": [
    "# Conditional Statements\n",
    "'''Conditional statements (if, else, and elif) are fundamental\n",
    "programming constructs that allow you to control the flow \n",
    "of your program based on conditions that you specify'''\n",
    "\n"
   ]
  },
  {
   "cell_type": "code",
   "execution_count": 154,
   "metadata": {},
   "outputs": [
    {
     "name": "stdout",
     "output_type": "stream",
     "text": [
      "enter your age:30\n",
      "Eligible to vote\n"
     ]
    }
   ],
   "source": [
    "age=int(input(\"enter your age:\"))\n",
    "if (age <=18):\n",
    "    print(\"Not elegible to vote\")\n",
    "else:\n",
    "    print(\"Eligible to vote\")    \n",
    "    "
   ]
  },
  {
   "cell_type": "code",
   "execution_count": null,
   "metadata": {},
   "outputs": [],
   "source": [
    "# hw>> odd even"
   ]
  },
  {
   "cell_type": "code",
   "execution_count": 159,
   "metadata": {},
   "outputs": [
    {
     "name": "stdout",
     "output_type": "stream",
     "text": [
      "how many members we have today:10\n"
     ]
    }
   ],
   "source": [
    "#nested if \n",
    "# if we have a scenario where we have an if inside an if condition \n",
    "members=int(input(\"how many members we have today:\"))\n",
    "if members >= 15:\n",
    "        print (\"good count\")\n",
    "        member2=int(input(\"how many members we have yesterday:\"))\n",
    "        if member2 >= 15:\n",
    "            print (\"good count again\")\n",
    "        else:\n",
    "            print(\"Class was cancled yesterday\")\n",
    "print(\"class cancel\") "
   ]
  },
  {
   "cell_type": "code",
   "execution_count": 163,
   "metadata": {},
   "outputs": [
    {
     "name": "stdout",
     "output_type": "stream",
     "text": [
      "Select Your ride:bus\n",
      "Where you want to go:tamilnadu\n",
      "We wont ride\n"
     ]
    }
   ],
   "source": [
    "# If-else & elif\n",
    "ride = input(\"Select Your ride:\")\n",
    "if ride == 'bus':\n",
    "    station =input(\"Where you want to go:\")\n",
    "    if station == 'chennai':\n",
    "        print (\"Ticket cost is 800/- Only\")\n",
    "        \n",
    "    elif station == 'Hyderabad': \n",
    "                print (\"Ticket cost is 900/- Only\")\n",
    "            \n",
    "    elif station == 'mysore':  \n",
    "            print (\"Ticket cost is 600/- Only\")\n",
    "    elif station == 'gurgaon':\n",
    "            print('Ticket cost is 1000/- Only')\n",
    "    else:\n",
    "         print (\"We wont ride\")\n",
    "else:\n",
    "    print(\"Sorry we dont have the ride\")"
   ]
  },
  {
   "cell_type": "code",
   "execution_count": null,
   "metadata": {},
   "outputs": [],
   "source": [
    "'''Hw >>\n",
    "    Create a if else conditions to check the entry of exhibition\n",
    "    if height <= 3 feet \n",
    "        it a free\n",
    "    \n",
    "    height >= 4 and age is < 14 and age > 7\n",
    "        different payment \n",
    "    \n",
    "    height >= 4 and age is > 14 \n",
    "        then its a payment\n",
    "    \n",
    "    height >= 4 and age is > 60\n",
    "        discounted price and give the amount.\n",
    "   '''     "
   ]
  },
  {
   "cell_type": "code",
   "execution_count": null,
   "metadata": {},
   "outputs": [],
   "source": [
    "# Loops >>\n",
    "# For Loop \n",
    "# While Loop"
   ]
  },
  {
   "cell_type": "code",
   "execution_count": null,
   "metadata": {},
   "outputs": [],
   "source": [
    "for <variable> in <name of the dataset>:\n",
    "    <Statements>    "
   ]
  },
  {
   "cell_type": "code",
   "execution_count": null,
   "metadata": {},
   "outputs": [],
   "source": []
  },
  {
   "cell_type": "code",
   "execution_count": 164,
   "metadata": {},
   "outputs": [
    {
     "name": "stdout",
     "output_type": "stream",
     "text": [
      "22\n",
      "33\n",
      "44\n",
      "55\n",
      "66\n"
     ]
    }
   ],
   "source": [
    "list1 = [22,33,44,55,66]\n",
    "for i in list1:\n",
    "    print(i)"
   ]
  },
  {
   "cell_type": "code",
   "execution_count": 167,
   "metadata": {},
   "outputs": [
    {
     "name": "stdout",
     "output_type": "stream",
     "text": [
      "22\n",
      "33\n",
      "44\n",
      "55\n",
      "66\n",
      "Loop completed successfully\n"
     ]
    }
   ],
   "source": [
    "# insertinng other statements\n",
    "list1 = [22,33,44,55,66]\n",
    "for i in list1:\n",
    "    print(i)\n",
    "\n",
    "else: \n",
    "    print(\"Loop completed successfully\")"
   ]
  },
  {
   "cell_type": "code",
   "execution_count": 170,
   "metadata": {},
   "outputs": [
    {
     "name": "stdout",
     "output_type": "stream",
     "text": [
      "22\n",
      "33\n",
      "44\n",
      "55\n",
      "66\n",
      "Loop completed successfully\n",
      "Out of Loop\n"
     ]
    }
   ],
   "source": [
    "# insertinng other statements\n",
    "list1 = [22,33,44,55,66]\n",
    "for i in list1:\n",
    "\n",
    "    if i == 88:\n",
    "        print(\"am goning to exit\")\n",
    "        break\n",
    "        \n",
    "    print(i)\n",
    "else: \n",
    "    print(\"Loop completed successfully\")\n",
    "\n",
    "print (\"Out of Loop\")"
   ]
  },
  {
   "cell_type": "code",
   "execution_count": null,
   "metadata": {},
   "outputs": [],
   "source": [
    "Hw >>\n",
    "1) take the input numbers and then square them and print\n",
    "2) take a emply list put in the squred numbers into it.\n",
    "3) merge both the data sets\n"
   ]
  },
  {
   "cell_type": "code",
   "execution_count": 171,
   "metadata": {},
   "outputs": [
    {
     "name": "stdout",
     "output_type": "stream",
     "text": [
      "10\n",
      "9\n",
      "8\n",
      "7\n",
      "6\n"
     ]
    }
   ],
   "source": [
    "count = 10\n",
    "while count > 5:\n",
    "    print(count)\n",
    "    count -=1   "
   ]
  },
  {
   "cell_type": "code",
   "execution_count": 172,
   "metadata": {},
   "outputs": [
    {
     "name": "stdout",
     "output_type": "stream",
     "text": [
      "10\n",
      "9\n",
      "9\n",
      "8\n",
      "8\n",
      "7\n",
      "7\n",
      "6\n",
      "6\n",
      "5\n",
      "In else block\n",
      "Out of while loop\n"
     ]
    }
   ],
   "source": [
    "count = 10\n",
    "while count > 5:\n",
    "    print(count)\n",
    "    count -=1   \n",
    "    print(count)\n",
    "else:\n",
    "    print(\"In else block\")\n",
    "    \n",
    "print(\"Out of while loop\")"
   ]
  },
  {
   "cell_type": "code",
   "execution_count": 175,
   "metadata": {},
   "outputs": [
    {
     "name": "stdout",
     "output_type": "stream",
     "text": [
      "10\n",
      "9\n",
      "8\n",
      "Out of while loop\n"
     ]
    }
   ],
   "source": [
    "count = 10\n",
    "while count > 5:\n",
    "    print(count)\n",
    "    count -=1   \n",
    "    if count == 7:\n",
    "        break\n",
    "else:\n",
    "    print(\"In else block\")\n",
    "\n",
    "print(\"Out of while loop\") "
   ]
  },
  {
   "cell_type": "code",
   "execution_count": 162,
   "metadata": {},
   "outputs": [
    {
     "name": "stdout",
     "output_type": "stream",
     "text": [
      "hi My name is shiva my age is 40 and am 6 feet hight\n"
     ]
    },
    {
     "data": {
      "text/plain": [
       "'def <function_name> (<optional>): \\n    function_body\\n    return variable <optional> '"
      ]
     },
     "execution_count": 162,
     "metadata": {},
     "output_type": "execute_result"
    }
   ],
   "source": [
    "#20/03/2024 >>\n",
    "# fstring\n",
    "'''\n",
    "    1)conctination operator \n",
    "    2) f string (3.6 and later)\n",
    "'''\n",
    "name = \"shiva\"\n",
    "age = 40\n",
    "height = 6\n",
    "\n",
    "# conactination operators\n",
    "\n",
    "# print(\"Hi my name is \"+name+' my age is 60 ')\n",
    "\n",
    "# print(\"Hi my name is \"+name+' and we are \"Egales\"')\n",
    "\n",
    "#print(f\"<statement {} >\")\n",
    "\n",
    "print(f\"hi My name is {name} my age is {age} and am {height} feet hight\")\n",
    "\n",
    "# >>>>>>>>>>>>>>>>>>>>>>>>>>>>>>>>>>>>>>>>>>>>>>>>>>>>>>>>>>>>>>>>>>>>>>>>>>>>>>>>>>>>\n",
    "\n",
    "# functions\n",
    "'''def <function_name> (<Parameters and is optional>): \n",
    "    function_body\n",
    "    return variable <optional> '''\n",
    "# Functions\n",
    "# 2 types "
   ]
  },
  {
   "cell_type": "code",
   "execution_count": 163,
   "metadata": {},
   "outputs": [],
   "source": [
    "def hi():\n",
    "    pass\n",
    "    print(\"hello world\")\n",
    "    \n",
    "    # Break\n",
    "    # pass\n",
    "    # continue"
   ]
  },
  {
   "cell_type": "code",
   "execution_count": 164,
   "metadata": {},
   "outputs": [
    {
     "name": "stdout",
     "output_type": "stream",
     "text": [
      "hello world\n"
     ]
    }
   ],
   "source": [
    "hi()"
   ]
  },
  {
   "cell_type": "code",
   "execution_count": 165,
   "metadata": {},
   "outputs": [],
   "source": [
    "def hi():\n",
    "    return(\"hello world\")"
   ]
  },
  {
   "cell_type": "code",
   "execution_count": 166,
   "metadata": {},
   "outputs": [
    {
     "data": {
      "text/plain": [
       "'hello world'"
      ]
     },
     "execution_count": 166,
     "metadata": {},
     "output_type": "execute_result"
    }
   ],
   "source": [
    "hi()"
   ]
  },
  {
   "cell_type": "code",
   "execution_count": 167,
   "metadata": {},
   "outputs": [
    {
     "name": "stdout",
     "output_type": "stream",
     "text": [
      "hello world\n"
     ]
    }
   ],
   "source": [
    "print(hi())"
   ]
  },
  {
   "cell_type": "code",
   "execution_count": 168,
   "metadata": {},
   "outputs": [],
   "source": [
    "hi1 = hi()"
   ]
  },
  {
   "cell_type": "code",
   "execution_count": 169,
   "metadata": {},
   "outputs": [
    {
     "name": "stdout",
     "output_type": "stream",
     "text": [
      "hello world\n"
     ]
    }
   ],
   "source": [
    "print(hi1)"
   ]
  },
  {
   "cell_type": "code",
   "execution_count": 170,
   "metadata": {},
   "outputs": [],
   "source": [
    "def hi(name):\n",
    "    print(\"hello\"+name)"
   ]
  },
  {
   "cell_type": "code",
   "execution_count": 171,
   "metadata": {},
   "outputs": [
    {
     "name": "stdout",
     "output_type": "stream",
     "text": [
      "helloram\n"
     ]
    }
   ],
   "source": [
    "hi(\"ram\")"
   ]
  },
  {
   "cell_type": "code",
   "execution_count": null,
   "metadata": {},
   "outputs": [],
   "source": []
  },
  {
   "cell_type": "code",
   "execution_count": 172,
   "metadata": {},
   "outputs": [],
   "source": [
    "def hi(name): # This is called as Parameters\n",
    "    print(\"hello\"+' '+name)\n",
    "    print(\"hello \"+name)\n",
    "    print(f\"hello {name}\")\n",
    "        "
   ]
  },
  {
   "cell_type": "code",
   "execution_count": 173,
   "metadata": {},
   "outputs": [
    {
     "name": "stdout",
     "output_type": "stream",
     "text": [
      "hello ram\n",
      "hello ram\n",
      "hello ram\n"
     ]
    }
   ],
   "source": [
    "hi(\"ram\") # this is called as argument."
   ]
  },
  {
   "cell_type": "code",
   "execution_count": null,
   "metadata": {},
   "outputs": [],
   "source": [
    "#difference between Arguments and parameters\n",
    "#the Actual parameter that user passes is called arguement\n",
    "# the one that is defined during the creation of function is called parameter\n",
    "\n",
    "'''def <function_name> (<optional> -- this is a parameter): \n",
    "    function_body\n",
    "    return variable <optional> >> Arguement '''"
   ]
  },
  {
   "cell_type": "code",
   "execution_count": 174,
   "metadata": {},
   "outputs": [],
   "source": [
    "def add(a,b):\n",
    "    c = a+b\n",
    "    print(c)"
   ]
  },
  {
   "cell_type": "code",
   "execution_count": 175,
   "metadata": {},
   "outputs": [
    {
     "name": "stdout",
     "output_type": "stream",
     "text": [
      "9\n"
     ]
    }
   ],
   "source": [
    "add(6,3)"
   ]
  },
  {
   "cell_type": "code",
   "execution_count": 176,
   "metadata": {},
   "outputs": [],
   "source": [
    "def mult(a,b):\n",
    "    c = a*b\n",
    "    print(c)"
   ]
  },
  {
   "cell_type": "code",
   "execution_count": 177,
   "metadata": {},
   "outputs": [
    {
     "name": "stdout",
     "output_type": "stream",
     "text": [
      "18\n"
     ]
    }
   ],
   "source": [
    "mult(3,6)"
   ]
  },
  {
   "cell_type": "code",
   "execution_count": null,
   "metadata": {},
   "outputs": [],
   "source": [
    "#Hw please work on combining all the mathematical (division/substraction ; even and odd number detection)\n",
    "# 3 function \n",
    "\n",
    "# write a single function to accept from the user \n",
    "# what he wants to do and even and odd number detection has to out of \n",
    "# mathematical and should tell us if the given numbers are \n",
    "# odd or even.\n",
    "\n",
    "# create the funcition which will take the two values and as per the user input we have to perform the given arthmetic operation.\n"
   ]
  },
  {
   "cell_type": "code",
   "execution_count": null,
   "metadata": {},
   "outputs": [],
   "source": [
    "# return values in functions\n",
    "# retrun function will accept the input values and then get processed \n",
    "#and the move the ouput to the caller it is called as return values"
   ]
  },
  {
   "cell_type": "code",
   "execution_count": 21,
   "metadata": {},
   "outputs": [],
   "source": [
    "def add(a,b):\n",
    "    c = a+b\n",
    "    return (c)"
   ]
  },
  {
   "cell_type": "code",
   "execution_count": null,
   "metadata": {},
   "outputs": [],
   "source": [
    "# Process Orinted Programming\n",
    "    # less secure compared to that of OOP's\n",
    "    # the POP is not recommended to use in major Programmes or applications\n",
    "    \n",
    "# Object Oriented Programming\n",
    "    # More secure \n",
    "    # uses inidividual functions which are linked to only one method\n",
    "    # Easy to understand the code and more resuable.\n",
    "    \n",
    "# Lower\n",
    "# sum\n",
    "\n",
    "what is object \n",
    " >> Oriented >> interested in some thing or some one \n",
    "\n",
    "\n",
    "\n",
    "    \n",
    "print('HELLO'.lower())"
   ]
  },
  {
   "cell_type": "code",
   "execution_count": 178,
   "metadata": {},
   "outputs": [
    {
     "name": "stdout",
     "output_type": "stream",
     "text": [
      "<class 'int'>\n"
     ]
    }
   ],
   "source": [
    "a = 10\n",
    "print(type(a))"
   ]
  },
  {
   "cell_type": "code",
   "execution_count": 179,
   "metadata": {},
   "outputs": [
    {
     "name": "stdout",
     "output_type": "stream",
     "text": [
      "hello\n"
     ]
    }
   ],
   "source": [
    "print('HELLO'.lower())"
   ]
  },
  {
   "cell_type": "code",
   "execution_count": 180,
   "metadata": {},
   "outputs": [
    {
     "name": "stdout",
     "output_type": "stream",
     "text": [
      "<class 'str'>\n"
     ]
    }
   ],
   "source": [
    "print(type('hello'))"
   ]
  },
  {
   "cell_type": "code",
   "execution_count": 125,
   "metadata": {},
   "outputs": [
    {
     "name": "stdout",
     "output_type": "stream",
     "text": [
      "<class 'int'>\n"
     ]
    }
   ],
   "source": [
    "print(type(123))"
   ]
  },
  {
   "cell_type": "code",
   "execution_count": 126,
   "metadata": {},
   "outputs": [
    {
     "name": "stdout",
     "output_type": "stream",
     "text": [
      "hello\n"
     ]
    }
   ],
   "source": [
    "print('HELLO'.lower())"
   ]
  },
  {
   "cell_type": "code",
   "execution_count": null,
   "metadata": {},
   "outputs": [],
   "source": [
    "# what is a class \n",
    "    "
   ]
  },
  {
   "cell_type": "code",
   "execution_count": null,
   "metadata": {},
   "outputs": [],
   "source": [
    "# Now lets take the example of building a house\n",
    "\n",
    "# Variable >> attributes\n",
    "    \n",
    "# functions >> methods\n",
    "# Object\n",
    "\n",
    "# syntax >> \n",
    "class <classname>:\n",
    "#    ----\n",
    "#    ---<statements>\n",
    "#    ---\n",
    " \n",
    "\n",
    "\n",
    "\n",
    "# 22/03/2024"
   ]
  },
  {
   "cell_type": "code",
   "execution_count": 192,
   "metadata": {},
   "outputs": [],
   "source": [
    "class building:\n",
    "    pass\n",
    "building_1=building()"
   ]
  },
  {
   "cell_type": "code",
   "execution_count": 193,
   "metadata": {},
   "outputs": [
    {
     "name": "stdout",
     "output_type": "stream",
     "text": [
      "<class '__main__.building'>\n"
     ]
    }
   ],
   "source": [
    "print(type(building_1))"
   ]
  },
  {
   "cell_type": "code",
   "execution_count": 196,
   "metadata": {},
   "outputs": [],
   "source": [
    "building_1=building()\n",
    "building_1.type=\"budget\"\n",
    "building_1.area=\"250yards\"\n"
   ]
  },
  {
   "cell_type": "code",
   "execution_count": 197,
   "metadata": {},
   "outputs": [
    {
     "name": "stdout",
     "output_type": "stream",
     "text": [
      "budget\n"
     ]
    }
   ],
   "source": [
    "print(building_1.type)"
   ]
  },
  {
   "cell_type": "code",
   "execution_count": 198,
   "metadata": {},
   "outputs": [],
   "source": [
    "building_2=building()\n",
    "building_2.type=\"luxurios\"\n",
    "building_2.area=\"600yards\""
   ]
  },
  {
   "cell_type": "code",
   "execution_count": 200,
   "metadata": {},
   "outputs": [
    {
     "name": "stdout",
     "output_type": "stream",
     "text": [
      "600yards\n"
     ]
    }
   ],
   "source": [
    "print(building_2.area)"
   ]
  },
  {
   "cell_type": "code",
   "execution_count": null,
   "metadata": {},
   "outputs": [],
   "source": [
    "# __init__(self): >> this is an initializer which will initialize the attributes of a function\n",
    "# self tell us on which are actually calling the function     "
   ]
  },
  {
   "cell_type": "code",
   "execution_count": 203,
   "metadata": {},
   "outputs": [],
   "source": [
    "class building:\n",
    "    def __init__(self):\n",
    "        print(\"new building\")"
   ]
  },
  {
   "cell_type": "code",
   "execution_count": 204,
   "metadata": {},
   "outputs": [
    {
     "name": "stdout",
     "output_type": "stream",
     "text": [
      "new building\n"
     ]
    }
   ],
   "source": [
    "building_1=building()\n",
    "building_1.type=\"budget\"\n",
    "building_1.area=\"250yards\""
   ]
  },
  {
   "cell_type": "code",
   "execution_count": 205,
   "metadata": {},
   "outputs": [
    {
     "name": "stdout",
     "output_type": "stream",
     "text": [
      "new building\n"
     ]
    }
   ],
   "source": [
    "building_2=building()\n",
    "building_2.type=\"luxurios\"\n",
    "building_2.area=\"600yards\""
   ]
  },
  {
   "cell_type": "code",
   "execution_count": null,
   "metadata": {},
   "outputs": [],
   "source": [
    "# example 2"
   ]
  },
  {
   "cell_type": "code",
   "execution_count": 206,
   "metadata": {},
   "outputs": [],
   "source": [
    "class building:\n",
    "    def __init__(self,build_type, build_area):\n",
    "        self.building1 = build_type\n",
    "        self.area1 = build_area\n",
    "        \n",
    "        print(\"new building\")"
   ]
  },
  {
   "cell_type": "code",
   "execution_count": 207,
   "metadata": {},
   "outputs": [
    {
     "name": "stdout",
     "output_type": "stream",
     "text": [
      "new building\n"
     ]
    }
   ],
   "source": [
    "building_1=building(\"budget\",\"250 sq yards\")"
   ]
  },
  {
   "cell_type": "code",
   "execution_count": 210,
   "metadata": {},
   "outputs": [
    {
     "name": "stdout",
     "output_type": "stream",
     "text": [
      "250 sq yards\n"
     ]
    }
   ],
   "source": [
    "print(building_1.area1)"
   ]
  },
  {
   "cell_type": "code",
   "execution_count": 211,
   "metadata": {},
   "outputs": [
    {
     "name": "stdout",
     "output_type": "stream",
     "text": [
      "budget\n"
     ]
    }
   ],
   "source": [
    "print(building_1.building1)"
   ]
  },
  {
   "cell_type": "code",
   "execution_count": 212,
   "metadata": {},
   "outputs": [],
   "source": [
    "class building:\n",
    "    def __init__(self,build_type, build_area):\n",
    "        self.building1 = build_type\n",
    "        self.area1 = build_area\n",
    "        self.cars = 0 # assigning default value \n",
    "        print(\"new building\")"
   ]
  },
  {
   "cell_type": "code",
   "execution_count": 215,
   "metadata": {},
   "outputs": [
    {
     "name": "stdout",
     "output_type": "stream",
     "text": [
      "new building\n"
     ]
    }
   ],
   "source": [
    "building_1=building(\"budget\",\"250 sq yards\")"
   ]
  },
  {
   "cell_type": "code",
   "execution_count": 216,
   "metadata": {},
   "outputs": [
    {
     "name": "stdout",
     "output_type": "stream",
     "text": [
      "250 sq yards\n"
     ]
    }
   ],
   "source": [
    "print(building_1.area1)"
   ]
  },
  {
   "cell_type": "code",
   "execution_count": 217,
   "metadata": {},
   "outputs": [
    {
     "name": "stdout",
     "output_type": "stream",
     "text": [
      "0\n"
     ]
    }
   ],
   "source": [
    "print(building_1.cars)"
   ]
  },
  {
   "cell_type": "code",
   "execution_count": 218,
   "metadata": {},
   "outputs": [],
   "source": [
    "class building:\n",
    "    cars=0\n",
    "    def __init__(self,build_type, build_area):\n",
    "        self.building1 = build_type\n",
    "        self.area1 = build_area\n",
    "        print(\"new building\")"
   ]
  },
  {
   "cell_type": "code",
   "execution_count": 219,
   "metadata": {},
   "outputs": [
    {
     "name": "stdout",
     "output_type": "stream",
     "text": [
      "0\n"
     ]
    }
   ],
   "source": [
    "print(building_1.cars)"
   ]
  },
  {
   "cell_type": "code",
   "execution_count": 220,
   "metadata": {},
   "outputs": [
    {
     "name": "stdout",
     "output_type": "stream",
     "text": [
      "new building\n"
     ]
    }
   ],
   "source": [
    "building_2=building(\"luxurious\",\"750 sq yards\")"
   ]
  },
  {
   "cell_type": "code",
   "execution_count": 221,
   "metadata": {},
   "outputs": [
    {
     "name": "stdout",
     "output_type": "stream",
     "text": [
      "0\n"
     ]
    }
   ],
   "source": [
    "print(building_2.cars)"
   ]
  },
  {
   "cell_type": "code",
   "execution_count": 222,
   "metadata": {},
   "outputs": [
    {
     "name": "stdout",
     "output_type": "stream",
     "text": [
      "750 sq yards\n"
     ]
    }
   ],
   "source": [
    "print(building_2.area1)"
   ]
  },
  {
   "cell_type": "code",
   "execution_count": 223,
   "metadata": {},
   "outputs": [],
   "source": [
    "# Adding methods to the OOp\n",
    "\n",
    "class building:\n",
    "    cars=0\n",
    "    def __init__(self,build_type, build_area):\n",
    "        self.building1 = build_type\n",
    "        self.area1 = build_area\n",
    "        print(\"new building\")\n",
    "        \n",
    "    def display(self):\n",
    "        print(f\"Hi this is a display field\")"
   ]
  },
  {
   "cell_type": "code",
   "execution_count": 225,
   "metadata": {},
   "outputs": [
    {
     "name": "stdout",
     "output_type": "stream",
     "text": [
      "new building\n",
      "300 sq yards\n",
      "Hi this is a display field\n"
     ]
    }
   ],
   "source": [
    "building1=building(\"budget2\",\"300 sq yards\")\n",
    "print(building1.area1)\n",
    "building1.display()"
   ]
  },
  {
   "cell_type": "code",
   "execution_count": 233,
   "metadata": {},
   "outputs": [],
   "source": [
    "# adding the value from class in method\n",
    "# Adding methods to the OOp\n",
    "\n",
    "class building:\n",
    "    cars=0\n",
    "    def __init__(self,build_type, build_area):\n",
    "        self.building1 = build_type\n",
    "        self.area1 = build_area\n",
    "        print(\"new building\")\n",
    "        \n",
    "    def display(self):\n",
    "        print(f\"Hi this is a display field of {self.area1} size\")\n",
    "        \n",
    "    def cars_owner(self):\n",
    "        print(f\"Hi the owner has {self.cars}.\")"
   ]
  },
  {
   "cell_type": "code",
   "execution_count": 236,
   "metadata": {},
   "outputs": [
    {
     "name": "stdout",
     "output_type": "stream",
     "text": [
      "new building\n",
      "300 sq yards\n",
      "Hi this is a display field of 300 sq yards size\n",
      "Hi the owner has 0.\n"
     ]
    }
   ],
   "source": [
    "building1=building(\"budget2\",\"300 sq yards\")\n",
    "print(building1.area1)\n",
    "building1.display()\n",
    "building1.cars_owner()"
   ]
  },
  {
   "cell_type": "code",
   "execution_count": 245,
   "metadata": {},
   "outputs": [],
   "source": [
    "# passing the parameters to the method\n",
    "# self is assinged only at the class level and we cannot use the self in the attributes defined in the methods while calling them in the methods.\n",
    "class building:\n",
    "    cars=0\n",
    "    def __init__(self,build_type, build_area,gift):\n",
    "        self.building1 = build_type\n",
    "        self.area1 = build_area\n",
    "        self.gift_gold = gift\n",
    "        print(\"new building\")\n",
    "        \n",
    "    def display(self):\n",
    "        print(f\"Hi this is a display field of {self.area1} size and we have a gift of {self.gift_gold} on each purchase\")"
   ]
  },
  {
   "cell_type": "code",
   "execution_count": 246,
   "metadata": {},
   "outputs": [
    {
     "name": "stdout",
     "output_type": "stream",
     "text": [
      "new building\n",
      "300 sq yards\n",
      "Hi this is a display field of 300 sq yards size and we have a gift of 5gms Gold bar on each purchase\n"
     ]
    }
   ],
   "source": [
    "building1=building(\"budget2\",\"300 sq yards\",\"5gms Gold bar\")\n",
    "print(building1.area1)\n",
    "building1.display()"
   ]
  },
  {
   "cell_type": "code",
   "execution_count": 251,
   "metadata": {},
   "outputs": [],
   "source": [
    "# passing the parameters to the method\n",
    "# self is assinged only at the class level and we cannot use the self in the attributes defined in the methods while calling them in the methods.\n",
    "class building:\n",
    "    cars=0\n",
    "    def __init__(self,build_type, build_area):\n",
    "        self.building1 = build_type\n",
    "        self.area1 = build_area\n",
    "        print(\"new building\")\n",
    "        \n",
    "    def display(self,gift):\n",
    "        print(f\"Hi this is a display field of {self.area1} size and we have a gift of {gift} on each purchase\")"
   ]
  },
  {
   "cell_type": "code",
   "execution_count": 252,
   "metadata": {},
   "outputs": [
    {
     "name": "stdout",
     "output_type": "stream",
     "text": [
      "new building\n",
      "300 sq yards\n",
      "Hi this is a display field of 300 sq yards size and we have a gift of 5gms Gold bar on each purchase\n"
     ]
    }
   ],
   "source": [
    "building1=building(\"budget2\",\"300 sq yards\")\n",
    "print(building1.area1)\n",
    "building1.display(\"5gms Gold bar\")"
   ]
  },
  {
   "cell_type": "code",
   "execution_count": 296,
   "metadata": {},
   "outputs": [],
   "source": [
    "# passing the parameters to the method\n",
    "# self is assinged only at the class level and we cannot use the self in the attributes defined in the methods while calling them in the methods.\n",
    "class building:\n",
    "    cars=0\n",
    "    def __init__(self,build_type, build_area):\n",
    "        self.building1 = build_type\n",
    "        self.area1 = build_area\n",
    "        print(\"new building\")\n",
    "        \n",
    "    def display(self,gift):\n",
    "        print(f\"Hi this is a display field of {self.area1} size and we have a gift of {gift} on each purchase\")\n",
    "        \n",
    "    def update_cars(self,cars1):\n",
    "                self.cars += 1\n"
   ]
  },
  {
   "cell_type": "code",
   "execution_count": 297,
   "metadata": {},
   "outputs": [
    {
     "name": "stdout",
     "output_type": "stream",
     "text": [
      "new building\n",
      "300 sq yards\n",
      "Hi this is a display field of 300 sq yards size and we have a gift of 5gms Gold bar on each purchase\n",
      "2\n"
     ]
    }
   ],
   "source": [
    "building1=building(\"budget2\",\"300 sq yards\")\n",
    "print(building1.area1)\n",
    "building1.display(\"5gms Gold bar\")\n",
    "building1.update_cars('jai')\n",
    "print(building1.cars)"
   ]
  },
  {
   "cell_type": "code",
   "execution_count": 290,
   "metadata": {},
   "outputs": [
    {
     "name": "stdout",
     "output_type": "stream",
     "text": [
      "1\n",
      "1\n"
     ]
    }
   ],
   "source": [
    "building1.update_cars(1)\n",
    "print(building1.cars)"
   ]
  },
  {
   "cell_type": "code",
   "execution_count": null,
   "metadata": {},
   "outputs": [],
   "source": [
    "# 25/03/2024\n",
    "# Inheritance >>\n",
    "    # Inheritance allows us to define a class that inhertis all the methods and properties from another class\n",
    "    \n",
    "    # The class from which we inherit is called parent class or Base class\n",
    "    \n",
    "    # The class that inherits from parent is called child class or derived class\n",
    "    \n",
    "# Polymorphism >>\n",
    "\n"
   ]
  },
  {
   "cell_type": "code",
   "execution_count": 73,
   "metadata": {},
   "outputs": [],
   "source": [
    "class aprtmnt():\n",
    "    def floors(self):\n",
    "        print (\"We have 10 floors\")\n",
    "    def houses(self):\n",
    "        print (\"we have 3 flats per floor\")"
   ]
  },
  {
   "cell_type": "code",
   "execution_count": 79,
   "metadata": {},
   "outputs": [],
   "source": [
    "class aprtmnt2():\n",
    "    def floors(self):\n",
    "        print (\"We have 10 floors\")\n",
    "    def houses(self):\n",
    "        print (\"we have 3 flats per floor\")"
   ]
  },
  {
   "cell_type": "code",
   "execution_count": 80,
   "metadata": {},
   "outputs": [
    {
     "name": "stdout",
     "output_type": "stream",
     "text": [
      "We have 10 floors\n"
     ]
    }
   ],
   "source": [
    "aprtmnt1=aprtmnt2()\n",
    "aprtmnt1.floors()"
   ]
  },
  {
   "cell_type": "code",
   "execution_count": 74,
   "metadata": {},
   "outputs": [
    {
     "name": "stdout",
     "output_type": "stream",
     "text": [
      "We have 10 floors\n"
     ]
    }
   ],
   "source": [
    "aprtmnt1=aprtmnt()\n",
    "aprtmnt1.floors()"
   ]
  },
  {
   "cell_type": "code",
   "execution_count": 75,
   "metadata": {},
   "outputs": [],
   "source": [
    "class aprtmnt2(aprtmnt):\n",
    "    pass\n",
    "    "
   ]
  },
  {
   "cell_type": "code",
   "execution_count": 76,
   "metadata": {},
   "outputs": [
    {
     "name": "stdout",
     "output_type": "stream",
     "text": [
      "We have 10 floors\n",
      "we have 3 flats per floor\n"
     ]
    }
   ],
   "source": [
    "aprtmnt_1=aprtmnt2()\n",
    "aprtmnt_1.floors()\n",
    "aprtmnt_1.houses()"
   ]
  },
  {
   "cell_type": "code",
   "execution_count": 77,
   "metadata": {},
   "outputs": [],
   "source": [
    "class aprtmnt2(aprtmnt):\n",
    "    def floors(self):\n",
    "        print (\"We have 20 floors\") # Parent overriding \n",
    "    def wood(self):\n",
    "        print (\"we use Pine wood for furniture and doors\")"
   ]
  },
  {
   "cell_type": "code",
   "execution_count": 78,
   "metadata": {},
   "outputs": [
    {
     "name": "stdout",
     "output_type": "stream",
     "text": [
      "We have 20 floors\n",
      "we have 3 flats per floor\n",
      "we use Pine wood for furniture and doors\n"
     ]
    }
   ],
   "source": [
    "aprtmnt_2=aprtmnt2()\n",
    "aprtmnt_2.floors()\n",
    "aprtmnt_2.houses()\n",
    "aprtmnt_2.wood()"
   ]
  },
  {
   "cell_type": "code",
   "execution_count": 81,
   "metadata": {},
   "outputs": [],
   "source": [
    "class aprtmnt2(aprtmnt):\n",
    "    def floors(self):\n",
    "        print (\"We have 20 floors\")\n",
    "        super().floors()\n",
    "    def wood(self):\n",
    "        print (\"we use Pine wood for furniture and doors\")"
   ]
  },
  {
   "cell_type": "code",
   "execution_count": 82,
   "metadata": {},
   "outputs": [
    {
     "name": "stdout",
     "output_type": "stream",
     "text": [
      "We have 20 floors\n",
      "We have 10 floors\n",
      "we have 3 flats per floor\n",
      "we use Pine wood for furniture and doors\n"
     ]
    }
   ],
   "source": [
    "aprtmnt_3=aprtmnt2()\n",
    "aprtmnt_3.floors()\n",
    "aprtmnt_3.houses()\n",
    "aprtmnt_3.wood()"
   ]
  },
  {
   "cell_type": "code",
   "execution_count": 83,
   "metadata": {},
   "outputs": [],
   "source": [
    "class aprtmnt():\n",
    "    def __init__(self):\n",
    "        self.num_carparkings=2\n",
    "        self.num_bikeparkings=1\n",
    "        \n",
    "    def floors(self):\n",
    "        print (\"We have 10 floors\")\n",
    "    def houses(self):\n",
    "        print (\"we have 3 houses per floor\")"
   ]
  },
  {
   "cell_type": "code",
   "execution_count": 84,
   "metadata": {},
   "outputs": [],
   "source": [
    "class aprtmnt2(aprtmnt):\n",
    "    def floors(self):\n",
    "        print (\"We have 20 floors\")\n",
    "        super().floors()\n",
    "    def wood(self):\n",
    "        print (\"we use Pine wood for furniture and doors\")"
   ]
  },
  {
   "cell_type": "code",
   "execution_count": 85,
   "metadata": {},
   "outputs": [
    {
     "name": "stdout",
     "output_type": "stream",
     "text": [
      "We have 20 floors\n",
      "We have 10 floors\n",
      "we have 3 houses per floor\n",
      "we use Pine wood for furniture and doors\n",
      "2\n"
     ]
    }
   ],
   "source": [
    "aprtmnt_3=aprtmnt2()\n",
    "aprtmnt_3.floors()\n",
    "aprtmnt_3.houses()\n",
    "aprtmnt_3.wood()\n",
    "print(aprtmnt_3.num_carparkings)"
   ]
  },
  {
   "cell_type": "code",
   "execution_count": 86,
   "metadata": {},
   "outputs": [],
   "source": [
    "class aprtmnt2(aprtmnt):\n",
    "    def __init__ (self,name):\n",
    "       self.name=name \n",
    "    def floors(self):\n",
    "        print (\"We have 20 floors\")\n",
    "        super().floors()\n",
    "    def wood(self):\n",
    "        print (\"we use Pine wood for furniture and doors\")"
   ]
  },
  {
   "cell_type": "code",
   "execution_count": 87,
   "metadata": {},
   "outputs": [
    {
     "ename": "TypeError",
     "evalue": "__init__() missing 1 required positional argument: 'name'",
     "output_type": "error",
     "traceback": [
      "\u001b[1;31m---------------------------------------------------------------------------\u001b[0m",
      "\u001b[1;31mTypeError\u001b[0m                                 Traceback (most recent call last)",
      "\u001b[1;32m<ipython-input-87-25c4454804b2>\u001b[0m in \u001b[0;36m<module>\u001b[1;34m\u001b[0m\n\u001b[1;32m----> 1\u001b[1;33m \u001b[0maprtmnt_3\u001b[0m\u001b[1;33m=\u001b[0m\u001b[0maprtmnt2\u001b[0m\u001b[1;33m(\u001b[0m\u001b[1;33m)\u001b[0m\u001b[1;33m\u001b[0m\u001b[1;33m\u001b[0m\u001b[0m\n\u001b[0m\u001b[0;32m      2\u001b[0m \u001b[1;31m#aprtmnt_3.floors()\u001b[0m\u001b[1;33m\u001b[0m\u001b[1;33m\u001b[0m\u001b[1;33m\u001b[0m\u001b[0m\n\u001b[0;32m      3\u001b[0m \u001b[1;31m#aprtmnt_3.houses()\u001b[0m\u001b[1;33m\u001b[0m\u001b[1;33m\u001b[0m\u001b[1;33m\u001b[0m\u001b[0m\n\u001b[0;32m      4\u001b[0m \u001b[1;31m#aprtmnt_3.wood()\u001b[0m\u001b[1;33m\u001b[0m\u001b[1;33m\u001b[0m\u001b[1;33m\u001b[0m\u001b[0m\n\u001b[0;32m      5\u001b[0m \u001b[0mprint\u001b[0m\u001b[1;33m(\u001b[0m\u001b[0maprtmnt_3\u001b[0m\u001b[1;33m.\u001b[0m\u001b[0mnum_carparkings\u001b[0m\u001b[1;33m)\u001b[0m\u001b[1;33m\u001b[0m\u001b[1;33m\u001b[0m\u001b[0m\n",
      "\u001b[1;31mTypeError\u001b[0m: __init__() missing 1 required positional argument: 'name'"
     ]
    }
   ],
   "source": [
    "aprtmnt_3=aprtmnt2()\n",
    "#aprtmnt_3.floors()\n",
    "#aprtmnt_3.houses()\n",
    "#aprtmnt_3.wood()\n",
    "print(aprtmnt_3.num_carparkings)"
   ]
  },
  {
   "cell_type": "code",
   "execution_count": 88,
   "metadata": {},
   "outputs": [],
   "source": [
    "class aprtmnt2(aprtmnt):\n",
    "    def __init__ (self,build_name):\n",
    "       super().__init__()\n",
    "       self.name=build_name\n",
    "    def floors(self):\n",
    "        print (\"We have 20 floors\")\n",
    "        super().floors()\n",
    "    def wood(self):\n",
    "        print (\"we use Pine wood for furniture and doors\")"
   ]
  },
  {
   "cell_type": "code",
   "execution_count": 89,
   "metadata": {},
   "outputs": [
    {
     "name": "stdout",
     "output_type": "stream",
     "text": [
      "2\n",
      "Alka Heights\n"
     ]
    }
   ],
   "source": [
    "aprtmnt_3=aprtmnt2(\"Alka Heights\")\n",
    "print(aprtmnt_3.num_carparkings)\n",
    "print(aprtmnt_3.name)"
   ]
  },
  {
   "cell_type": "code",
   "execution_count": null,
   "metadata": {},
   "outputs": [],
   "source": []
  },
  {
   "cell_type": "code",
   "execution_count": 90,
   "metadata": {},
   "outputs": [],
   "source": [
    "class aprtmnt():\n",
    "    def __init__(self,vacant):\n",
    "        self.num_carparkings=2\n",
    "        self.num_bikeparkings=1\n",
    "        self.vacant=vacant\n",
    "    def floors(self):\n",
    "        print (\"We have 10 floors\")\n",
    "    def houses(self):\n",
    "        print (\"we have 3 houses per floor\")"
   ]
  },
  {
   "cell_type": "code",
   "execution_count": 91,
   "metadata": {},
   "outputs": [],
   "source": [
    "class aprtmnt2(aprtmnt):\n",
    "    def __init__ (self,build_name):\n",
    "       super().__init__()\n",
    "       self.name=build_name\n",
    "    def floors(self):\n",
    "        print (\"We have 20 floors\")\n",
    "        super().floors()\n",
    "    def wood(self):\n",
    "        print (\"we use Pine wood for furniture and doors\")"
   ]
  },
  {
   "cell_type": "code",
   "execution_count": 93,
   "metadata": {},
   "outputs": [
    {
     "ename": "TypeError",
     "evalue": "__init__() missing 1 required positional argument: 'vacant'",
     "output_type": "error",
     "traceback": [
      "\u001b[1;31m---------------------------------------------------------------------------\u001b[0m",
      "\u001b[1;31mTypeError\u001b[0m                                 Traceback (most recent call last)",
      "\u001b[1;32m<ipython-input-93-6ee293d36fa1>\u001b[0m in \u001b[0;36m<module>\u001b[1;34m\u001b[0m\n\u001b[1;32m----> 1\u001b[1;33m \u001b[0maprtmnt_3\u001b[0m\u001b[1;33m=\u001b[0m\u001b[0maprtmnt2\u001b[0m\u001b[1;33m(\u001b[0m\u001b[1;34m\"Alka Heights\"\u001b[0m\u001b[1;33m)\u001b[0m\u001b[1;33m\u001b[0m\u001b[1;33m\u001b[0m\u001b[0m\n\u001b[0m\u001b[0;32m      2\u001b[0m \u001b[0mprint\u001b[0m\u001b[1;33m(\u001b[0m\u001b[0maprtmnt_3\u001b[0m\u001b[1;33m.\u001b[0m\u001b[0mnum_carparkings\u001b[0m\u001b[1;33m)\u001b[0m\u001b[1;33m\u001b[0m\u001b[1;33m\u001b[0m\u001b[0m\n\u001b[0;32m      3\u001b[0m \u001b[0mprint\u001b[0m\u001b[1;33m(\u001b[0m\u001b[0maprtmnt_3\u001b[0m\u001b[1;33m.\u001b[0m\u001b[0mname\u001b[0m\u001b[1;33m)\u001b[0m\u001b[1;33m\u001b[0m\u001b[1;33m\u001b[0m\u001b[0m\n",
      "\u001b[1;32m<ipython-input-91-e82ac4a26a6a>\u001b[0m in \u001b[0;36m__init__\u001b[1;34m(self, build_name)\u001b[0m\n\u001b[0;32m      1\u001b[0m \u001b[1;32mclass\u001b[0m \u001b[0maprtmnt2\u001b[0m\u001b[1;33m(\u001b[0m\u001b[0maprtmnt\u001b[0m\u001b[1;33m)\u001b[0m\u001b[1;33m:\u001b[0m\u001b[1;33m\u001b[0m\u001b[1;33m\u001b[0m\u001b[0m\n\u001b[0;32m      2\u001b[0m     \u001b[1;32mdef\u001b[0m \u001b[0m__init__\u001b[0m \u001b[1;33m(\u001b[0m\u001b[0mself\u001b[0m\u001b[1;33m,\u001b[0m\u001b[0mbuild_name\u001b[0m\u001b[1;33m)\u001b[0m\u001b[1;33m:\u001b[0m\u001b[1;33m\u001b[0m\u001b[1;33m\u001b[0m\u001b[0m\n\u001b[1;32m----> 3\u001b[1;33m        \u001b[0msuper\u001b[0m\u001b[1;33m(\u001b[0m\u001b[1;33m)\u001b[0m\u001b[1;33m.\u001b[0m\u001b[0m__init__\u001b[0m\u001b[1;33m(\u001b[0m\u001b[1;33m)\u001b[0m\u001b[1;33m\u001b[0m\u001b[1;33m\u001b[0m\u001b[0m\n\u001b[0m\u001b[0;32m      4\u001b[0m        \u001b[0mself\u001b[0m\u001b[1;33m.\u001b[0m\u001b[0mname\u001b[0m\u001b[1;33m=\u001b[0m\u001b[0mbuild_name\u001b[0m\u001b[1;33m\u001b[0m\u001b[1;33m\u001b[0m\u001b[0m\n\u001b[0;32m      5\u001b[0m     \u001b[1;32mdef\u001b[0m \u001b[0mfloors\u001b[0m\u001b[1;33m(\u001b[0m\u001b[0mself\u001b[0m\u001b[1;33m)\u001b[0m\u001b[1;33m:\u001b[0m\u001b[1;33m\u001b[0m\u001b[1;33m\u001b[0m\u001b[0m\n",
      "\u001b[1;31mTypeError\u001b[0m: __init__() missing 1 required positional argument: 'vacant'"
     ]
    }
   ],
   "source": [
    "aprtmnt_3=aprtmnt2(\"Alka Heights\")\n",
    "print(aprtmnt_3.num_carparkings)\n",
    "print(aprtmnt_3.name)"
   ]
  },
  {
   "cell_type": "code",
   "execution_count": 94,
   "metadata": {},
   "outputs": [],
   "source": [
    "class aprtmnt2(aprtmnt):\n",
    "    def __init__ (self,build_name,vacant):\n",
    "       super().__init__(vacant)\n",
    "       self.name=build_name\n",
    "    def floors(self):\n",
    "        print (\"We have 20 floors\")\n",
    "        super().floors()\n",
    "    def wood(self):\n",
    "        print (\"we use Pine wood for furniture and doors\")"
   ]
  },
  {
   "cell_type": "code",
   "execution_count": 95,
   "metadata": {},
   "outputs": [
    {
     "ename": "TypeError",
     "evalue": "__init__() missing 1 required positional argument: 'vacant'",
     "output_type": "error",
     "traceback": [
      "\u001b[1;31m---------------------------------------------------------------------------\u001b[0m",
      "\u001b[1;31mTypeError\u001b[0m                                 Traceback (most recent call last)",
      "\u001b[1;32m<ipython-input-95-6ee293d36fa1>\u001b[0m in \u001b[0;36m<module>\u001b[1;34m\u001b[0m\n\u001b[1;32m----> 1\u001b[1;33m \u001b[0maprtmnt_3\u001b[0m\u001b[1;33m=\u001b[0m\u001b[0maprtmnt2\u001b[0m\u001b[1;33m(\u001b[0m\u001b[1;34m\"Alka Heights\"\u001b[0m\u001b[1;33m)\u001b[0m\u001b[1;33m\u001b[0m\u001b[1;33m\u001b[0m\u001b[0m\n\u001b[0m\u001b[0;32m      2\u001b[0m \u001b[0mprint\u001b[0m\u001b[1;33m(\u001b[0m\u001b[0maprtmnt_3\u001b[0m\u001b[1;33m.\u001b[0m\u001b[0mnum_carparkings\u001b[0m\u001b[1;33m)\u001b[0m\u001b[1;33m\u001b[0m\u001b[1;33m\u001b[0m\u001b[0m\n\u001b[0;32m      3\u001b[0m \u001b[0mprint\u001b[0m\u001b[1;33m(\u001b[0m\u001b[0maprtmnt_3\u001b[0m\u001b[1;33m.\u001b[0m\u001b[0mname\u001b[0m\u001b[1;33m)\u001b[0m\u001b[1;33m\u001b[0m\u001b[1;33m\u001b[0m\u001b[0m\n",
      "\u001b[1;31mTypeError\u001b[0m: __init__() missing 1 required positional argument: 'vacant'"
     ]
    }
   ],
   "source": [
    "aprtmnt_3=aprtmnt2(\"Alka Heights\")\n",
    "print(aprtmnt_3.num_carparkings)\n",
    "print(aprtmnt_3.name)"
   ]
  },
  {
   "cell_type": "code",
   "execution_count": 98,
   "metadata": {},
   "outputs": [
    {
     "ename": "TypeError",
     "evalue": "__init__() missing 1 required positional argument: 'vacant'",
     "output_type": "error",
     "traceback": [
      "\u001b[1;31m---------------------------------------------------------------------------\u001b[0m",
      "\u001b[1;31mTypeError\u001b[0m                                 Traceback (most recent call last)",
      "\u001b[1;32m<ipython-input-98-fb934b94a3a0>\u001b[0m in \u001b[0;36m<module>\u001b[1;34m\u001b[0m\n\u001b[1;32m----> 1\u001b[1;33m \u001b[0maprtmnt_3\u001b[0m\u001b[1;33m=\u001b[0m\u001b[0maprtmnt2\u001b[0m\u001b[1;33m(\u001b[0m\u001b[1;34m\"Alka Heights\"\u001b[0m\u001b[1;33m)\u001b[0m\u001b[1;33m\u001b[0m\u001b[1;33m\u001b[0m\u001b[0m\n\u001b[0m\u001b[0;32m      2\u001b[0m \u001b[0mprint\u001b[0m\u001b[1;33m(\u001b[0m\u001b[0maprtmnt_3\u001b[0m\u001b[1;33m.\u001b[0m\u001b[0mnum_carparkings\u001b[0m\u001b[1;33m)\u001b[0m\u001b[1;33m\u001b[0m\u001b[1;33m\u001b[0m\u001b[0m\n\u001b[0;32m      3\u001b[0m \u001b[0mprint\u001b[0m\u001b[1;33m(\u001b[0m\u001b[0maprtmnt_3\u001b[0m\u001b[1;33m.\u001b[0m\u001b[0mname\u001b[0m\u001b[1;33m)\u001b[0m\u001b[1;33m\u001b[0m\u001b[1;33m\u001b[0m\u001b[0m\n\u001b[0;32m      4\u001b[0m \u001b[1;31m#print(aprtmnt_3.vacant)\u001b[0m\u001b[1;33m\u001b[0m\u001b[1;33m\u001b[0m\u001b[1;33m\u001b[0m\u001b[0m\n",
      "\u001b[1;31mTypeError\u001b[0m: __init__() missing 1 required positional argument: 'vacant'"
     ]
    }
   ],
   "source": [
    "aprtmnt_3=aprtmnt2(\"Alka Heights\",30)\n",
    "print(aprtmnt_3.num_carparkings)\n",
    "print(aprtmnt_3.name)\n",
    "print(aprtmnt_3.vacant)"
   ]
  },
  {
   "cell_type": "code",
   "execution_count": 102,
   "metadata": {},
   "outputs": [],
   "source": [
    "class aprtmnt2(aprtmnt):\n",
    "    def __init__ (self,build_name,vacant):\n",
    "       super().__init__(vacant)\n",
    "       self.name=build_name\n",
    "    def floors(self):\n",
    "        print (\"We have 20 floors\")\n",
    "        super().floors()\n",
    "    def wood(self):\n",
    "        print (\"we use Pine wood for furniture and doors\")\n",
    "    def display(self):\n",
    "        print(f\"Welcome to {self.name} we are having only {self.vacant} Flats Vacant\")"
   ]
  },
  {
   "cell_type": "code",
   "execution_count": null,
   "metadata": {},
   "outputs": [],
   "source": [
    "aprtmnt_3=aprtmnt2(\"Alka Heights\",30)\n",
    "print(aprtmnt_3.num_carparkings)\n",
    "print(aprtmnt_3.name)\n",
    "print(aprtmnt_3.vacant)"
   ]
  },
  {
   "cell_type": "code",
   "execution_count": 103,
   "metadata": {},
   "outputs": [
    {
     "name": "stdout",
     "output_type": "stream",
     "text": [
      "Welcome to Alka Heights we are having only 30 Flats Vacant\n"
     ]
    }
   ],
   "source": [
    "aprtmnt_3=aprtmnt2(\"Alka Heights\",30)\n",
    "aprtmnt_3.display()"
   ]
  },
  {
   "cell_type": "code",
   "execution_count": null,
   "metadata": {},
   "outputs": [],
   "source": [
    "# Excercise 1\n",
    "# Class Inheritance\n",
    "# Define a property that must have the same value for every class instance (object)\n",
    "# Class Inheritance\n",
    "# Check type of an object\n",
    "# Determine if School_bus is also an instance of the Vehicle class"
   ]
  },
  {
   "cell_type": "code",
   "execution_count": 17,
   "metadata": {},
   "outputs": [],
   "source": [
    "# Abstraction\n",
    "from abc import ABC, abstractmethod"
   ]
  },
  {
   "cell_type": "code",
   "execution_count": 18,
   "metadata": {},
   "outputs": [],
   "source": [
    "from abc import ABC, abstractmethod\n",
    "\n",
    "class Polygon(ABC):\n",
    "    @abstractmethod\n",
    "    def noofsides(self):\n",
    "        pass\n",
    "\n",
    "class Triangle(Polygon):\n",
    "\n",
    "    # overriding abstract method\n",
    "    def noofsides(self):\n",
    "        print(\"I have 3 sides\")\n",
    "\n",
    "\n",
    "class Pentagon(Polygon):\n",
    "\n",
    "    # overriding abstract method\n",
    "    def noofsides(self):\n",
    "        print(\"I have 5 sides\")\n",
    "\n",
    "\n",
    "class Hexagon(Polygon):\n",
    "\n",
    "    # overriding abstract method\n",
    "    def noofsides(self):\n",
    "        print(\"I have 6 sides\")\n",
    "\n",
    "\n",
    "class Quadrilateral(Polygon):\n",
    "\n",
    "    # overriding abstract method\n",
    "    def noofsides(self):\n",
    "        print(\"I have 4 sides\")\n"
   ]
  },
  {
   "cell_type": "code",
   "execution_count": 19,
   "metadata": {},
   "outputs": [
    {
     "name": "stdout",
     "output_type": "stream",
     "text": [
      "I have 3 sides\n",
      "I have 4 sides\n",
      "I have 5 sides\n",
      "I have 6 sides\n"
     ]
    }
   ],
   "source": [
    "R = Triangle()\n",
    "R.noofsides()\n",
    "\n",
    "K = Quadrilateral()\n",
    "K.noofsides()\n",
    "\n",
    "R = Pentagon()\n",
    "R.noofsides()\n",
    "\n",
    "K = Hexagon()\n",
    "K.noofsides()"
   ]
  },
  {
   "cell_type": "code",
   "execution_count": null,
   "metadata": {},
   "outputs": [],
   "source": []
  },
  {
   "cell_type": "code",
   "execution_count": 20,
   "metadata": {},
   "outputs": [],
   "source": [
    "from abc import ABC, abstractmethod\n",
    "\n",
    "class Animal(ABC):\n",
    "\n",
    "    def move(self):\n",
    "        pass\n",
    "\n",
    "class Human(Animal):\n",
    "\n",
    "    def move(self):\n",
    "        print(\"I can walk and run\")\n",
    "\n",
    "class Snake(Animal):\n",
    "\n",
    "    def move(self):\n",
    "        print(\"I can crawl\")\n",
    "\n",
    "class Dog(Animal):\n",
    "\n",
    "    def move(self):\n",
    "        print(\"I can bark\")\n",
    "\n",
    "class Lion(Animal):\n",
    "\n",
    "    def move(self):\n",
    "        print(\"I can roar\")\n"
   ]
  },
  {
   "cell_type": "code",
   "execution_count": 21,
   "metadata": {},
   "outputs": [
    {
     "name": "stdout",
     "output_type": "stream",
     "text": [
      "I can walk and run\n",
      "I can crawl\n",
      "I can bark\n",
      "I can roar\n"
     ]
    }
   ],
   "source": [
    "R = Human()\n",
    "R.move()\n",
    "\n",
    "K = Snake()\n",
    "K.move()\n",
    "\n",
    "R = Dog()\n",
    "R.move()\n",
    "\n",
    "K = Lion()\n",
    "K.move()"
   ]
  },
  {
   "cell_type": "code",
   "execution_count": null,
   "metadata": {},
   "outputs": [],
   "source": [
    "# Polymorphism"
   ]
  },
  {
   "cell_type": "code",
   "execution_count": 22,
   "metadata": {},
   "outputs": [
    {
     "data": {
      "text/plain": [
       "3"
      ]
     },
     "execution_count": 22,
     "metadata": {},
     "output_type": "execute_result"
    }
   ],
   "source": [
    "1 + 2"
   ]
  },
  {
   "cell_type": "code",
   "execution_count": 23,
   "metadata": {},
   "outputs": [
    {
     "data": {
      "text/plain": [
       "'12'"
      ]
     },
     "execution_count": 23,
     "metadata": {},
     "output_type": "execute_result"
    }
   ],
   "source": [
    "'1'+'2'"
   ]
  },
  {
   "cell_type": "code",
   "execution_count": null,
   "metadata": {},
   "outputs": [],
   "source": [
    "len >> "
   ]
  },
  {
   "cell_type": "code",
   "execution_count": 25,
   "metadata": {},
   "outputs": [
    {
     "name": "stdout",
     "output_type": "stream",
     "text": [
      "4\n"
     ]
    }
   ],
   "source": [
    "print(len('Data'))"
   ]
  },
  {
   "cell_type": "code",
   "execution_count": 29,
   "metadata": {},
   "outputs": [],
   "source": [
    "l = ['a','b','c','d',1,2,[1,23,54,68,97,]]"
   ]
  },
  {
   "cell_type": "code",
   "execution_count": 30,
   "metadata": {},
   "outputs": [
    {
     "data": {
      "text/plain": [
       "7"
      ]
     },
     "execution_count": 30,
     "metadata": {},
     "output_type": "execute_result"
    }
   ],
   "source": [
    "len(l)"
   ]
  },
  {
   "cell_type": "code",
   "execution_count": 33,
   "metadata": {},
   "outputs": [],
   "source": [
    "dict1={\n",
    "        1:'data',\n",
    "        2:\"software\",\n",
    "        3:\"testing\"\n",
    "}"
   ]
  },
  {
   "cell_type": "code",
   "execution_count": 34,
   "metadata": {},
   "outputs": [
    {
     "data": {
      "text/plain": [
       "3"
      ]
     },
     "execution_count": 34,
     "metadata": {},
     "output_type": "execute_result"
    }
   ],
   "source": [
    "len(dict1)"
   ]
  },
  {
   "cell_type": "code",
   "execution_count": 36,
   "metadata": {},
   "outputs": [
    {
     "name": "stdout",
     "output_type": "stream",
     "text": [
      "walk!\n",
      "food!\n"
     ]
    }
   ],
   "source": [
    "class sleep:\n",
    "  def __init__(self, prop1, prop2):\n",
    "    self.prop1 = prop1\n",
    "    self.prop2 = prop2\n",
    "\n",
    "  def action(self):\n",
    "    print(\"Sleep!\")\n",
    "\n",
    "class walk:\n",
    "  def __init__(self, prop1, prop2):\n",
    "    self.brand = prop1\n",
    "    self.model = prop2\n",
    "\n",
    "  def action(self):\n",
    "    print(\"walk!\")\n",
    "\n",
    "class eat:\n",
    "  def __init__(self, prop1, prop2):\n",
    "    self.brand = prop1\n",
    "    self.model = prop2\n",
    "\n",
    "  def action(self):\n",
    "    print(\"food!\")\n",
    "\n",
    "sleep1 = sleep(\"pillow\", \"bed\")\n",
    "walk1 = walk(\"shoe\", \"20\") \n",
    "eat1 = eat(\"food\", \"calories\") \n",
    "\n",
    "for x in (sleep1, walk1, eat1):\n",
    "  x.action()"
   ]
  },
  {
   "cell_type": "code",
   "execution_count": 37,
   "metadata": {},
   "outputs": [
    {
     "name": "stdout",
     "output_type": "stream",
     "text": [
      "pillow\n",
      "bed\n",
      "sleep!\n",
      "shoe\n",
      "20\n",
      "Sail!\n",
      "food\n",
      "calories\n",
      "Fly!\n"
     ]
    }
   ],
   "source": [
    "class activities:\n",
    "  def __init__(self, prop1,prop2):\n",
    "    self.prop1 = prop1\n",
    "    self.prop2 = prop2\n",
    "\n",
    "  def action(self):\n",
    "    print(\"sleep!\")\n",
    "\n",
    "class sleep(activities):\n",
    "  pass\n",
    "\n",
    "class walk(activities):\n",
    "  def action(self):\n",
    "    print(\"Sail!\")\n",
    "\n",
    "class eat(activities):\n",
    "  def action(self):\n",
    "    print(\"Fly!\")\n",
    "\n",
    "sleep1 = sleep(\"pillow\", \"bed\")\n",
    "walk1 = walk(\"shoe\", \"20\") \n",
    "eat1 = eat(\"food\", \"calories\") \n",
    "\n",
    "for x in (sleep1, walk1, eat1):\n",
    "  print(x.prop1)\n",
    "  print(x.prop2)\n",
    "  x.action()"
   ]
  },
  {
   "cell_type": "code",
   "execution_count": null,
   "metadata": {},
   "outputs": [],
   "source": [
    "# Encapsulation "
   ]
  },
  {
   "cell_type": "code",
   "execution_count": 86,
   "metadata": {},
   "outputs": [
    {
     "name": "stdout",
     "output_type": "stream",
     "text": [
      "Calling protected member of base class:  2\n",
      "Calling modified protected member outside class:  3\n",
      "Accessing protected member of obj1:  3\n",
      "Accessing protected member of obj2:  2\n"
     ]
    }
   ],
   "source": [
    "# Creating a base class \n",
    "class Base: \n",
    "    def __init__(self): \n",
    "  \n",
    "        # Protected member \n",
    "        self._a = 2\n",
    "  \n",
    "# Creating a derived class \n",
    "class Derived(Base): \n",
    "    def __init__(self): \n",
    "  \n",
    "        # Calling constructor of \n",
    "        # Base class \n",
    "        Base.__init__(self) \n",
    "        print(\"Calling protected member of base class: \",self._a) \n",
    "  \n",
    "        # Modify the protected variable: \n",
    "        self._a = 3\n",
    "        print(\"Calling modified protected member outside class: \",self._a) \n",
    "  \n",
    "  \n",
    "obj1 = Derived() \n",
    "  \n",
    "obj2 = Base() \n",
    "\n",
    "print(\"Accessing protected member of obj1: \", obj1._a) \n",
    "  \n",
    "# Accessing the protected variable outside \n",
    "print(\"Accessing protected member of obj2: \", obj2._a) "
   ]
  },
  {
   "cell_type": "code",
   "execution_count": 89,
   "metadata": {},
   "outputs": [
    {
     "name": "stdout",
     "output_type": "stream",
     "text": [
      "this is a base attribute Testingdsata\n",
      "this is a protected attribute Testingdsata_protected\n"
     ]
    },
    {
     "ename": "AttributeError",
     "evalue": "'Base' object has no attribute '__c'",
     "output_type": "error",
     "traceback": [
      "\u001b[1;31m---------------------------------------------------------------------------\u001b[0m",
      "\u001b[1;31mAttributeError\u001b[0m                            Traceback (most recent call last)",
      "\u001b[1;32m<ipython-input-89-e7bd82030beb>\u001b[0m in \u001b[0;36m<module>\u001b[1;34m\u001b[0m\n\u001b[0;32m     20\u001b[0m \u001b[0mprint\u001b[0m\u001b[1;33m(\u001b[0m\u001b[1;34m'this is a base attribute '\u001b[0m \u001b[1;33m+\u001b[0m \u001b[0mobj1\u001b[0m\u001b[1;33m.\u001b[0m\u001b[0ma\u001b[0m\u001b[1;33m)\u001b[0m\u001b[1;33m\u001b[0m\u001b[1;33m\u001b[0m\u001b[0m\n\u001b[0;32m     21\u001b[0m \u001b[0mprint\u001b[0m\u001b[1;33m(\u001b[0m\u001b[1;34m'this is a protected attribute '\u001b[0m \u001b[1;33m+\u001b[0m \u001b[0mobj1\u001b[0m\u001b[1;33m.\u001b[0m\u001b[0m_b\u001b[0m\u001b[1;33m)\u001b[0m\u001b[1;33m\u001b[0m\u001b[1;33m\u001b[0m\u001b[0m\n\u001b[1;32m---> 22\u001b[1;33m \u001b[0mprint\u001b[0m\u001b[1;33m(\u001b[0m\u001b[1;34m'this is a private attribute '\u001b[0m \u001b[1;33m+\u001b[0m \u001b[0mobj1\u001b[0m\u001b[1;33m.\u001b[0m\u001b[0m__c\u001b[0m\u001b[1;33m)\u001b[0m\u001b[1;33m\u001b[0m\u001b[1;33m\u001b[0m\u001b[0m\n\u001b[0m",
      "\u001b[1;31mAttributeError\u001b[0m: 'Base' object has no attribute '__c'"
     ]
    }
   ],
   "source": [
    "class Base: \n",
    "    def __init__(self): \n",
    "        self.a = \"Testingdsata\"\n",
    "        self._b = \"Testingdsata_protected\"\n",
    "        self.__c = \"Private_data\"\n",
    "  \n",
    "# Creating a derived class \n",
    "class Derived(Base): \n",
    "    def __init__(self): \n",
    "  \n",
    "        # Calling constructor of \n",
    "        # Base class \n",
    "        Base.__init__(self) \n",
    "        print(\"Calling private member of base class: \") \n",
    "        print(self.__c) \n",
    "  \n",
    "  \n",
    "# Driver code \n",
    "obj1 = Base() \n",
    "print('this is a base attribute ' + obj1.a) \n",
    "print('this is a protected attribute ' + obj1._b) \n",
    "print('this is a private attribute ' + obj1.__c) "
   ]
  },
  {
   "cell_type": "code",
   "execution_count": 90,
   "metadata": {},
   "outputs": [],
   "source": [
    "def f1():\n",
    "    print (\"calling f1\")\n",
    "    "
   ]
  },
  {
   "cell_type": "code",
   "execution_count": 91,
   "metadata": {},
   "outputs": [
    {
     "name": "stdout",
     "output_type": "stream",
     "text": [
      "calling f1\n"
     ]
    }
   ],
   "source": [
    "f1()"
   ]
  },
  {
   "cell_type": "code",
   "execution_count": 92,
   "metadata": {},
   "outputs": [
    {
     "name": "stdout",
     "output_type": "stream",
     "text": [
      "<function f1 at 0x0000023BE577BA60>\n"
     ]
    }
   ],
   "source": [
    "print(f1)"
   ]
  },
  {
   "cell_type": "code",
   "execution_count": 93,
   "metadata": {},
   "outputs": [],
   "source": [
    "def f1():\n",
    "    print (\"calling f1\")"
   ]
  },
  {
   "cell_type": "code",
   "execution_count": 94,
   "metadata": {},
   "outputs": [],
   "source": [
    "def f2(f):\n",
    "    f()"
   ]
  },
  {
   "cell_type": "code",
   "execution_count": 95,
   "metadata": {},
   "outputs": [
    {
     "name": "stdout",
     "output_type": "stream",
     "text": [
      "calling f1\n"
     ]
    }
   ],
   "source": [
    "f2(f1)"
   ]
  },
  {
   "cell_type": "code",
   "execution_count": 96,
   "metadata": {},
   "outputs": [],
   "source": [
    "def f1(func):\n",
    "    def wrapper():\n",
    "        print(\"started\")\n",
    "        func()\n",
    "        print(\"Ended\")\n",
    "    return wrapper   \n",
    "\n",
    "def f():\n",
    "    print (\"Hi\")"
   ]
  },
  {
   "cell_type": "code",
   "execution_count": 97,
   "metadata": {},
   "outputs": [
    {
     "data": {
      "text/plain": [
       "<function __main__.f1.<locals>.wrapper()>"
      ]
     },
     "execution_count": 97,
     "metadata": {},
     "output_type": "execute_result"
    }
   ],
   "source": [
    "f1(f)"
   ]
  },
  {
   "cell_type": "code",
   "execution_count": 98,
   "metadata": {},
   "outputs": [
    {
     "name": "stdout",
     "output_type": "stream",
     "text": [
      "<function f1.<locals>.wrapper at 0x0000023BE53F3C80>\n"
     ]
    }
   ],
   "source": [
    "print(f1(f))"
   ]
  },
  {
   "cell_type": "code",
   "execution_count": 99,
   "metadata": {},
   "outputs": [],
   "source": [
    "def f1(func):\n",
    "    def wrapper():\n",
    "        print(\"started\")\n",
    "        func()\n",
    "        print(\"Ended\")\n",
    "    return wrapper \n",
    "def f():\n",
    "    print (\"Hi\")"
   ]
  },
  {
   "cell_type": "code",
   "execution_count": 100,
   "metadata": {},
   "outputs": [],
   "source": [
    "f = f1(f)"
   ]
  },
  {
   "cell_type": "code",
   "execution_count": 101,
   "metadata": {},
   "outputs": [
    {
     "name": "stdout",
     "output_type": "stream",
     "text": [
      "started\n",
      "Hi\n",
      "Ended\n"
     ]
    }
   ],
   "source": [
    "f()"
   ]
  },
  {
   "cell_type": "code",
   "execution_count": 102,
   "metadata": {},
   "outputs": [],
   "source": [
    "def f1(func):\n",
    "    def wrapper():\n",
    "        print(\"started\")\n",
    "        func()\n",
    "        print(\"Ended\")\n",
    "    return wrapper   \n",
    "\n",
    "@f1 # >> this is the decorator \n",
    "def f():\n",
    "    print (\"Hi\")"
   ]
  },
  {
   "cell_type": "code",
   "execution_count": 103,
   "metadata": {},
   "outputs": [
    {
     "name": "stdout",
     "output_type": "stream",
     "text": [
      "started\n",
      "Hi\n",
      "Ended\n"
     ]
    }
   ],
   "source": [
    "f()"
   ]
  },
  {
   "cell_type": "code",
   "execution_count": 104,
   "metadata": {},
   "outputs": [],
   "source": [
    "def f1(func):\n",
    "    def wrapper():\n",
    "        print(\"started\")\n",
    "        func()\n",
    "        print(\"Ended\")\n",
    "    return wrapper   \n",
    "\n",
    "@f1\n",
    "def f(a):\n",
    "    print (a)"
   ]
  },
  {
   "cell_type": "code",
   "execution_count": 105,
   "metadata": {},
   "outputs": [
    {
     "ename": "TypeError",
     "evalue": "wrapper() takes 0 positional arguments but 1 was given",
     "output_type": "error",
     "traceback": [
      "\u001b[1;31m---------------------------------------------------------------------------\u001b[0m",
      "\u001b[1;31mTypeError\u001b[0m                                 Traceback (most recent call last)",
      "\u001b[1;32m<ipython-input-105-b9e751015bf7>\u001b[0m in \u001b[0;36m<module>\u001b[1;34m\u001b[0m\n\u001b[1;32m----> 1\u001b[1;33m \u001b[0mf\u001b[0m\u001b[1;33m(\u001b[0m\u001b[1;34m\"hi\"\u001b[0m\u001b[1;33m)\u001b[0m\u001b[1;33m\u001b[0m\u001b[1;33m\u001b[0m\u001b[0m\n\u001b[0m",
      "\u001b[1;31mTypeError\u001b[0m: wrapper() takes 0 positional arguments but 1 was given"
     ]
    }
   ],
   "source": [
    "f(\"hi\")"
   ]
  },
  {
   "cell_type": "code",
   "execution_count": 109,
   "metadata": {},
   "outputs": [
    {
     "ename": "NameError",
     "evalue": "name 'info' is not defined",
     "output_type": "error",
     "traceback": [
      "\u001b[1;31m---------------------------------------------------------------------------\u001b[0m",
      "\u001b[1;31mNameError\u001b[0m                                 Traceback (most recent call last)",
      "\u001b[1;32m<ipython-input-109-a27ce4a02c7c>\u001b[0m in \u001b[0;36m<module>\u001b[1;34m\u001b[0m\n\u001b[0;32m      5\u001b[0m   \u001b[0mprint\u001b[0m\u001b[1;33m(\u001b[0m\u001b[0mmessage\u001b[0m\u001b[1;33m)\u001b[0m\u001b[1;33m\u001b[0m\u001b[1;33m\u001b[0m\u001b[0m\n\u001b[0;32m      6\u001b[0m \u001b[1;33m\u001b[0m\u001b[0m\n\u001b[1;32m----> 7\u001b[1;33m \u001b[0mgreet\u001b[0m\u001b[1;33m(\u001b[0m\u001b[1;34m\"Gary\"\u001b[0m\u001b[1;33m,\u001b[0m \u001b[0mage\u001b[0m\u001b[1;33m=\u001b[0m\u001b[1;36m30\u001b[0m\u001b[1;33m,\u001b[0m \u001b[0mcity\u001b[0m\u001b[1;33m=\u001b[0m\u001b[1;34m\"Washington\"\u001b[0m\u001b[1;33m)\u001b[0m  \u001b[1;31m# Pass keyword arguments\u001b[0m\u001b[1;33m\u001b[0m\u001b[1;33m\u001b[0m\u001b[0m\n\u001b[0m",
      "\u001b[1;32m<ipython-input-109-a27ce4a02c7c>\u001b[0m in \u001b[0;36mgreet\u001b[1;34m(name, **kwargs)\u001b[0m\n\u001b[0;32m      1\u001b[0m \u001b[1;32mdef\u001b[0m \u001b[0mgreet\u001b[0m\u001b[1;33m(\u001b[0m\u001b[0mname\u001b[0m\u001b[1;33m,\u001b[0m \u001b[1;33m**\u001b[0m\u001b[0mkwargs\u001b[0m\u001b[1;33m)\u001b[0m\u001b[1;33m:\u001b[0m\u001b[1;33m\u001b[0m\u001b[1;33m\u001b[0m\u001b[0m\n\u001b[0;32m      2\u001b[0m   \u001b[0mmessage\u001b[0m \u001b[1;33m=\u001b[0m \u001b[1;34mf\"Hello, {name}!\"\u001b[0m\u001b[1;33m\u001b[0m\u001b[1;33m\u001b[0m\u001b[0m\n\u001b[1;32m----> 3\u001b[1;33m   \u001b[1;32mif\u001b[0m \u001b[0minfo\u001b[0m\u001b[1;33m.\u001b[0m\u001b[0mget\u001b[0m\u001b[1;33m(\u001b[0m\u001b[1;34m\"age\"\u001b[0m\u001b[1;33m)\u001b[0m\u001b[1;33m:\u001b[0m\u001b[1;33m\u001b[0m\u001b[1;33m\u001b[0m\u001b[0m\n\u001b[0m\u001b[0;32m      4\u001b[0m     \u001b[0mmessage\u001b[0m \u001b[1;33m+=\u001b[0m \u001b[1;34mf\" You are {kwargs['age']} years old and you live in {kwargs['city']}.\"\u001b[0m\u001b[1;33m\u001b[0m\u001b[1;33m\u001b[0m\u001b[0m\n\u001b[0;32m      5\u001b[0m   \u001b[0mprint\u001b[0m\u001b[1;33m(\u001b[0m\u001b[0mmessage\u001b[0m\u001b[1;33m)\u001b[0m\u001b[1;33m\u001b[0m\u001b[1;33m\u001b[0m\u001b[0m\n",
      "\u001b[1;31mNameError\u001b[0m: name 'info' is not defined"
     ]
    }
   ],
   "source": [
    "def greet(name, **kwargs): \n",
    "  message = f\"Hello, {name}!\"\n",
    "  if info.get(\"age\"):\n",
    "    message += f\" You are {kwargs['age']} years old and you live in {kwargs['city']}.\"\n",
    "  print(message)\n",
    "\n",
    "greet(\"Gary\", age=30, city=\"Washington\")  # Pass keyword arguments\n",
    "# We can give any name to this its compulsory to use **"
   ]
  },
  {
   "cell_type": "code",
   "execution_count": 108,
   "metadata": {},
   "outputs": [
    {
     "name": "stdout",
     "output_type": "stream",
     "text": [
      "41\n"
     ]
    }
   ],
   "source": [
    "def sum_all(*args):\n",
    "  total = 0\n",
    "  for num in args:\n",
    "    total += num\n",
    "  return total\n",
    "\n",
    "result = sum_all(1, 2, 3, 4, 5,5,6,7,8)  # You can pass any number of arguments\n",
    "print(result)  # Output: 15"
   ]
  },
  {
   "cell_type": "code",
   "execution_count": null,
   "metadata": {},
   "outputs": [],
   "source": []
  },
  {
   "cell_type": "code",
   "execution_count": null,
   "metadata": {},
   "outputs": [],
   "source": []
  },
  {
   "cell_type": "code",
   "execution_count": 110,
   "metadata": {},
   "outputs": [],
   "source": [
    "def f1(func):\n",
    "    def wrapper(*args,**kwargs):\n",
    "        print(\"started\")\n",
    "        func(*args,**kwargs)\n",
    "        print(\"Ended\")\n",
    "    return wrapper   \n",
    "\n",
    "@f1\n",
    "def f(a):\n",
    "    print (a)"
   ]
  },
  {
   "cell_type": "code",
   "execution_count": 111,
   "metadata": {},
   "outputs": [
    {
     "name": "stdout",
     "output_type": "stream",
     "text": [
      "started\n",
      "hi\n",
      "Ended\n"
     ]
    }
   ],
   "source": [
    "f(\"hi\")"
   ]
  },
  {
   "cell_type": "code",
   "execution_count": 113,
   "metadata": {},
   "outputs": [],
   "source": [
    "def f1(func):\n",
    "    def wrapper(*args,**kwargs):\n",
    "        print(\"started\")\n",
    "        func(*args,**kwargs)\n",
    "        print(\"Ended\")\n",
    "    return wrapper   \n",
    "\n",
    "@f1\n",
    "def f(a,b=52):\n",
    "    print (a,b)"
   ]
  },
  {
   "cell_type": "code",
   "execution_count": 114,
   "metadata": {},
   "outputs": [
    {
     "name": "stdout",
     "output_type": "stream",
     "text": [
      "started\n",
      "hi 52\n",
      "Ended\n"
     ]
    }
   ],
   "source": [
    "f(\"hi\")"
   ]
  },
  {
   "cell_type": "code",
   "execution_count": 115,
   "metadata": {},
   "outputs": [],
   "source": [
    "def f1(func):\n",
    "    def wrapper(*args,**kwargs):\n",
    "        print(\"started\")\n",
    "        return func(*args,**kwargs)\n",
    "        print(\"Ended\")\n",
    "    return wrapper   \n",
    "\n",
    "@f1\n",
    "def substract(a,b):\n",
    "    return a - b"
   ]
  },
  {
   "cell_type": "code",
   "execution_count": 116,
   "metadata": {},
   "outputs": [
    {
     "name": "stdout",
     "output_type": "stream",
     "text": [
      "started\n",
      "6\n"
     ]
    }
   ],
   "source": [
    "# practice >> prepare for the other mathematical calculations\n",
    "\n",
    "print(substract(8,2))"
   ]
  },
  {
   "cell_type": "code",
   "execution_count": 119,
   "metadata": {},
   "outputs": [],
   "source": [
    "def f1(func):\n",
    "    def wrapper(*args,**kwargs):\n",
    "        print(\"started\")\n",
    "        res = func(*args,**kwargs)\n",
    "        print(\"Ended\")\n",
    "    \n",
    "        return res\n",
    "        \n",
    "    return wrapper   \n",
    "\n",
    "@f1\n",
    "def substract(a,b):\n",
    "    return a - b"
   ]
  },
  {
   "cell_type": "code",
   "execution_count": 120,
   "metadata": {},
   "outputs": [
    {
     "name": "stdout",
     "output_type": "stream",
     "text": [
      "started\n",
      "Ended\n",
      "6\n"
     ]
    }
   ],
   "source": [
    "print(substract(8,2))"
   ]
  },
  {
   "cell_type": "code",
   "execution_count": 121,
   "metadata": {},
   "outputs": [],
   "source": [
    "import time\n",
    "\n",
    "def before_after(func):\n",
    "    def wrapper(*args):\n",
    "        print(\"Before\")\n",
    "        func(*args)\n",
    "        print(\"After\")\n",
    "    return wrapper\n",
    "\n",
    "class test:\n",
    "    @before_after\n",
    "    def decorated_method(self):\n",
    "        print(\"run\")\n"
   ]
  },
  {
   "cell_type": "code",
   "execution_count": 122,
   "metadata": {},
   "outputs": [],
   "source": [
    "t = test()"
   ]
  },
  {
   "cell_type": "code",
   "execution_count": 123,
   "metadata": {},
   "outputs": [
    {
     "name": "stdout",
     "output_type": "stream",
     "text": [
      "Before\n",
      "run\n",
      "After\n"
     ]
    }
   ],
   "source": [
    "t.decorated_method()"
   ]
  },
  {
   "cell_type": "code",
   "execution_count": null,
   "metadata": {},
   "outputs": [],
   "source": [
    "# 03/31/2024 \n",
    "\n",
    "# File Handling\n"
   ]
  },
  {
   "cell_type": "code",
   "execution_count": 9,
   "metadata": {},
   "outputs": [],
   "source": [
    "# No need to specify the file location when the txt file is in the python files location\n",
    "f = open(\"testfile.txt\")"
   ]
  },
  {
   "cell_type": "code",
   "execution_count": 10,
   "metadata": {},
   "outputs": [
    {
     "name": "stdout",
     "output_type": "stream",
     "text": [
      "Hi \n",
      "welcome\n",
      "This is Data enginering course test file\n"
     ]
    }
   ],
   "source": [
    "print(f.read())"
   ]
  },
  {
   "cell_type": "code",
   "execution_count": 6,
   "metadata": {},
   "outputs": [
    {
     "name": "stdout",
     "output_type": "stream",
     "text": [
      "<_io.TextIOWrapper name='testfile.txt' mode='r' encoding='cp1252'>\n"
     ]
    }
   ],
   "source": [
    "print(f)"
   ]
  },
  {
   "cell_type": "code",
   "execution_count": 11,
   "metadata": {},
   "outputs": [
    {
     "name": "stdout",
     "output_type": "stream",
     "text": [
      " r\n"
     ]
    }
   ],
   "source": [
    "print(f.read(),\"r\")"
   ]
  },
  {
   "cell_type": "code",
   "execution_count": 12,
   "metadata": {},
   "outputs": [
    {
     "name": "stdout",
     "output_type": "stream",
     "text": [
      "Hi \n",
      "w\n"
     ]
    }
   ],
   "source": [
    "# the read function in python will consider the spaces also as the words.\n",
    "f = open(\"testfile.txt\")\n",
    "print(f.read(5))"
   ]
  },
  {
   "cell_type": "code",
   "execution_count": 13,
   "metadata": {},
   "outputs": [
    {
     "name": "stdout",
     "output_type": "stream",
     "text": [
      "Hi \n",
      "\n"
     ]
    }
   ],
   "source": [
    "f = open(\"testfile.txt\")\n",
    "print(f.readline()) # This will read the first line."
   ]
  },
  {
   "cell_type": "code",
   "execution_count": 14,
   "metadata": {},
   "outputs": [
    {
     "name": "stdout",
     "output_type": "stream",
     "text": [
      "Hi \n",
      "\n",
      "welcome\n",
      "\n",
      "This is Data enginering course test file\n"
     ]
    }
   ],
   "source": [
    "f = open(\"testfile.txt\")\n",
    "for x in f: print(x)"
   ]
  },
  {
   "cell_type": "code",
   "execution_count": null,
   "metadata": {},
   "outputs": [],
   "source": [
    "# We have to close the files to relase the resources holding the file.\n",
    "# We have to close the file as in some cases due to buffering changes made to a file may not show up until we close the file.\n",
    "f.close()"
   ]
  },
  {
   "cell_type": "code",
   "execution_count": null,
   "metadata": {},
   "outputs": [],
   "source": [
    "# append\n",
    "# Writing to an existing file we have to append it , so along with the open () functon we have to add parameters \"a\" and \"w\"\n",
    "# \"a\" >> append\n",
    "# \"w\" >> overwrite the exsiting one."
   ]
  },
  {
   "cell_type": "code",
   "execution_count": 15,
   "metadata": {},
   "outputs": [],
   "source": [
    "f = open(\"testfile.txt\",\"a\")\n",
    "f.write(\"New line has been added\")\n",
    "f.close()"
   ]
  },
  {
   "cell_type": "code",
   "execution_count": 31,
   "metadata": {},
   "outputs": [],
   "source": [
    "f = open(\"testfile2233.txt\",\"a\")"
   ]
  },
  {
   "cell_type": "code",
   "execution_count": 32,
   "metadata": {},
   "outputs": [],
   "source": [
    "f = open(\"testfile223344.txt\",\"a\")\n",
    "f.write(\"New line has been added\")\n",
    "f.close()"
   ]
  },
  {
   "cell_type": "code",
   "execution_count": 17,
   "metadata": {},
   "outputs": [
    {
     "name": "stdout",
     "output_type": "stream",
     "text": [
      "Hi \n",
      "welcome\n",
      "This is Data enginering course test fileNew line has been added\n"
     ]
    }
   ],
   "source": [
    "f = open(\"testfile.txt\")\n",
    "print(f.read())"
   ]
  },
  {
   "cell_type": "code",
   "execution_count": null,
   "metadata": {},
   "outputs": [],
   "source": []
  },
  {
   "cell_type": "code",
   "execution_count": 18,
   "metadata": {},
   "outputs": [
    {
     "ename": "SyntaxError",
     "evalue": "(unicode error) 'unicodeescape' codec can't decode bytes in position 2-3: truncated \\UXXXXXXXX escape (<ipython-input-18-fc08cc672ba1>, line 1)",
     "output_type": "error",
     "traceback": [
      "\u001b[1;36m  File \u001b[1;32m\"<ipython-input-18-fc08cc672ba1>\"\u001b[1;36m, line \u001b[1;32m1\u001b[0m\n\u001b[1;33m    f = open(\"C:\\Users\\LENOVO\\Documents\\DataEngineering2024\\testingfile\\testfile12.txt\")\u001b[0m\n\u001b[1;37m            ^\u001b[0m\n\u001b[1;31mSyntaxError\u001b[0m\u001b[1;31m:\u001b[0m (unicode error) 'unicodeescape' codec can't decode bytes in position 2-3: truncated \\UXXXXXXXX escape\n"
     ]
    }
   ],
   "source": [
    "f = open(\"C:\\Users\\LENOVO\\Documents\\DataEngineering2024\\testingfile\\testfile12.txt\")\n",
    "print(f.read())"
   ]
  },
  {
   "cell_type": "code",
   "execution_count": 19,
   "metadata": {},
   "outputs": [
    {
     "name": "stdout",
     "output_type": "stream",
     "text": [
      "Hi \n",
      "welcome\n",
      "This is Data enginering course test fileNew line has been added\n"
     ]
    }
   ],
   "source": [
    "f = open(\"C:\\\\Users\\\\LENOVO\\\\Documents\\\\DataEngineering2024\\\\testingfile\\\\testfile12.txt\")\n",
    "print(f.read())"
   ]
  },
  {
   "cell_type": "code",
   "execution_count": 20,
   "metadata": {},
   "outputs": [
    {
     "name": "stdout",
     "output_type": "stream",
     "text": [
      "Hi \n",
      "welcome\n",
      "This is Data enginering course test fileNew line has been added\n"
     ]
    }
   ],
   "source": [
    "# in this case we are using the regular expression\n",
    "# represented with \" r \"\n",
    "\n",
    "f = open(r\"C:\\Users\\LENOVO\\Documents\\DataEngineering2024\\testingfile\\testfile12.txt\")\n",
    "print(f.read())"
   ]
  },
  {
   "cell_type": "code",
   "execution_count": null,
   "metadata": {},
   "outputs": [],
   "source": []
  },
  {
   "cell_type": "code",
   "execution_count": 21,
   "metadata": {},
   "outputs": [
    {
     "name": "stdout",
     "output_type": "stream",
     "text": [
      "Hi \n",
      "welcom\n"
     ]
    }
   ],
   "source": [
    "f = open(\"testfile.txt\")\n",
    "print(f.read(10))"
   ]
  },
  {
   "cell_type": "code",
   "execution_count": 23,
   "metadata": {},
   "outputs": [
    {
     "ename": "ModuleNotFoundError",
     "evalue": "No module named 'tensorflow'",
     "output_type": "error",
     "traceback": [
      "\u001b[1;31m---------------------------------------------------------------------------\u001b[0m",
      "\u001b[1;31mModuleNotFoundError\u001b[0m                       Traceback (most recent call last)",
      "\u001b[1;32m<ipython-input-23-d6579f534729>\u001b[0m in \u001b[0;36m<module>\u001b[1;34m\u001b[0m\n\u001b[1;32m----> 1\u001b[1;33m \u001b[1;32mimport\u001b[0m \u001b[0mtensorflow\u001b[0m\u001b[1;33m\u001b[0m\u001b[1;33m\u001b[0m\u001b[0m\n\u001b[0m",
      "\u001b[1;31mModuleNotFoundError\u001b[0m: No module named 'tensorflow'"
     ]
    }
   ],
   "source": [
    "import tensorflow # if we dont install the modules then we get this error"
   ]
  },
  {
   "cell_type": "code",
   "execution_count": null,
   "metadata": {},
   "outputs": [],
   "source": [
    "pip install <moudle name>"
   ]
  },
  {
   "cell_type": "code",
   "execution_count": 25,
   "metadata": {},
   "outputs": [
    {
     "name": "stdout",
     "output_type": "stream",
     "text": [
      "Collecting os-sys\n",
      "  Downloading https://files.pythonhosted.org/packages/89/4a/ecf84210a9c02f4d246c10f28a50050c6934eb9257298eb6d7aeef32c38b/os_sys-2.1.4-py3-none-any.whl (15.6MB)\n",
      "Collecting progressbar (from os-sys)\n",
      "  Downloading https://files.pythonhosted.org/packages/a3/a6/b8e451f6cff1c99b4747a2f7235aa904d2d49e8e1464e0b798272aa84358/progressbar-2.5.tar.gz\n",
      "Requirement already satisfied: pandas in c:\\users\\lenovo\\anaconda3\\lib\\site-packages (from os-sys) (0.24.2)\n",
      "Requirement already satisfied: Send2Trash in c:\\users\\lenovo\\anaconda3\\lib\\site-packages (from os-sys) (1.5.0)\n",
      "Requirement already satisfied: jupyter in c:\\users\\lenovo\\anaconda3\\lib\\site-packages (from os-sys) (1.0.0)\n",
      "Collecting wifi (from os-sys)\n",
      "  Downloading https://files.pythonhosted.org/packages/fe/a9/d026afe8a400dd40122385cd690e4fff4d574ed16f5c3a0f5e3921bfd383/wifi-0.3.8.tar.gz\n",
      "Requirement already satisfied: sqlalchemy<1.4,>=1.3 in c:\\users\\lenovo\\anaconda3\\lib\\site-packages (from os-sys) (1.3.1)\n",
      "Collecting spacy==2.2.0 (from os-sys)\n",
      "  Downloading https://files.pythonhosted.org/packages/df/05/47bef6b21a7e6e2b660b464d9017eb15d485b9e5b33188d3002dfc8e5bb1/spacy-2.2.0-cp37-cp37m-win_amd64.whl (9.3MB)\n",
      "Collecting selenium (from os-sys)\n",
      "  Downloading https://files.pythonhosted.org/packages/10/56/8288d1813a68c1e0638515dbb777fce6d87d0d240e683216f956145310e6/selenium-4.11.2-py3-none-any.whl (7.2MB)\n",
      "Requirement already satisfied: tqdm in c:\\users\\lenovo\\anaconda3\\lib\\site-packages (from os-sys) (4.31.1)\n",
      "Requirement already satisfied: beautifulsoup4 in c:\\users\\lenovo\\anaconda3\\lib\\site-packages (from os-sys) (4.7.1)\n",
      "Collecting PyInstaller (from os-sys)\n",
      "  Downloading https://files.pythonhosted.org/packages/1a/74/c65be869ae47649b98a928b3122c27d72fe372138aab4dc6cdd42e217d8a/pyinstaller-5.13.2-py3-none-win_amd64.whl (1.3MB)\n",
      "Requirement already satisfied: numpy in c:\\users\\lenovo\\anaconda3\\lib\\site-packages (from os-sys) (1.16.2)\n",
      "Collecting geocoder (from os-sys)\n",
      "  Downloading https://files.pythonhosted.org/packages/4f/6b/13166c909ad2f2d76b929a4227c952630ebaf0d729f6317eb09cbceccbab/geocoder-1.38.1-py2.py3-none-any.whl (98kB)\n",
      "Collecting auto-py-to-exe (from os-sys)\n",
      "  Downloading https://files.pythonhosted.org/packages/83/9c/e9961de2282caf782645a2aaedc3b8a7f0cd7ad0eb4a4e6696ae4f76de97/auto_py_to_exe-2.43.3-py2.py3-none-any.whl (187kB)\n",
      "Collecting pyspeedtest (from os-sys)\n",
      "  Downloading https://files.pythonhosted.org/packages/83/b8/1fd99c76a49b2eb2f8f4d7ee335f5983d492b05d8e1bc091b7c7931ec613/pyspeedtest-1.2.7.tar.gz\n",
      "Requirement already satisfied: six in c:\\users\\lenovo\\anaconda3\\lib\\site-packages (from os-sys) (1.12.0)\n",
      "Collecting progress (from os-sys)\n",
      "  Downloading https://files.pythonhosted.org/packages/2a/68/d8412d1e0d70edf9791cbac5426dc859f4649afc22f2abbeb0d947cf70fd/progress-1.6.tar.gz\n",
      "Collecting cefpython3 (from os-sys)\n",
      "  Downloading https://files.pythonhosted.org/packages/3b/d4/f313221a999e4d295cc8fcb15fc4ac9c98f6759e50735d6f6ce84fd3e98a/cefpython3-66.1-py2.py3-none-win_amd64.whl (69.0MB)\n",
      "Collecting Eel (from os-sys)\n",
      "  Downloading https://files.pythonhosted.org/packages/2e/8f/a60971f45884f871a5f1e249e75c0c80745568683fa17378cd200e929681/Eel-0.16.0.tar.gz\n",
      "Collecting os-sys-php (from os-sys)\n",
      "  Downloading https://files.pythonhosted.org/packages/f5/07/6ce030c3e6cb273c4e21cbf7d24b88a1bf18d594d8f72aa7f2853475e45d/os_sys_php-2019.10.13-py3-none-any.whl (38.6MB)\n",
      "Requirement already satisfied: pytz in c:\\users\\lenovo\\anaconda3\\lib\\site-packages (from os-sys) (2018.9)\n",
      "Collecting sqlparse (from os-sys)\n",
      "  Downloading https://files.pythonhosted.org/packages/98/5a/66d7c9305baa9f11857f247d4ba761402cea75db6058ff850ed7128957b7/sqlparse-0.4.4-py3-none-any.whl (41kB)\n",
      "Collecting mathparse<0.2,>=0.1 (from os-sys)\n",
      "  Downloading https://files.pythonhosted.org/packages/c3/e5/4910fb85950cb960fcf3f5aabe1c8e55f5c9201788a1c1302b570a7e1f84/mathparse-0.1.2-py3-none-any.whl\n",
      "Requirement already satisfied: nltk<4.0,>=3.2 in c:\\users\\lenovo\\anaconda3\\lib\\site-packages (from os-sys) (3.4)\n",
      "Requirement already satisfied: pyyaml<5.2,>=5.1 in c:\\users\\lenovo\\anaconda3\\lib\\site-packages (from os-sys) (5.1)\n",
      "Collecting Django (from os-sys)\n",
      "  Downloading https://files.pythonhosted.org/packages/30/8e/cc23c762c5dcd1d367d73cf006a326e0df2bd0e785cba18b658b39904c1e/Django-3.2.25-py3-none-any.whl (7.9MB)\n",
      "Collecting netifaces (from os-sys)\n",
      "  Downloading https://files.pythonhosted.org/packages/a9/65/eea4d675d8bb5acc243d44f93a4b5757fcda223a6817ef2864c1491fe60f/netifaces-0.11.0-cp37-cp37m-win_amd64.whl\n",
      "Collecting tuspy (from os-sys)\n",
      "  Downloading https://files.pythonhosted.org/packages/52/81/ec2c616fc39202911d14e3adc4b2681e8c052a8981574a9f988cdd6b9212/tuspy-1.0.3-py3-none-any.whl\n",
      "Collecting pint>=0.8.1 (from os-sys)\n",
      "  Downloading https://files.pythonhosted.org/packages/0a/98/98b3c6d954b6bd8531c611fb24be53ccc66438f493b05ec4b107942e27b7/Pint-0.18-py2.py3-none-any.whl (209kB)\n",
      "Requirement already satisfied: requests in c:\\users\\lenovo\\anaconda3\\lib\\site-packages (from os-sys) (2.21.0)\n",
      "Requirement already satisfied: psutil in c:\\users\\lenovo\\anaconda3\\lib\\site-packages (from os-sys) (5.6.1)\n",
      "Collecting wmi (from os-sys)\n",
      "  Downloading https://files.pythonhosted.org/packages/ee/b9/a80d1ed4d115dac8e2ac08d16af046a77ab58e3d186e22395bf2add24090/WMI-1.5.1-py2.py3-none-any.whl\n",
      "Collecting pypiwin32 (from os-sys)\n",
      "  Downloading https://files.pythonhosted.org/packages/d0/1b/2f292bbd742e369a100c91faa0483172cd91a1a422a6692055ac920946c5/pypiwin32-223-py3-none-any.whl\n",
      "Collecting text-editor (from os-sys)\n",
      "Note: you may need to restart the kernel to use updated packages.\n"
     ]
    },
    {
     "name": "stderr",
     "output_type": "stream",
     "text": [
      "  Could not find a version that satisfies the requirement text-editor (from os-sys) (from versions: )\n",
      "No matching distribution found for text-editor (from os-sys)\n"
     ]
    }
   ],
   "source": [
    "pip install os-sys"
   ]
  },
  {
   "cell_type": "code",
   "execution_count": 22,
   "metadata": {},
   "outputs": [
    {
     "ename": "NameError",
     "evalue": "name 'os' is not defined",
     "output_type": "error",
     "traceback": [
      "\u001b[1;31m---------------------------------------------------------------------------\u001b[0m",
      "\u001b[1;31mNameError\u001b[0m                                 Traceback (most recent call last)",
      "\u001b[1;32m<ipython-input-22-8bccbcc756b3>\u001b[0m in \u001b[0;36m<module>\u001b[1;34m\u001b[0m\n\u001b[1;32m----> 1\u001b[1;33m \u001b[0mos\u001b[0m\u001b[1;33m.\u001b[0m\u001b[0mremove\u001b[0m\u001b[1;33m(\u001b[0m\u001b[1;34mr\"C:\\Users\\LENOVO\\Documents\\DataEngineering2024\\testingfile\\testfile12.txt\"\u001b[0m\u001b[1;33m)\u001b[0m\u001b[1;33m\u001b[0m\u001b[1;33m\u001b[0m\u001b[0m\n\u001b[0m",
      "\u001b[1;31mNameError\u001b[0m: name 'os' is not defined"
     ]
    }
   ],
   "source": [
    "os.remove(r\"C:\\Users\\LENOVO\\Documents\\DataEngineering2024\\testingfile\\testfile12.txt\")"
   ]
  },
  {
   "cell_type": "code",
   "execution_count": 26,
   "metadata": {},
   "outputs": [],
   "source": [
    "import os\n",
    "os.remove(r\"C:\\Users\\LENOVO\\Documents\\DataEngineering2024\\testingfile\\testfile12.txt\")"
   ]
  },
  {
   "cell_type": "code",
   "execution_count": 27,
   "metadata": {},
   "outputs": [],
   "source": [
    "os.rmdir(r\"C:\\Users\\LENOVO\\Documents\\DataEngineering2024\\testingfile\\del\") # if we are trying to delete a folder make sure the folder is empty."
   ]
  },
  {
   "cell_type": "code",
   "execution_count": 28,
   "metadata": {},
   "outputs": [
    {
     "data": {
      "text/plain": [
       "'C:\\\\Users\\\\LENOVO\\\\Documents\\\\DataEngineering2024'"
      ]
     },
     "execution_count": 28,
     "metadata": {},
     "output_type": "execute_result"
    }
   ],
   "source": [
    "pwd"
   ]
  },
  {
   "cell_type": "code",
   "execution_count": 30,
   "metadata": {},
   "outputs": [],
   "source": [
    "# command to check if the file exists and then update the name just to refresh the access\n",
    "import os\n",
    "\n",
    "f = r'C:\\Users\\LENOVO\\Documents\\DataEngineering2024\\testingfile\\testfile12.txt'\n",
    "if os.path.exists(f):\n",
    "    try:\n",
    "        os.rename(f, f)\n",
    "        print ('Access on file \"' + f +'\" is available!')\n",
    "    except OSError as e:\n",
    "        print ('Access-error on file \"' + f + '\"! \\n' + str(e))"
   ]
  },
  {
   "cell_type": "code",
   "execution_count": 33,
   "metadata": {},
   "outputs": [
    {
     "name": "stdout",
     "output_type": "stream",
     "text": [
      "  std_name       dob\n",
      "0      ram   1621977\n",
      "1      sam  14121985\n",
      "2   suriya  26052003\n"
     ]
    }
   ],
   "source": [
    "# 02/04/2024\n",
    "# pip install pandas\n",
    "# Key value pairs\n",
    "# Dictionaires\n",
    "# Json format \n",
    "# Data frames\n",
    "# Indexes >> \n",
    "\n",
    "import pandas as pd\n",
    "\n",
    "ds = {\n",
    "        'std_name':['ram','sam','suriya'],\n",
    "        'dob':[1621977,14121985,26052003]\n",
    "}\n",
    "\n",
    "mvar=pd.DataFrame(ds)\n",
    "\n",
    "print(mvar)"
   ]
  },
  {
   "cell_type": "code",
   "execution_count": 34,
   "metadata": {},
   "outputs": [
    {
     "ename": "AttributeError",
     "evalue": "'dict' object has no attribute 'loc'",
     "output_type": "error",
     "traceback": [
      "\u001b[1;31m---------------------------------------------------------------------------\u001b[0m",
      "\u001b[1;31mAttributeError\u001b[0m                            Traceback (most recent call last)",
      "\u001b[1;32m<ipython-input-34-344332c03a83>\u001b[0m in \u001b[0;36m<module>\u001b[1;34m\u001b[0m\n\u001b[1;32m----> 1\u001b[1;33m \u001b[0mprint\u001b[0m\u001b[1;33m(\u001b[0m\u001b[0mds\u001b[0m\u001b[1;33m.\u001b[0m\u001b[0mloc\u001b[0m\u001b[1;33m[\u001b[0m\u001b[1;36m0\u001b[0m\u001b[1;33m]\u001b[0m\u001b[1;33m)\u001b[0m  \u001b[1;31m# This will raise an AttributeError\u001b[0m\u001b[1;33m\u001b[0m\u001b[1;33m\u001b[0m\u001b[0m\n\u001b[0m",
      "\u001b[1;31mAttributeError\u001b[0m: 'dict' object has no attribute 'loc'"
     ]
    }
   ],
   "source": [
    " print(ds.loc[0])  # This will raise an AttributeError"
   ]
  },
  {
   "cell_type": "code",
   "execution_count": 35,
   "metadata": {},
   "outputs": [
    {
     "name": "stdout",
     "output_type": "stream",
     "text": [
      "Oops! AttributeError caught.\n"
     ]
    }
   ],
   "source": [
    "# this block of code is called as \"error hanlding methods\"\n",
    "try:\n",
    "    print(ds.loc[0])  # This will raise an AttributeError\n",
    "except AttributeError:\n",
    "    print(\"Oops! AttributeError caught.\")"
   ]
  },
  {
   "cell_type": "code",
   "execution_count": 36,
   "metadata": {},
   "outputs": [
    {
     "name": "stdout",
     "output_type": "stream",
     "text": [
      "                             id  followers  \\\n",
      "0        0DheY5irMjBUeLybbCUEZ2        0.0   \n",
      "1        0DlhY15l3wsrnlfGio2bjU        5.0   \n",
      "2        0DmRESX2JknGPQyO15yxg7        0.0   \n",
      "3        0DmhnbHjm1qw6NCYPeZNgJ        0.0   \n",
      "4        0Dn11fWM7vHQ3rinvWEl4E        2.0   \n",
      "5        0DotfDlYMGqkbzfBhcA5r6        7.0   \n",
      "6        0DqP3bOCiC48L8SM9gK4W8        1.0   \n",
      "7        0Drs3maQb99iRglyTuxizI        0.0   \n",
      "8        0DsPeAi1gxPPnYjgpiEGSR        0.0   \n",
      "9        0DtvnTxgZ9K5YaPS5jdlQW       20.0   \n",
      "10       0Du4t8UK1lBD8TnOIa3c17        1.0   \n",
      "11       0DuJ5k2ERoAizEdgUzJGTc        0.0   \n",
      "12       0DujX6vG6qOz2wVBCQg5Vi        0.0   \n",
      "13       0DvBSYDq5ikdlKgp94Yamq        1.0   \n",
      "14       0DvvojCMIqsOT1Btiwvq1h      422.0   \n",
      "15       0DxcE03jyjg3wQVHUQKx8C        0.0   \n",
      "16       0DxsGcq4ILa7Ss2CmZfipk        0.0   \n",
      "17       0DzKNJPHYPMaLDxDVEuznX        4.0   \n",
      "18       0DzfuBZVzDryD5ZqKla8EW        0.0   \n",
      "19       0DzvgthIK2nmlAPE0A2Uvo        0.0   \n",
      "20       0E01IqK2Q0vhDHOrQHRoHv        0.0   \n",
      "21       0E0SpAZoIxSSvBefCBLfUB        3.0   \n",
      "22       0E0afUR6aObnzDTMvjMEuC        3.0   \n",
      "23       0E0eEzoo3nfBf5efmw6S1Q        0.0   \n",
      "24       0E0n2GRFDjxWw3NiIAG8O3       66.0   \n",
      "25       0E1g9toY6vQ4ANdEWV3H2o        1.0   \n",
      "26       0E2KoM6UMbdCUigMup7Mm5        0.0   \n",
      "27       0E2f4liezEM9Q9OpIovTXJ        0.0   \n",
      "28       0E3abAxpm40VzlkhFxBhUc        0.0   \n",
      "29       0E3hfspo8Y6JaVY7hx9Dbw       11.0   \n",
      "...                         ...        ...   \n",
      "1162065  6vX1NJj4DTYPLao9oRtZc8       33.0   \n",
      "1162066  209v7LjUrpsbsik1AoGXqF       23.0   \n",
      "1162067  0NSODqljgIwDzrZKLPDno3       51.0   \n",
      "1162068  3hSRSAwKdBpjJX15fwrhPU       35.0   \n",
      "1162069  2qVIlG7b7QyyBJEBdfMdSA        5.0   \n",
      "1162070  3UnAVg2Zel01y5FDxYWHL5       32.0   \n",
      "1162071  4XWwnGUBUPnWXZIEbeURMh       21.0   \n",
      "1162072  6GOKjenDXHZDMCtCzXXI9O       16.0   \n",
      "1162073  1oR9lnJuf3ihKSwGu4Ph8B       20.0   \n",
      "1162074  68MHNriQdF9UagG2Si1d0F        1.0   \n",
      "1162075  54cEPaH0NTifMLjFq3L8Gj      328.0   \n",
      "1162076  5vX1UmLrd43vAEbGL6BKUY      122.0   \n",
      "1162077  7u4vqazW8NbXSLorzpZYZ6       41.0   \n",
      "1162078  1Zk80PnqV7uoc8vMzpX9nZ       13.0   \n",
      "1162079  5qmon2ceyHHvbFYzFBCo9J       26.0   \n",
      "1162080  32cqXFEVL4d9DyvtHuleHa      666.0   \n",
      "1162081  6EtAJfmBl4YeK7oyaRua5i     5804.0   \n",
      "1162082  245CRwGNgdSkkwUo10Xpre     1267.0   \n",
      "1162083  7hyMkNkpKuKJoIq4J7F4Uo      636.0   \n",
      "1162084  1dT71t6LJhv2FuLM0zuegn      598.0   \n",
      "1162085  4JLYIWkIU0p2zxtTaixtoC      328.0   \n",
      "1162086  6fulEar0uOeRNYLp7RvaKg     1598.0   \n",
      "1162087  0vZbvoyHDSwTGY4v1oUo31     1682.0   \n",
      "1162088  3V4ODgUObsEHFX6GQUy8xl      419.0   \n",
      "1162089  2AuW39AOSXtNdQP6thlLgi      188.0   \n",
      "1162090  3cOzi726Iav1toV2LRVEjp     4831.0   \n",
      "1162091  6LogY6VMM3jgAE6fPzXeMl       46.0   \n",
      "1162092  19boQkDEIay9GaVAWkUhTa      257.0   \n",
      "1162093  5nvjpU3Y7L6Hpe54QuvDjy     2357.0   \n",
      "1162094  2bP2cNhNBdKXHC6AnqgyVp       40.0   \n",
      "\n",
      "                                                genres  \\\n",
      "0                                                   []   \n",
      "1                                                   []   \n",
      "2                                                   []   \n",
      "3                                                   []   \n",
      "4                                                   []   \n",
      "5                                                   []   \n",
      "6                                                   []   \n",
      "7                                                   []   \n",
      "8                                                   []   \n",
      "9                                                   []   \n",
      "10                                                  []   \n",
      "11                                                  []   \n",
      "12                                                  []   \n",
      "13                                                  []   \n",
      "14                                                  []   \n",
      "15                                                  []   \n",
      "16                                                  []   \n",
      "17                                                  []   \n",
      "18                                                  []   \n",
      "19                                                  []   \n",
      "20                                                  []   \n",
      "21                                                  []   \n",
      "22                                                  []   \n",
      "23                                                  []   \n",
      "24                                                  []   \n",
      "25                                                  []   \n",
      "26                                                  []   \n",
      "27                                                  []   \n",
      "28                                                  []   \n",
      "29                                                  []   \n",
      "...                                                ...   \n",
      "1162065                                             []   \n",
      "1162066                                             []   \n",
      "1162067                                             []   \n",
      "1162068                     ['brazilian experimental']   \n",
      "1162069                                             []   \n",
      "1162070                                             []   \n",
      "1162071                                             []   \n",
      "1162072                                             []   \n",
      "1162073                                             []   \n",
      "1162074                                             []   \n",
      "1162075                                             []   \n",
      "1162076                                             []   \n",
      "1162077                                             []   \n",
      "1162078                                             []   \n",
      "1162079                                             []   \n",
      "1162080                               ['black comedy']   \n",
      "1162081                               ['black comedy']   \n",
      "1162082                               ['black comedy']   \n",
      "1162083                               ['black comedy']   \n",
      "1162084                               ['black comedy']   \n",
      "1162085                  ['deep comedy', 'new comedy']   \n",
      "1162086                  ['deep comedy', 'new comedy']   \n",
      "1162087  ['clean comedy', 'deep comedy', 'new comedy']   \n",
      "1162088                                ['deep comedy']   \n",
      "1162089                                             []   \n",
      "1162090                               ['black comedy']   \n",
      "1162091                                             []   \n",
      "1162092                                             []   \n",
      "1162093                               ['black comedy']   \n",
      "1162094                                 ['new comedy']   \n",
      "\n",
      "                                                   name  popularity  \n",
      "0        Armid & Amir Zare Pashai feat. Sara Rouzbehani           0  \n",
      "1                                           ปูนา ภาวิณี           0  \n",
      "2                                                 Sadaa           0  \n",
      "3                                             Tra'gruda           0  \n",
      "4                                Ioannis Panoutsopoulos           0  \n",
      "5                                         Astral Affect           0  \n",
      "6                                             Yung Seed           0  \n",
      "7                                                 Wi'Ma           0  \n",
      "8                                               lentboy           0  \n",
      "9                                              addworks           0  \n",
      "10                                          Harrbazzter           0  \n",
      "11                                       Helena Brunner           0  \n",
      "12                                       Deezy McDuffie           0  \n",
      "13                                        Riyaz Azaimar           0  \n",
      "14                                        Sidonie Radio           0  \n",
      "15                                           Le Chamête           0  \n",
      "16                                             Lipin. P           0  \n",
      "17                                         Breakingnews           0  \n",
      "18                                       TINY x dr.KONG           0  \n",
      "19                                               Stan P           0  \n",
      "20                                              Smockda           0  \n",
      "21                                              El Bago           0  \n",
      "22                                       Kazuki Komatsu           0  \n",
      "23                                        Omar Ferreyra           0  \n",
      "24                                            Los Argon           0  \n",
      "25                                        Uhmforcestare           0  \n",
      "26                                       Wemerson Paulo           0  \n",
      "27                                             Snathers           0  \n",
      "28                                            Joel Tepp           0  \n",
      "29                                   Letters to Lillian           0  \n",
      "...                                                 ...         ...  \n",
      "1162065                                    The Crawdads           0  \n",
      "1162066                                        Property           0  \n",
      "1162067                           The Blue and the Gray           2  \n",
      "1162068                                        Muepetmo           0  \n",
      "1162069                                    Liberty Caps           0  \n",
      "1162070                               A Thousand Lights           0  \n",
      "1162071                                  Everything New           0  \n",
      "1162072                                      Truth Cell           0  \n",
      "1162073                                        Faustina           0  \n",
      "1162074                                  The Poppycocks           0  \n",
      "1162075                                   Kevin Bozeman           5  \n",
      "1162076                Arthur Dodge & The Horsefeathers           2  \n",
      "1162077                                The Black Mollys           0  \n",
      "1162078                            Rapunzel and Sedayne           0  \n",
      "1162079                                 Jenny McCormick           0  \n",
      "1162080                                  Dwayne Perkins          20  \n",
      "1162081                                       Deon Cole          31  \n",
      "1162082                                  Lil Rel Howery          25  \n",
      "1162083                                    Gerald Kelly          12  \n",
      "1162084                                     Faizon Love          11  \n",
      "1162085                                Gabriel Rutledge          14  \n",
      "1162086                                   Joe Zimmerman          27  \n",
      "1162087                                      Josh Sneed          20  \n",
      "1162088                                   Matt McCarthy           9  \n",
      "1162089                                      Ty Barnett           3  \n",
      "1162090                                      Ali Siddiq          34  \n",
      "1162091                                    Rodney Laney           2  \n",
      "1162092                                    Blake Wexler          10  \n",
      "1162093                                Donnell Rawlings          15  \n",
      "1162094                                        Gabe Kea           8  \n",
      "\n",
      "[1162095 rows x 5 columns]\n"
     ]
    }
   ],
   "source": [
    "# CSV >> Comma Separated Values\n",
    "import pandas as pd\n",
    "df = pd.read_csv('artists.csv')\n",
    "print(df)"
   ]
  },
  {
   "cell_type": "code",
   "execution_count": 39,
   "metadata": {},
   "outputs": [
    {
     "data": {
      "text/html": [
       "<div>\n",
       "<style scoped>\n",
       "    .dataframe tbody tr th:only-of-type {\n",
       "        vertical-align: middle;\n",
       "    }\n",
       "\n",
       "    .dataframe tbody tr th {\n",
       "        vertical-align: top;\n",
       "    }\n",
       "\n",
       "    .dataframe thead th {\n",
       "        text-align: right;\n",
       "    }\n",
       "</style>\n",
       "<table border=\"1\" class=\"dataframe\">\n",
       "  <thead>\n",
       "    <tr style=\"text-align: right;\">\n",
       "      <th></th>\n",
       "      <th>id</th>\n",
       "      <th>followers</th>\n",
       "      <th>genres</th>\n",
       "      <th>name</th>\n",
       "      <th>popularity</th>\n",
       "    </tr>\n",
       "  </thead>\n",
       "  <tbody>\n",
       "    <tr>\n",
       "      <th>0</th>\n",
       "      <td>0DheY5irMjBUeLybbCUEZ2</td>\n",
       "      <td>0.0</td>\n",
       "      <td>[]</td>\n",
       "      <td>Armid &amp; Amir Zare Pashai feat. Sara Rouzbehani</td>\n",
       "      <td>0</td>\n",
       "    </tr>\n",
       "    <tr>\n",
       "      <th>1</th>\n",
       "      <td>0DlhY15l3wsrnlfGio2bjU</td>\n",
       "      <td>5.0</td>\n",
       "      <td>[]</td>\n",
       "      <td>ปูนา ภาวิณี</td>\n",
       "      <td>0</td>\n",
       "    </tr>\n",
       "    <tr>\n",
       "      <th>2</th>\n",
       "      <td>0DmRESX2JknGPQyO15yxg7</td>\n",
       "      <td>0.0</td>\n",
       "      <td>[]</td>\n",
       "      <td>Sadaa</td>\n",
       "      <td>0</td>\n",
       "    </tr>\n",
       "    <tr>\n",
       "      <th>3</th>\n",
       "      <td>0DmhnbHjm1qw6NCYPeZNgJ</td>\n",
       "      <td>0.0</td>\n",
       "      <td>[]</td>\n",
       "      <td>Tra'gruda</td>\n",
       "      <td>0</td>\n",
       "    </tr>\n",
       "    <tr>\n",
       "      <th>4</th>\n",
       "      <td>0Dn11fWM7vHQ3rinvWEl4E</td>\n",
       "      <td>2.0</td>\n",
       "      <td>[]</td>\n",
       "      <td>Ioannis Panoutsopoulos</td>\n",
       "      <td>0</td>\n",
       "    </tr>\n",
       "    <tr>\n",
       "      <th>5</th>\n",
       "      <td>0DotfDlYMGqkbzfBhcA5r6</td>\n",
       "      <td>7.0</td>\n",
       "      <td>[]</td>\n",
       "      <td>Astral Affect</td>\n",
       "      <td>0</td>\n",
       "    </tr>\n",
       "    <tr>\n",
       "      <th>6</th>\n",
       "      <td>0DqP3bOCiC48L8SM9gK4W8</td>\n",
       "      <td>1.0</td>\n",
       "      <td>[]</td>\n",
       "      <td>Yung Seed</td>\n",
       "      <td>0</td>\n",
       "    </tr>\n",
       "    <tr>\n",
       "      <th>7</th>\n",
       "      <td>0Drs3maQb99iRglyTuxizI</td>\n",
       "      <td>0.0</td>\n",
       "      <td>[]</td>\n",
       "      <td>Wi'Ma</td>\n",
       "      <td>0</td>\n",
       "    </tr>\n",
       "    <tr>\n",
       "      <th>8</th>\n",
       "      <td>0DsPeAi1gxPPnYjgpiEGSR</td>\n",
       "      <td>0.0</td>\n",
       "      <td>[]</td>\n",
       "      <td>lentboy</td>\n",
       "      <td>0</td>\n",
       "    </tr>\n",
       "    <tr>\n",
       "      <th>9</th>\n",
       "      <td>0DtvnTxgZ9K5YaPS5jdlQW</td>\n",
       "      <td>20.0</td>\n",
       "      <td>[]</td>\n",
       "      <td>addworks</td>\n",
       "      <td>0</td>\n",
       "    </tr>\n",
       "    <tr>\n",
       "      <th>10</th>\n",
       "      <td>0Du4t8UK1lBD8TnOIa3c17</td>\n",
       "      <td>1.0</td>\n",
       "      <td>[]</td>\n",
       "      <td>Harrbazzter</td>\n",
       "      <td>0</td>\n",
       "    </tr>\n",
       "    <tr>\n",
       "      <th>11</th>\n",
       "      <td>0DuJ5k2ERoAizEdgUzJGTc</td>\n",
       "      <td>0.0</td>\n",
       "      <td>[]</td>\n",
       "      <td>Helena Brunner</td>\n",
       "      <td>0</td>\n",
       "    </tr>\n",
       "    <tr>\n",
       "      <th>12</th>\n",
       "      <td>0DujX6vG6qOz2wVBCQg5Vi</td>\n",
       "      <td>0.0</td>\n",
       "      <td>[]</td>\n",
       "      <td>Deezy McDuffie</td>\n",
       "      <td>0</td>\n",
       "    </tr>\n",
       "    <tr>\n",
       "      <th>13</th>\n",
       "      <td>0DvBSYDq5ikdlKgp94Yamq</td>\n",
       "      <td>1.0</td>\n",
       "      <td>[]</td>\n",
       "      <td>Riyaz Azaimar</td>\n",
       "      <td>0</td>\n",
       "    </tr>\n",
       "    <tr>\n",
       "      <th>14</th>\n",
       "      <td>0DvvojCMIqsOT1Btiwvq1h</td>\n",
       "      <td>422.0</td>\n",
       "      <td>[]</td>\n",
       "      <td>Sidonie Radio</td>\n",
       "      <td>0</td>\n",
       "    </tr>\n",
       "    <tr>\n",
       "      <th>15</th>\n",
       "      <td>0DxcE03jyjg3wQVHUQKx8C</td>\n",
       "      <td>0.0</td>\n",
       "      <td>[]</td>\n",
       "      <td>Le Chamête</td>\n",
       "      <td>0</td>\n",
       "    </tr>\n",
       "    <tr>\n",
       "      <th>16</th>\n",
       "      <td>0DxsGcq4ILa7Ss2CmZfipk</td>\n",
       "      <td>0.0</td>\n",
       "      <td>[]</td>\n",
       "      <td>Lipin. P</td>\n",
       "      <td>0</td>\n",
       "    </tr>\n",
       "    <tr>\n",
       "      <th>17</th>\n",
       "      <td>0DzKNJPHYPMaLDxDVEuznX</td>\n",
       "      <td>4.0</td>\n",
       "      <td>[]</td>\n",
       "      <td>Breakingnews</td>\n",
       "      <td>0</td>\n",
       "    </tr>\n",
       "    <tr>\n",
       "      <th>18</th>\n",
       "      <td>0DzfuBZVzDryD5ZqKla8EW</td>\n",
       "      <td>0.0</td>\n",
       "      <td>[]</td>\n",
       "      <td>TINY x dr.KONG</td>\n",
       "      <td>0</td>\n",
       "    </tr>\n",
       "    <tr>\n",
       "      <th>19</th>\n",
       "      <td>0DzvgthIK2nmlAPE0A2Uvo</td>\n",
       "      <td>0.0</td>\n",
       "      <td>[]</td>\n",
       "      <td>Stan P</td>\n",
       "      <td>0</td>\n",
       "    </tr>\n",
       "  </tbody>\n",
       "</table>\n",
       "</div>"
      ],
      "text/plain": [
       "                        id  followers genres  \\\n",
       "0   0DheY5irMjBUeLybbCUEZ2        0.0     []   \n",
       "1   0DlhY15l3wsrnlfGio2bjU        5.0     []   \n",
       "2   0DmRESX2JknGPQyO15yxg7        0.0     []   \n",
       "3   0DmhnbHjm1qw6NCYPeZNgJ        0.0     []   \n",
       "4   0Dn11fWM7vHQ3rinvWEl4E        2.0     []   \n",
       "5   0DotfDlYMGqkbzfBhcA5r6        7.0     []   \n",
       "6   0DqP3bOCiC48L8SM9gK4W8        1.0     []   \n",
       "7   0Drs3maQb99iRglyTuxizI        0.0     []   \n",
       "8   0DsPeAi1gxPPnYjgpiEGSR        0.0     []   \n",
       "9   0DtvnTxgZ9K5YaPS5jdlQW       20.0     []   \n",
       "10  0Du4t8UK1lBD8TnOIa3c17        1.0     []   \n",
       "11  0DuJ5k2ERoAizEdgUzJGTc        0.0     []   \n",
       "12  0DujX6vG6qOz2wVBCQg5Vi        0.0     []   \n",
       "13  0DvBSYDq5ikdlKgp94Yamq        1.0     []   \n",
       "14  0DvvojCMIqsOT1Btiwvq1h      422.0     []   \n",
       "15  0DxcE03jyjg3wQVHUQKx8C        0.0     []   \n",
       "16  0DxsGcq4ILa7Ss2CmZfipk        0.0     []   \n",
       "17  0DzKNJPHYPMaLDxDVEuznX        4.0     []   \n",
       "18  0DzfuBZVzDryD5ZqKla8EW        0.0     []   \n",
       "19  0DzvgthIK2nmlAPE0A2Uvo        0.0     []   \n",
       "\n",
       "                                              name  popularity  \n",
       "0   Armid & Amir Zare Pashai feat. Sara Rouzbehani           0  \n",
       "1                                      ปูนา ภาวิณี           0  \n",
       "2                                            Sadaa           0  \n",
       "3                                        Tra'gruda           0  \n",
       "4                           Ioannis Panoutsopoulos           0  \n",
       "5                                    Astral Affect           0  \n",
       "6                                        Yung Seed           0  \n",
       "7                                            Wi'Ma           0  \n",
       "8                                          lentboy           0  \n",
       "9                                         addworks           0  \n",
       "10                                     Harrbazzter           0  \n",
       "11                                  Helena Brunner           0  \n",
       "12                                  Deezy McDuffie           0  \n",
       "13                                   Riyaz Azaimar           0  \n",
       "14                                   Sidonie Radio           0  \n",
       "15                                      Le Chamête           0  \n",
       "16                                        Lipin. P           0  \n",
       "17                                    Breakingnews           0  \n",
       "18                                  TINY x dr.KONG           0  \n",
       "19                                          Stan P           0  "
      ]
     },
     "execution_count": 39,
     "metadata": {},
     "output_type": "execute_result"
    }
   ],
   "source": [
    "df.head(20) # to get the first or top \"n\" number of rows"
   ]
  },
  {
   "cell_type": "code",
   "execution_count": 40,
   "metadata": {},
   "outputs": [
    {
     "data": {
      "text/html": [
       "<div>\n",
       "<style scoped>\n",
       "    .dataframe tbody tr th:only-of-type {\n",
       "        vertical-align: middle;\n",
       "    }\n",
       "\n",
       "    .dataframe tbody tr th {\n",
       "        vertical-align: top;\n",
       "    }\n",
       "\n",
       "    .dataframe thead th {\n",
       "        text-align: right;\n",
       "    }\n",
       "</style>\n",
       "<table border=\"1\" class=\"dataframe\">\n",
       "  <thead>\n",
       "    <tr style=\"text-align: right;\">\n",
       "      <th></th>\n",
       "      <th>id</th>\n",
       "      <th>followers</th>\n",
       "      <th>genres</th>\n",
       "      <th>name</th>\n",
       "      <th>popularity</th>\n",
       "    </tr>\n",
       "  </thead>\n",
       "  <tbody>\n",
       "    <tr>\n",
       "      <th>1162080</th>\n",
       "      <td>32cqXFEVL4d9DyvtHuleHa</td>\n",
       "      <td>666.0</td>\n",
       "      <td>['black comedy']</td>\n",
       "      <td>Dwayne Perkins</td>\n",
       "      <td>20</td>\n",
       "    </tr>\n",
       "    <tr>\n",
       "      <th>1162081</th>\n",
       "      <td>6EtAJfmBl4YeK7oyaRua5i</td>\n",
       "      <td>5804.0</td>\n",
       "      <td>['black comedy']</td>\n",
       "      <td>Deon Cole</td>\n",
       "      <td>31</td>\n",
       "    </tr>\n",
       "    <tr>\n",
       "      <th>1162082</th>\n",
       "      <td>245CRwGNgdSkkwUo10Xpre</td>\n",
       "      <td>1267.0</td>\n",
       "      <td>['black comedy']</td>\n",
       "      <td>Lil Rel Howery</td>\n",
       "      <td>25</td>\n",
       "    </tr>\n",
       "    <tr>\n",
       "      <th>1162083</th>\n",
       "      <td>7hyMkNkpKuKJoIq4J7F4Uo</td>\n",
       "      <td>636.0</td>\n",
       "      <td>['black comedy']</td>\n",
       "      <td>Gerald Kelly</td>\n",
       "      <td>12</td>\n",
       "    </tr>\n",
       "    <tr>\n",
       "      <th>1162084</th>\n",
       "      <td>1dT71t6LJhv2FuLM0zuegn</td>\n",
       "      <td>598.0</td>\n",
       "      <td>['black comedy']</td>\n",
       "      <td>Faizon Love</td>\n",
       "      <td>11</td>\n",
       "    </tr>\n",
       "    <tr>\n",
       "      <th>1162085</th>\n",
       "      <td>4JLYIWkIU0p2zxtTaixtoC</td>\n",
       "      <td>328.0</td>\n",
       "      <td>['deep comedy', 'new comedy']</td>\n",
       "      <td>Gabriel Rutledge</td>\n",
       "      <td>14</td>\n",
       "    </tr>\n",
       "    <tr>\n",
       "      <th>1162086</th>\n",
       "      <td>6fulEar0uOeRNYLp7RvaKg</td>\n",
       "      <td>1598.0</td>\n",
       "      <td>['deep comedy', 'new comedy']</td>\n",
       "      <td>Joe Zimmerman</td>\n",
       "      <td>27</td>\n",
       "    </tr>\n",
       "    <tr>\n",
       "      <th>1162087</th>\n",
       "      <td>0vZbvoyHDSwTGY4v1oUo31</td>\n",
       "      <td>1682.0</td>\n",
       "      <td>['clean comedy', 'deep comedy', 'new comedy']</td>\n",
       "      <td>Josh Sneed</td>\n",
       "      <td>20</td>\n",
       "    </tr>\n",
       "    <tr>\n",
       "      <th>1162088</th>\n",
       "      <td>3V4ODgUObsEHFX6GQUy8xl</td>\n",
       "      <td>419.0</td>\n",
       "      <td>['deep comedy']</td>\n",
       "      <td>Matt McCarthy</td>\n",
       "      <td>9</td>\n",
       "    </tr>\n",
       "    <tr>\n",
       "      <th>1162089</th>\n",
       "      <td>2AuW39AOSXtNdQP6thlLgi</td>\n",
       "      <td>188.0</td>\n",
       "      <td>[]</td>\n",
       "      <td>Ty Barnett</td>\n",
       "      <td>3</td>\n",
       "    </tr>\n",
       "    <tr>\n",
       "      <th>1162090</th>\n",
       "      <td>3cOzi726Iav1toV2LRVEjp</td>\n",
       "      <td>4831.0</td>\n",
       "      <td>['black comedy']</td>\n",
       "      <td>Ali Siddiq</td>\n",
       "      <td>34</td>\n",
       "    </tr>\n",
       "    <tr>\n",
       "      <th>1162091</th>\n",
       "      <td>6LogY6VMM3jgAE6fPzXeMl</td>\n",
       "      <td>46.0</td>\n",
       "      <td>[]</td>\n",
       "      <td>Rodney Laney</td>\n",
       "      <td>2</td>\n",
       "    </tr>\n",
       "    <tr>\n",
       "      <th>1162092</th>\n",
       "      <td>19boQkDEIay9GaVAWkUhTa</td>\n",
       "      <td>257.0</td>\n",
       "      <td>[]</td>\n",
       "      <td>Blake Wexler</td>\n",
       "      <td>10</td>\n",
       "    </tr>\n",
       "    <tr>\n",
       "      <th>1162093</th>\n",
       "      <td>5nvjpU3Y7L6Hpe54QuvDjy</td>\n",
       "      <td>2357.0</td>\n",
       "      <td>['black comedy']</td>\n",
       "      <td>Donnell Rawlings</td>\n",
       "      <td>15</td>\n",
       "    </tr>\n",
       "    <tr>\n",
       "      <th>1162094</th>\n",
       "      <td>2bP2cNhNBdKXHC6AnqgyVp</td>\n",
       "      <td>40.0</td>\n",
       "      <td>['new comedy']</td>\n",
       "      <td>Gabe Kea</td>\n",
       "      <td>8</td>\n",
       "    </tr>\n",
       "  </tbody>\n",
       "</table>\n",
       "</div>"
      ],
      "text/plain": [
       "                             id  followers  \\\n",
       "1162080  32cqXFEVL4d9DyvtHuleHa      666.0   \n",
       "1162081  6EtAJfmBl4YeK7oyaRua5i     5804.0   \n",
       "1162082  245CRwGNgdSkkwUo10Xpre     1267.0   \n",
       "1162083  7hyMkNkpKuKJoIq4J7F4Uo      636.0   \n",
       "1162084  1dT71t6LJhv2FuLM0zuegn      598.0   \n",
       "1162085  4JLYIWkIU0p2zxtTaixtoC      328.0   \n",
       "1162086  6fulEar0uOeRNYLp7RvaKg     1598.0   \n",
       "1162087  0vZbvoyHDSwTGY4v1oUo31     1682.0   \n",
       "1162088  3V4ODgUObsEHFX6GQUy8xl      419.0   \n",
       "1162089  2AuW39AOSXtNdQP6thlLgi      188.0   \n",
       "1162090  3cOzi726Iav1toV2LRVEjp     4831.0   \n",
       "1162091  6LogY6VMM3jgAE6fPzXeMl       46.0   \n",
       "1162092  19boQkDEIay9GaVAWkUhTa      257.0   \n",
       "1162093  5nvjpU3Y7L6Hpe54QuvDjy     2357.0   \n",
       "1162094  2bP2cNhNBdKXHC6AnqgyVp       40.0   \n",
       "\n",
       "                                                genres              name  \\\n",
       "1162080                               ['black comedy']    Dwayne Perkins   \n",
       "1162081                               ['black comedy']         Deon Cole   \n",
       "1162082                               ['black comedy']    Lil Rel Howery   \n",
       "1162083                               ['black comedy']      Gerald Kelly   \n",
       "1162084                               ['black comedy']       Faizon Love   \n",
       "1162085                  ['deep comedy', 'new comedy']  Gabriel Rutledge   \n",
       "1162086                  ['deep comedy', 'new comedy']     Joe Zimmerman   \n",
       "1162087  ['clean comedy', 'deep comedy', 'new comedy']        Josh Sneed   \n",
       "1162088                                ['deep comedy']     Matt McCarthy   \n",
       "1162089                                             []        Ty Barnett   \n",
       "1162090                               ['black comedy']        Ali Siddiq   \n",
       "1162091                                             []      Rodney Laney   \n",
       "1162092                                             []      Blake Wexler   \n",
       "1162093                               ['black comedy']  Donnell Rawlings   \n",
       "1162094                                 ['new comedy']          Gabe Kea   \n",
       "\n",
       "         popularity  \n",
       "1162080          20  \n",
       "1162081          31  \n",
       "1162082          25  \n",
       "1162083          12  \n",
       "1162084          11  \n",
       "1162085          14  \n",
       "1162086          27  \n",
       "1162087          20  \n",
       "1162088           9  \n",
       "1162089           3  \n",
       "1162090          34  \n",
       "1162091           2  \n",
       "1162092          10  \n",
       "1162093          15  \n",
       "1162094           8  "
      ]
     },
     "execution_count": 40,
     "metadata": {},
     "output_type": "execute_result"
    }
   ],
   "source": [
    "df.tail(15) # to get the last \"n\" rows"
   ]
  },
  {
   "cell_type": "code",
   "execution_count": 41,
   "metadata": {},
   "outputs": [
    {
     "data": {
      "text/plain": [
       "(1162095, 5)"
      ]
     },
     "execution_count": 41,
     "metadata": {},
     "output_type": "execute_result"
    }
   ],
   "source": [
    "df.shape"
   ]
  },
  {
   "cell_type": "code",
   "execution_count": 42,
   "metadata": {},
   "outputs": [
    {
     "data": {
      "text/html": [
       "<div>\n",
       "<style scoped>\n",
       "    .dataframe tbody tr th:only-of-type {\n",
       "        vertical-align: middle;\n",
       "    }\n",
       "\n",
       "    .dataframe tbody tr th {\n",
       "        vertical-align: top;\n",
       "    }\n",
       "\n",
       "    .dataframe thead th {\n",
       "        text-align: right;\n",
       "    }\n",
       "</style>\n",
       "<table border=\"1\" class=\"dataframe\">\n",
       "  <thead>\n",
       "    <tr style=\"text-align: right;\">\n",
       "      <th></th>\n",
       "      <th>id</th>\n",
       "      <th>followers</th>\n",
       "      <th>genres</th>\n",
       "      <th>name</th>\n",
       "      <th>popularity</th>\n",
       "    </tr>\n",
       "  </thead>\n",
       "  <tbody>\n",
       "    <tr>\n",
       "      <th>0</th>\n",
       "      <td>0DheY5irMjBUeLybbCUEZ2</td>\n",
       "      <td>0.0</td>\n",
       "      <td>[]</td>\n",
       "      <td>Armid &amp; Amir Zare Pashai feat. Sara Rouzbehani</td>\n",
       "      <td>0</td>\n",
       "    </tr>\n",
       "    <tr>\n",
       "      <th>1</th>\n",
       "      <td>0DlhY15l3wsrnlfGio2bjU</td>\n",
       "      <td>5.0</td>\n",
       "      <td>[]</td>\n",
       "      <td>ปูนา ภาวิณี</td>\n",
       "      <td>0</td>\n",
       "    </tr>\n",
       "    <tr>\n",
       "      <th>2</th>\n",
       "      <td>0DmRESX2JknGPQyO15yxg7</td>\n",
       "      <td>0.0</td>\n",
       "      <td>[]</td>\n",
       "      <td>Sadaa</td>\n",
       "      <td>0</td>\n",
       "    </tr>\n",
       "    <tr>\n",
       "      <th>3</th>\n",
       "      <td>0DmhnbHjm1qw6NCYPeZNgJ</td>\n",
       "      <td>0.0</td>\n",
       "      <td>[]</td>\n",
       "      <td>Tra'gruda</td>\n",
       "      <td>0</td>\n",
       "    </tr>\n",
       "    <tr>\n",
       "      <th>4</th>\n",
       "      <td>0Dn11fWM7vHQ3rinvWEl4E</td>\n",
       "      <td>2.0</td>\n",
       "      <td>[]</td>\n",
       "      <td>Ioannis Panoutsopoulos</td>\n",
       "      <td>0</td>\n",
       "    </tr>\n",
       "  </tbody>\n",
       "</table>\n",
       "</div>"
      ],
      "text/plain": [
       "                       id  followers genres  \\\n",
       "0  0DheY5irMjBUeLybbCUEZ2        0.0     []   \n",
       "1  0DlhY15l3wsrnlfGio2bjU        5.0     []   \n",
       "2  0DmRESX2JknGPQyO15yxg7        0.0     []   \n",
       "3  0DmhnbHjm1qw6NCYPeZNgJ        0.0     []   \n",
       "4  0Dn11fWM7vHQ3rinvWEl4E        2.0     []   \n",
       "\n",
       "                                             name  popularity  \n",
       "0  Armid & Amir Zare Pashai feat. Sara Rouzbehani           0  \n",
       "1                                     ปูนา ภาวิณี           0  \n",
       "2                                           Sadaa           0  \n",
       "3                                       Tra'gruda           0  \n",
       "4                          Ioannis Panoutsopoulos           0  "
      ]
     },
     "execution_count": 42,
     "metadata": {},
     "output_type": "execute_result"
    }
   ],
   "source": [
    "df.head()"
   ]
  },
  {
   "cell_type": "code",
   "execution_count": 43,
   "metadata": {},
   "outputs": [
    {
     "data": {
      "text/html": [
       "<div>\n",
       "<style scoped>\n",
       "    .dataframe tbody tr th:only-of-type {\n",
       "        vertical-align: middle;\n",
       "    }\n",
       "\n",
       "    .dataframe tbody tr th {\n",
       "        vertical-align: top;\n",
       "    }\n",
       "\n",
       "    .dataframe thead th {\n",
       "        text-align: right;\n",
       "    }\n",
       "</style>\n",
       "<table border=\"1\" class=\"dataframe\">\n",
       "  <thead>\n",
       "    <tr style=\"text-align: right;\">\n",
       "      <th></th>\n",
       "      <th>id</th>\n",
       "      <th>followers</th>\n",
       "      <th>genres</th>\n",
       "      <th>name</th>\n",
       "      <th>popularity</th>\n",
       "    </tr>\n",
       "  </thead>\n",
       "  <tbody>\n",
       "    <tr>\n",
       "      <th>1162090</th>\n",
       "      <td>3cOzi726Iav1toV2LRVEjp</td>\n",
       "      <td>4831.0</td>\n",
       "      <td>['black comedy']</td>\n",
       "      <td>Ali Siddiq</td>\n",
       "      <td>34</td>\n",
       "    </tr>\n",
       "    <tr>\n",
       "      <th>1162091</th>\n",
       "      <td>6LogY6VMM3jgAE6fPzXeMl</td>\n",
       "      <td>46.0</td>\n",
       "      <td>[]</td>\n",
       "      <td>Rodney Laney</td>\n",
       "      <td>2</td>\n",
       "    </tr>\n",
       "    <tr>\n",
       "      <th>1162092</th>\n",
       "      <td>19boQkDEIay9GaVAWkUhTa</td>\n",
       "      <td>257.0</td>\n",
       "      <td>[]</td>\n",
       "      <td>Blake Wexler</td>\n",
       "      <td>10</td>\n",
       "    </tr>\n",
       "    <tr>\n",
       "      <th>1162093</th>\n",
       "      <td>5nvjpU3Y7L6Hpe54QuvDjy</td>\n",
       "      <td>2357.0</td>\n",
       "      <td>['black comedy']</td>\n",
       "      <td>Donnell Rawlings</td>\n",
       "      <td>15</td>\n",
       "    </tr>\n",
       "    <tr>\n",
       "      <th>1162094</th>\n",
       "      <td>2bP2cNhNBdKXHC6AnqgyVp</td>\n",
       "      <td>40.0</td>\n",
       "      <td>['new comedy']</td>\n",
       "      <td>Gabe Kea</td>\n",
       "      <td>8</td>\n",
       "    </tr>\n",
       "  </tbody>\n",
       "</table>\n",
       "</div>"
      ],
      "text/plain": [
       "                             id  followers            genres  \\\n",
       "1162090  3cOzi726Iav1toV2LRVEjp     4831.0  ['black comedy']   \n",
       "1162091  6LogY6VMM3jgAE6fPzXeMl       46.0                []   \n",
       "1162092  19boQkDEIay9GaVAWkUhTa      257.0                []   \n",
       "1162093  5nvjpU3Y7L6Hpe54QuvDjy     2357.0  ['black comedy']   \n",
       "1162094  2bP2cNhNBdKXHC6AnqgyVp       40.0    ['new comedy']   \n",
       "\n",
       "                     name  popularity  \n",
       "1162090        Ali Siddiq          34  \n",
       "1162091      Rodney Laney           2  \n",
       "1162092      Blake Wexler          10  \n",
       "1162093  Donnell Rawlings          15  \n",
       "1162094          Gabe Kea           8  "
      ]
     },
     "execution_count": 43,
     "metadata": {},
     "output_type": "execute_result"
    }
   ],
   "source": [
    "df.tail()"
   ]
  },
  {
   "cell_type": "code",
   "execution_count": 44,
   "metadata": {},
   "outputs": [
    {
     "data": {
      "text/plain": [
       "Index(['id', 'followers', 'genres', 'name', 'popularity'], dtype='object')"
      ]
     },
     "execution_count": 44,
     "metadata": {},
     "output_type": "execute_result"
    }
   ],
   "source": [
    "df.columns"
   ]
  },
  {
   "cell_type": "code",
   "execution_count": 45,
   "metadata": {},
   "outputs": [
    {
     "name": "stdout",
     "output_type": "stream",
     "text": [
      "<class 'pandas.core.frame.DataFrame'>\n",
      "RangeIndex: 1162095 entries, 0 to 1162094\n",
      "Data columns (total 5 columns):\n",
      "id            1162095 non-null object\n",
      "followers     1162084 non-null float64\n",
      "genres        1162095 non-null object\n",
      "name          1162095 non-null object\n",
      "popularity    1162095 non-null int64\n",
      "dtypes: float64(1), int64(1), object(3)\n",
      "memory usage: 44.3+ MB\n"
     ]
    }
   ],
   "source": [
    "df.info()"
   ]
  },
  {
   "cell_type": "code",
   "execution_count": 46,
   "metadata": {},
   "outputs": [
    {
     "name": "stdout",
     "output_type": "stream",
     "text": [
      "                            id                                 name  \\\n",
      "0       35iwgR4jXetI318WEWsa1Q                                Carve   \n",
      "1       021ht4sdgPcrDgSk7JTbKY  Capítulo 2.16 - Banquero Anarquista   \n",
      "2                          NaN                                  NaN   \n",
      "3                          NaN                                  NaN   \n",
      "4                          NaN                                  NaN   \n",
      "5                          NaN                                  NaN   \n",
      "6                          NaN                                  NaN   \n",
      "7                          NaN                                  NaN   \n",
      "8                          NaN                                  NaN   \n",
      "9                          NaN                                  NaN   \n",
      "10                         NaN                                  NaN   \n",
      "11                         NaN                                  NaN   \n",
      "12                         NaN                                  NaN   \n",
      "13                         NaN                                  NaN   \n",
      "14                         NaN                                  NaN   \n",
      "15                         NaN                                  NaN   \n",
      "16                         NaN                                  NaN   \n",
      "17                         NaN                                  NaN   \n",
      "18                         NaN                                  NaN   \n",
      "19                         NaN                                  NaN   \n",
      "20                         NaN                                  NaN   \n",
      "21                         NaN                                  NaN   \n",
      "22                         NaN                                  NaN   \n",
      "23                         NaN                                  NaN   \n",
      "24                         NaN                                  NaN   \n",
      "25                         NaN                                  NaN   \n",
      "26                         NaN                                  NaN   \n",
      "27                         NaN                                  NaN   \n",
      "28                         NaN                                  NaN   \n",
      "29                         NaN                                  NaN   \n",
      "...                        ...                                  ...   \n",
      "586642                     NaN                                  NaN   \n",
      "586643                     NaN                                  NaN   \n",
      "586644                     NaN                                  NaN   \n",
      "586645                     NaN                                  NaN   \n",
      "586646                     NaN                                  NaN   \n",
      "586647                     NaN                                  NaN   \n",
      "586648                     NaN                                  NaN   \n",
      "586649                     NaN                                  NaN   \n",
      "586650                     NaN                                  NaN   \n",
      "586651                     NaN                                  NaN   \n",
      "586652                     NaN                                  NaN   \n",
      "586653                     NaN                                  NaN   \n",
      "586654                     NaN                                  NaN   \n",
      "586655                     NaN                                  NaN   \n",
      "586656                     NaN                                  NaN   \n",
      "586657                     NaN                                  NaN   \n",
      "586658                     NaN                                  NaN   \n",
      "586659                     NaN                                  NaN   \n",
      "586660                     NaN                                  NaN   \n",
      "586661                     NaN                                  NaN   \n",
      "586662                     NaN                                  NaN   \n",
      "586663                     NaN                                  NaN   \n",
      "586664                     NaN                                  NaN   \n",
      "586665                     NaN                                  NaN   \n",
      "586666                     NaN                                  NaN   \n",
      "586667                     NaN                                  NaN   \n",
      "586668                     NaN                                  NaN   \n",
      "586669                     NaN                                  NaN   \n",
      "586670                     NaN                                  NaN   \n",
      "586671                     NaN                                  NaN   \n",
      "\n",
      "        popularity  duration_ms  explicit              artists  \\\n",
      "0              6.0     126903.0       0.0              ['Uli']   \n",
      "1              0.0      98200.0       0.0  ['Fernando Pessoa']   \n",
      "2              NaN          NaN       NaN                  NaN   \n",
      "3              NaN          NaN       NaN                  NaN   \n",
      "4              NaN          NaN       NaN                  NaN   \n",
      "5              NaN          NaN       NaN                  NaN   \n",
      "6              NaN          NaN       NaN                  NaN   \n",
      "7              NaN          NaN       NaN                  NaN   \n",
      "8              NaN          NaN       NaN                  NaN   \n",
      "9              NaN          NaN       NaN                  NaN   \n",
      "10             NaN          NaN       NaN                  NaN   \n",
      "11             NaN          NaN       NaN                  NaN   \n",
      "12             NaN          NaN       NaN                  NaN   \n",
      "13             NaN          NaN       NaN                  NaN   \n",
      "14             NaN          NaN       NaN                  NaN   \n",
      "15             NaN          NaN       NaN                  NaN   \n",
      "16             NaN          NaN       NaN                  NaN   \n",
      "17             NaN          NaN       NaN                  NaN   \n",
      "18             NaN          NaN       NaN                  NaN   \n",
      "19             NaN          NaN       NaN                  NaN   \n",
      "20             NaN          NaN       NaN                  NaN   \n",
      "21             NaN          NaN       NaN                  NaN   \n",
      "22             NaN          NaN       NaN                  NaN   \n",
      "23             NaN          NaN       NaN                  NaN   \n",
      "24             NaN          NaN       NaN                  NaN   \n",
      "25             NaN          NaN       NaN                  NaN   \n",
      "26             NaN          NaN       NaN                  NaN   \n",
      "27             NaN          NaN       NaN                  NaN   \n",
      "28             NaN          NaN       NaN                  NaN   \n",
      "29             NaN          NaN       NaN                  NaN   \n",
      "...            ...          ...       ...                  ...   \n",
      "586642         NaN          NaN       NaN                  NaN   \n",
      "586643         NaN          NaN       NaN                  NaN   \n",
      "586644         NaN          NaN       NaN                  NaN   \n",
      "586645         NaN          NaN       NaN                  NaN   \n",
      "586646         NaN          NaN       NaN                  NaN   \n",
      "586647         NaN          NaN       NaN                  NaN   \n",
      "586648         NaN          NaN       NaN                  NaN   \n",
      "586649         NaN          NaN       NaN                  NaN   \n",
      "586650         NaN          NaN       NaN                  NaN   \n",
      "586651         NaN          NaN       NaN                  NaN   \n",
      "586652         NaN          NaN       NaN                  NaN   \n",
      "586653         NaN          NaN       NaN                  NaN   \n",
      "586654         NaN          NaN       NaN                  NaN   \n",
      "586655         NaN          NaN       NaN                  NaN   \n",
      "586656         NaN          NaN       NaN                  NaN   \n",
      "586657         NaN          NaN       NaN                  NaN   \n",
      "586658         NaN          NaN       NaN                  NaN   \n",
      "586659         NaN          NaN       NaN                  NaN   \n",
      "586660         NaN          NaN       NaN                  NaN   \n",
      "586661         NaN          NaN       NaN                  NaN   \n",
      "586662         NaN          NaN       NaN                  NaN   \n",
      "586663         NaN          NaN       NaN                  NaN   \n",
      "586664         NaN          NaN       NaN                  NaN   \n",
      "586665         NaN          NaN       NaN                  NaN   \n",
      "586666         NaN          NaN       NaN                  NaN   \n",
      "586667         NaN          NaN       NaN                  NaN   \n",
      "586668         NaN          NaN       NaN                  NaN   \n",
      "586669         NaN          NaN       NaN                  NaN   \n",
      "586670         NaN          NaN       NaN                  NaN   \n",
      "586671         NaN          NaN       NaN                  NaN   \n",
      "\n",
      "                        id_artists release_date  danceability  energy  key  \\\n",
      "0       ['45tIt06XoI0Iio4LBEVpls']    2/22/1922         0.645   0.445  0.0   \n",
      "1       ['14jtPCOoNZwquk5wd9DxrY']     6/1/1922         0.695   0.263  0.0   \n",
      "2                              NaN          NaN           NaN     NaN  NaN   \n",
      "3                              NaN          NaN           NaN     NaN  NaN   \n",
      "4                              NaN          NaN           NaN     NaN  NaN   \n",
      "5                              NaN          NaN           NaN     NaN  NaN   \n",
      "6                              NaN          NaN           NaN     NaN  NaN   \n",
      "7                              NaN          NaN           NaN     NaN  NaN   \n",
      "8                              NaN          NaN           NaN     NaN  NaN   \n",
      "9                              NaN          NaN           NaN     NaN  NaN   \n",
      "10                             NaN          NaN           NaN     NaN  NaN   \n",
      "11                             NaN          NaN           NaN     NaN  NaN   \n",
      "12                             NaN          NaN           NaN     NaN  NaN   \n",
      "13                             NaN          NaN           NaN     NaN  NaN   \n",
      "14                             NaN          NaN           NaN     NaN  NaN   \n",
      "15                             NaN          NaN           NaN     NaN  NaN   \n",
      "16                             NaN          NaN           NaN     NaN  NaN   \n",
      "17                             NaN          NaN           NaN     NaN  NaN   \n",
      "18                             NaN          NaN           NaN     NaN  NaN   \n",
      "19                             NaN          NaN           NaN     NaN  NaN   \n",
      "20                             NaN          NaN           NaN     NaN  NaN   \n",
      "21                             NaN          NaN           NaN     NaN  NaN   \n",
      "22                             NaN          NaN           NaN     NaN  NaN   \n",
      "23                             NaN          NaN           NaN     NaN  NaN   \n",
      "24                             NaN          NaN           NaN     NaN  NaN   \n",
      "25                             NaN          NaN           NaN     NaN  NaN   \n",
      "26                             NaN          NaN           NaN     NaN  NaN   \n",
      "27                             NaN          NaN           NaN     NaN  NaN   \n",
      "28                             NaN          NaN           NaN     NaN  NaN   \n",
      "29                             NaN          NaN           NaN     NaN  NaN   \n",
      "...                            ...          ...           ...     ...  ...   \n",
      "586642                         NaN          NaN           NaN     NaN  NaN   \n",
      "586643                         NaN          NaN           NaN     NaN  NaN   \n",
      "586644                         NaN          NaN           NaN     NaN  NaN   \n",
      "586645                         NaN          NaN           NaN     NaN  NaN   \n",
      "586646                         NaN          NaN           NaN     NaN  NaN   \n",
      "586647                         NaN          NaN           NaN     NaN  NaN   \n",
      "586648                         NaN          NaN           NaN     NaN  NaN   \n",
      "586649                         NaN          NaN           NaN     NaN  NaN   \n",
      "586650                         NaN          NaN           NaN     NaN  NaN   \n",
      "586651                         NaN          NaN           NaN     NaN  NaN   \n",
      "586652                         NaN          NaN           NaN     NaN  NaN   \n",
      "586653                         NaN          NaN           NaN     NaN  NaN   \n",
      "586654                         NaN          NaN           NaN     NaN  NaN   \n",
      "586655                         NaN          NaN           NaN     NaN  NaN   \n",
      "586656                         NaN          NaN           NaN     NaN  NaN   \n",
      "586657                         NaN          NaN           NaN     NaN  NaN   \n",
      "586658                         NaN          NaN           NaN     NaN  NaN   \n",
      "586659                         NaN          NaN           NaN     NaN  NaN   \n",
      "586660                         NaN          NaN           NaN     NaN  NaN   \n",
      "586661                         NaN          NaN           NaN     NaN  NaN   \n",
      "586662                         NaN          NaN           NaN     NaN  NaN   \n",
      "586663                         NaN          NaN           NaN     NaN  NaN   \n",
      "586664                         NaN          NaN           NaN     NaN  NaN   \n",
      "586665                         NaN          NaN           NaN     NaN  NaN   \n",
      "586666                         NaN          NaN           NaN     NaN  NaN   \n",
      "586667                         NaN          NaN           NaN     NaN  NaN   \n",
      "586668                         NaN          NaN           NaN     NaN  NaN   \n",
      "586669                         NaN          NaN           NaN     NaN  NaN   \n",
      "586670                         NaN          NaN           NaN     NaN  NaN   \n",
      "586671                         NaN          NaN           NaN     NaN  NaN   \n",
      "\n",
      "        loudness  mode  speechiness  acousticness  instrumentalness  liveness  \\\n",
      "0        -13.338   1.0        0.451         0.674             0.744     0.151   \n",
      "1        -22.136   1.0        0.957         0.797             0.000     0.148   \n",
      "2            NaN   NaN          NaN           NaN               NaN       NaN   \n",
      "3            NaN   NaN          NaN           NaN               NaN       NaN   \n",
      "4            NaN   NaN          NaN           NaN               NaN       NaN   \n",
      "5            NaN   NaN          NaN           NaN               NaN       NaN   \n",
      "6            NaN   NaN          NaN           NaN               NaN       NaN   \n",
      "7            NaN   NaN          NaN           NaN               NaN       NaN   \n",
      "8            NaN   NaN          NaN           NaN               NaN       NaN   \n",
      "9            NaN   NaN          NaN           NaN               NaN       NaN   \n",
      "10           NaN   NaN          NaN           NaN               NaN       NaN   \n",
      "11           NaN   NaN          NaN           NaN               NaN       NaN   \n",
      "12           NaN   NaN          NaN           NaN               NaN       NaN   \n",
      "13           NaN   NaN          NaN           NaN               NaN       NaN   \n",
      "14           NaN   NaN          NaN           NaN               NaN       NaN   \n",
      "15           NaN   NaN          NaN           NaN               NaN       NaN   \n",
      "16           NaN   NaN          NaN           NaN               NaN       NaN   \n",
      "17           NaN   NaN          NaN           NaN               NaN       NaN   \n",
      "18           NaN   NaN          NaN           NaN               NaN       NaN   \n",
      "19           NaN   NaN          NaN           NaN               NaN       NaN   \n",
      "20           NaN   NaN          NaN           NaN               NaN       NaN   \n",
      "21           NaN   NaN          NaN           NaN               NaN       NaN   \n",
      "22           NaN   NaN          NaN           NaN               NaN       NaN   \n",
      "23           NaN   NaN          NaN           NaN               NaN       NaN   \n",
      "24           NaN   NaN          NaN           NaN               NaN       NaN   \n",
      "25           NaN   NaN          NaN           NaN               NaN       NaN   \n",
      "26           NaN   NaN          NaN           NaN               NaN       NaN   \n",
      "27           NaN   NaN          NaN           NaN               NaN       NaN   \n",
      "28           NaN   NaN          NaN           NaN               NaN       NaN   \n",
      "29           NaN   NaN          NaN           NaN               NaN       NaN   \n",
      "...          ...   ...          ...           ...               ...       ...   \n",
      "586642       NaN   NaN          NaN           NaN               NaN       NaN   \n",
      "586643       NaN   NaN          NaN           NaN               NaN       NaN   \n",
      "586644       NaN   NaN          NaN           NaN               NaN       NaN   \n",
      "586645       NaN   NaN          NaN           NaN               NaN       NaN   \n",
      "586646       NaN   NaN          NaN           NaN               NaN       NaN   \n",
      "586647       NaN   NaN          NaN           NaN               NaN       NaN   \n",
      "586648       NaN   NaN          NaN           NaN               NaN       NaN   \n",
      "586649       NaN   NaN          NaN           NaN               NaN       NaN   \n",
      "586650       NaN   NaN          NaN           NaN               NaN       NaN   \n",
      "586651       NaN   NaN          NaN           NaN               NaN       NaN   \n",
      "586652       NaN   NaN          NaN           NaN               NaN       NaN   \n",
      "586653       NaN   NaN          NaN           NaN               NaN       NaN   \n",
      "586654       NaN   NaN          NaN           NaN               NaN       NaN   \n",
      "586655       NaN   NaN          NaN           NaN               NaN       NaN   \n",
      "586656       NaN   NaN          NaN           NaN               NaN       NaN   \n",
      "586657       NaN   NaN          NaN           NaN               NaN       NaN   \n",
      "586658       NaN   NaN          NaN           NaN               NaN       NaN   \n",
      "586659       NaN   NaN          NaN           NaN               NaN       NaN   \n",
      "586660       NaN   NaN          NaN           NaN               NaN       NaN   \n",
      "586661       NaN   NaN          NaN           NaN               NaN       NaN   \n",
      "586662       NaN   NaN          NaN           NaN               NaN       NaN   \n",
      "586663       NaN   NaN          NaN           NaN               NaN       NaN   \n",
      "586664       NaN   NaN          NaN           NaN               NaN       NaN   \n",
      "586665       NaN   NaN          NaN           NaN               NaN       NaN   \n",
      "586666       NaN   NaN          NaN           NaN               NaN       NaN   \n",
      "586667       NaN   NaN          NaN           NaN               NaN       NaN   \n",
      "586668       NaN   NaN          NaN           NaN               NaN       NaN   \n",
      "586669       NaN   NaN          NaN           NaN               NaN       NaN   \n",
      "586670       NaN   NaN          NaN           NaN               NaN       NaN   \n",
      "586671       NaN   NaN          NaN           NaN               NaN       NaN   \n",
      "\n",
      "        valence    tempo  time_signature  \n",
      "0         0.127  104.851             3.0  \n",
      "1         0.655  102.009             1.0  \n",
      "2           NaN      NaN             NaN  \n",
      "3           NaN      NaN             NaN  \n",
      "4           NaN      NaN             NaN  \n",
      "5           NaN      NaN             NaN  \n",
      "6           NaN      NaN             NaN  \n",
      "7           NaN      NaN             NaN  \n",
      "8           NaN      NaN             NaN  \n",
      "9           NaN      NaN             NaN  \n",
      "10          NaN      NaN             NaN  \n",
      "11          NaN      NaN             NaN  \n",
      "12          NaN      NaN             NaN  \n",
      "13          NaN      NaN             NaN  \n",
      "14          NaN      NaN             NaN  \n",
      "15          NaN      NaN             NaN  \n",
      "16          NaN      NaN             NaN  \n",
      "17          NaN      NaN             NaN  \n",
      "18          NaN      NaN             NaN  \n",
      "19          NaN      NaN             NaN  \n",
      "20          NaN      NaN             NaN  \n",
      "21          NaN      NaN             NaN  \n",
      "22          NaN      NaN             NaN  \n",
      "23          NaN      NaN             NaN  \n",
      "24          NaN      NaN             NaN  \n",
      "25          NaN      NaN             NaN  \n",
      "26          NaN      NaN             NaN  \n",
      "27          NaN      NaN             NaN  \n",
      "28          NaN      NaN             NaN  \n",
      "29          NaN      NaN             NaN  \n",
      "...         ...      ...             ...  \n",
      "586642      NaN      NaN             NaN  \n",
      "586643      NaN      NaN             NaN  \n",
      "586644      NaN      NaN             NaN  \n",
      "586645      NaN      NaN             NaN  \n",
      "586646      NaN      NaN             NaN  \n",
      "586647      NaN      NaN             NaN  \n",
      "586648      NaN      NaN             NaN  \n",
      "586649      NaN      NaN             NaN  \n",
      "586650      NaN      NaN             NaN  \n",
      "586651      NaN      NaN             NaN  \n",
      "586652      NaN      NaN             NaN  \n",
      "586653      NaN      NaN             NaN  \n",
      "586654      NaN      NaN             NaN  \n",
      "586655      NaN      NaN             NaN  \n",
      "586656      NaN      NaN             NaN  \n",
      "586657      NaN      NaN             NaN  \n",
      "586658      NaN      NaN             NaN  \n",
      "586659      NaN      NaN             NaN  \n",
      "586660      NaN      NaN             NaN  \n",
      "586661      NaN      NaN             NaN  \n",
      "586662      NaN      NaN             NaN  \n",
      "586663      NaN      NaN             NaN  \n",
      "586664      NaN      NaN             NaN  \n",
      "586665      NaN      NaN             NaN  \n",
      "586666      NaN      NaN             NaN  \n",
      "586667      NaN      NaN             NaN  \n",
      "586668      NaN      NaN             NaN  \n",
      "586669      NaN      NaN             NaN  \n",
      "586670      NaN      NaN             NaN  \n",
      "586671      NaN      NaN             NaN  \n",
      "\n",
      "[586672 rows x 20 columns]\n"
     ]
    },
    {
     "name": "stderr",
     "output_type": "stream",
     "text": [
      "C:\\Users\\LENOVO\\Anaconda3\\lib\\site-packages\\IPython\\core\\interactiveshell.py:3049: DtypeWarning: Columns (0,1,5,6,7) have mixed types. Specify dtype option on import or set low_memory=False.\n",
      "  interactivity=interactivity, compiler=compiler, result=result)\n"
     ]
    }
   ],
   "source": [
    "import pandas as pd\n",
    "dft = pd.read_csv('tracks.csv')\n",
    "print(dft)"
   ]
  },
  {
   "cell_type": "code",
   "execution_count": 47,
   "metadata": {},
   "outputs": [
    {
     "name": "stdout",
     "output_type": "stream",
     "text": [
      "<class 'pandas.core.frame.DataFrame'>\n",
      "RangeIndex: 586672 entries, 0 to 586671\n",
      "Data columns (total 20 columns):\n",
      "id                  2 non-null object\n",
      "name                2 non-null object\n",
      "popularity          2 non-null float64\n",
      "duration_ms         2 non-null float64\n",
      "explicit            2 non-null float64\n",
      "artists             2 non-null object\n",
      "id_artists          2 non-null object\n",
      "release_date        2 non-null object\n",
      "danceability        2 non-null float64\n",
      "energy              2 non-null float64\n",
      "key                 2 non-null float64\n",
      "loudness            2 non-null float64\n",
      "mode                2 non-null float64\n",
      "speechiness         2 non-null float64\n",
      "acousticness        2 non-null float64\n",
      "instrumentalness    2 non-null float64\n",
      "liveness            2 non-null float64\n",
      "valence             2 non-null float64\n",
      "tempo               2 non-null float64\n",
      "time_signature      2 non-null float64\n",
      "dtypes: float64(15), object(5)\n",
      "memory usage: 89.5+ MB\n"
     ]
    }
   ],
   "source": [
    "dft.info()"
   ]
  },
  {
   "cell_type": "code",
   "execution_count": 48,
   "metadata": {},
   "outputs": [],
   "source": [
    "s=dft.dtypes"
   ]
  },
  {
   "cell_type": "code",
   "execution_count": 49,
   "metadata": {},
   "outputs": [
    {
     "name": "stdout",
     "output_type": "stream",
     "text": [
      "id                   object\n",
      "name                 object\n",
      "popularity          float64\n",
      "duration_ms         float64\n",
      "explicit            float64\n",
      "artists              object\n",
      "id_artists           object\n",
      "release_date         object\n",
      "danceability        float64\n",
      "energy              float64\n",
      "key                 float64\n",
      "loudness            float64\n",
      "mode                float64\n",
      "speechiness         float64\n",
      "acousticness        float64\n",
      "instrumentalness    float64\n",
      "liveness            float64\n",
      "valence             float64\n",
      "tempo               float64\n",
      "time_signature      float64\n",
      "dtype: object\n"
     ]
    }
   ],
   "source": [
    "print(s)"
   ]
  },
  {
   "cell_type": "code",
   "execution_count": 50,
   "metadata": {},
   "outputs": [
    {
     "data": {
      "text/plain": [
       "Index                    80\n",
       "id                  4693376\n",
       "name                4693376\n",
       "popularity          4693376\n",
       "duration_ms         4693376\n",
       "explicit            4693376\n",
       "artists             4693376\n",
       "id_artists          4693376\n",
       "release_date        4693376\n",
       "danceability        4693376\n",
       "energy              4693376\n",
       "key                 4693376\n",
       "loudness            4693376\n",
       "mode                4693376\n",
       "speechiness         4693376\n",
       "acousticness        4693376\n",
       "instrumentalness    4693376\n",
       "liveness            4693376\n",
       "valence             4693376\n",
       "tempo               4693376\n",
       "time_signature      4693376\n",
       "dtype: int64"
      ]
     },
     "execution_count": 50,
     "metadata": {},
     "output_type": "execute_result"
    }
   ],
   "source": [
    "dft.memory_usage()"
   ]
  },
  {
   "cell_type": "code",
   "execution_count": null,
   "metadata": {},
   "outputs": [],
   "source": [
    "# renaming the columns \n",
    "df.rename(columns = {'xxxx' : 'yyyy'})"
   ]
  },
  {
   "cell_type": "code",
   "execution_count": 53,
   "metadata": {},
   "outputs": [],
   "source": [
    "df = df.rename(columns = {'followers' : 'followers_count'})"
   ]
  },
  {
   "cell_type": "code",
   "execution_count": 56,
   "metadata": {},
   "outputs": [],
   "source": [
    "df = df.rename(columns = {'name' : 'artist_name'})"
   ]
  },
  {
   "cell_type": "code",
   "execution_count": 57,
   "metadata": {},
   "outputs": [
    {
     "data": {
      "text/plain": [
       "Index(['id', 'followers_count', 'genres', 'artist_name', 'popularity'], dtype='object')"
      ]
     },
     "execution_count": 57,
     "metadata": {},
     "output_type": "execute_result"
    }
   ],
   "source": [
    "df.columns"
   ]
  },
  {
   "cell_type": "code",
   "execution_count": null,
   "metadata": {},
   "outputs": [],
   "source": [
    "# 3/4/2024"
   ]
  },
  {
   "cell_type": "code",
   "execution_count": 24,
   "metadata": {},
   "outputs": [],
   "source": [
    "import json "
   ]
  },
  {
   "cell_type": "code",
   "execution_count": 116,
   "metadata": {},
   "outputs": [],
   "source": [
    "with open (\"state.json\")as f:\n",
    "    data = json.load(f)"
   ]
  },
  {
   "cell_type": "code",
   "execution_count": 118,
   "metadata": {},
   "outputs": [
    {
     "name": "stdout",
     "output_type": "stream",
     "text": [
      "{'states': [{'name': 'Alabama', 'code': 'AL'}, {'name': 'Alaska', 'code': 'AK'}, {'name': 'Arizona', 'code': 'AZ'}, {'name': 'Arkansas', 'code': 'AR'}, {'name': 'California', 'code': 'CA'}, {'name': 'Colorado', 'code': 'CO'}, {'name': 'Connecticut', 'code': 'CT'}, {'name': 'Delaware', 'code': 'DE'}, {'name': 'Florida', 'code': 'FL'}, {'name': 'Georgia', 'code': 'GA'}, {'name': 'Hawaii', 'code': 'HI'}, {'name': 'Idaho', 'code': 'ID'}, {'name': 'Illinois', 'code': 'IL'}, {'name': 'Indiana', 'code': 'IN'}, {'name': 'Iowa', 'code': 'IA'}, {'name': 'Kansas', 'code': 'KS'}, {'name': 'Kentucky', 'code': 'KY'}, {'name': 'Louisiana', 'code': 'LA'}, {'name': 'Maine', 'code': 'ME'}, {'name': 'Maryland', 'code': 'MD'}, {'name': 'Massachusetts', 'code': 'MA'}, {'name': 'Michigan', 'code': 'MI'}, {'name': 'Minnesota', 'code': 'MN'}, {'name': 'Mississippi', 'code': 'MS'}, {'name': 'Missouri', 'code': 'MO'}, {'name': 'Montana', 'code': 'MT'}, {'name': 'Nebraska', 'code': 'NE'}, {'name': 'Nevada', 'code': 'NV'}, {'name': 'New Hampshire', 'code': 'NH'}, {'name': 'New Jersey', 'code': 'NJ'}, {'name': 'New Mexico', 'code': 'NM'}, {'name': 'New York', 'code': 'NY'}, {'name': 'North Carolina', 'code': 'NC'}, {'name': 'North Dakota', 'code': 'ND'}, {'name': 'Ohio', 'code': 'OH'}, {'name': 'Oklahoma', 'code': 'OK'}, {'name': 'Oregon', 'code': 'OR'}, {'name': 'Pennsylvania', 'code': 'PA'}, {'name': 'Rhode Island', 'code': 'RI'}]}\n"
     ]
    },
    {
     "data": {
      "text/plain": [
       "dict"
      ]
     },
     "execution_count": 118,
     "metadata": {},
     "output_type": "execute_result"
    }
   ],
   "source": [
    "print(data)\n",
    "type(data)"
   ]
  },
  {
   "cell_type": "code",
   "execution_count": 119,
   "metadata": {},
   "outputs": [],
   "source": [
    "data1=(data['states'])"
   ]
  },
  {
   "cell_type": "code",
   "execution_count": 121,
   "metadata": {},
   "outputs": [
    {
     "name": "stdout",
     "output_type": "stream",
     "text": [
      "[{'name': 'Alabama', 'code': 'AL'}, {'name': 'Alaska', 'code': 'AK'}, {'name': 'Arizona', 'code': 'AZ'}, {'name': 'Arkansas', 'code': 'AR'}, {'name': 'California', 'code': 'CA'}, {'name': 'Colorado', 'code': 'CO'}, {'name': 'Connecticut', 'code': 'CT'}, {'name': 'Delaware', 'code': 'DE'}, {'name': 'Florida', 'code': 'FL'}, {'name': 'Georgia', 'code': 'GA'}, {'name': 'Hawaii', 'code': 'HI'}, {'name': 'Idaho', 'code': 'ID'}, {'name': 'Illinois', 'code': 'IL'}, {'name': 'Indiana', 'code': 'IN'}, {'name': 'Iowa', 'code': 'IA'}, {'name': 'Kansas', 'code': 'KS'}, {'name': 'Kentucky', 'code': 'KY'}, {'name': 'Louisiana', 'code': 'LA'}, {'name': 'Maine', 'code': 'ME'}, {'name': 'Maryland', 'code': 'MD'}, {'name': 'Massachusetts', 'code': 'MA'}, {'name': 'Michigan', 'code': 'MI'}, {'name': 'Minnesota', 'code': 'MN'}, {'name': 'Mississippi', 'code': 'MS'}, {'name': 'Missouri', 'code': 'MO'}, {'name': 'Montana', 'code': 'MT'}, {'name': 'Nebraska', 'code': 'NE'}, {'name': 'Nevada', 'code': 'NV'}, {'name': 'New Hampshire', 'code': 'NH'}, {'name': 'New Jersey', 'code': 'NJ'}, {'name': 'New Mexico', 'code': 'NM'}, {'name': 'New York', 'code': 'NY'}, {'name': 'North Carolina', 'code': 'NC'}, {'name': 'North Dakota', 'code': 'ND'}, {'name': 'Ohio', 'code': 'OH'}, {'name': 'Oklahoma', 'code': 'OK'}, {'name': 'Oregon', 'code': 'OR'}, {'name': 'Pennsylvania', 'code': 'PA'}, {'name': 'Rhode Island', 'code': 'RI'}]\n"
     ]
    },
    {
     "data": {
      "text/plain": [
       "list"
      ]
     },
     "execution_count": 121,
     "metadata": {},
     "output_type": "execute_result"
    }
   ],
   "source": [
    "print(data1)\n",
    "type(data1)\n"
   ]
  },
  {
   "cell_type": "code",
   "execution_count": 124,
   "metadata": {},
   "outputs": [],
   "source": [
    "df_json=pd.DataFrame(data1)"
   ]
  },
  {
   "cell_type": "code",
   "execution_count": 125,
   "metadata": {},
   "outputs": [
    {
     "data": {
      "text/plain": [
       "pandas.core.frame.DataFrame"
      ]
     },
     "execution_count": 125,
     "metadata": {},
     "output_type": "execute_result"
    }
   ],
   "source": [
    "type(df_json)"
   ]
  },
  {
   "cell_type": "code",
   "execution_count": 126,
   "metadata": {},
   "outputs": [
    {
     "name": "stdout",
     "output_type": "stream",
     "text": [
      "              name code\n",
      "0          Alabama   AL\n",
      "1           Alaska   AK\n",
      "2          Arizona   AZ\n",
      "3         Arkansas   AR\n",
      "4       California   CA\n",
      "5         Colorado   CO\n",
      "6      Connecticut   CT\n",
      "7         Delaware   DE\n",
      "8          Florida   FL\n",
      "9          Georgia   GA\n",
      "10          Hawaii   HI\n",
      "11           Idaho   ID\n",
      "12        Illinois   IL\n",
      "13         Indiana   IN\n",
      "14            Iowa   IA\n",
      "15          Kansas   KS\n",
      "16        Kentucky   KY\n",
      "17       Louisiana   LA\n",
      "18           Maine   ME\n",
      "19        Maryland   MD\n",
      "20   Massachusetts   MA\n",
      "21        Michigan   MI\n",
      "22       Minnesota   MN\n",
      "23     Mississippi   MS\n",
      "24        Missouri   MO\n",
      "25         Montana   MT\n",
      "26        Nebraska   NE\n",
      "27          Nevada   NV\n",
      "28   New Hampshire   NH\n",
      "29      New Jersey   NJ\n",
      "30      New Mexico   NM\n",
      "31        New York   NY\n",
      "32  North Carolina   NC\n",
      "33    North Dakota   ND\n",
      "34            Ohio   OH\n",
      "35        Oklahoma   OK\n",
      "36          Oregon   OR\n",
      "37    Pennsylvania   PA\n",
      "38    Rhode Island   RI\n"
     ]
    }
   ],
   "source": [
    "print(df_json)"
   ]
  },
  {
   "cell_type": "code",
   "execution_count": 128,
   "metadata": {},
   "outputs": [],
   "source": [
    "import pandas as pd\n",
    "readjson = pd.read_json(\"state.json\")"
   ]
  },
  {
   "cell_type": "code",
   "execution_count": 130,
   "metadata": {},
   "outputs": [
    {
     "name": "stdout",
     "output_type": "stream",
     "text": [
      "                                      states\n",
      "0          {'name': 'Alabama', 'code': 'AL'}\n",
      "1           {'name': 'Alaska', 'code': 'AK'}\n",
      "2          {'name': 'Arizona', 'code': 'AZ'}\n",
      "3         {'name': 'Arkansas', 'code': 'AR'}\n",
      "4       {'name': 'California', 'code': 'CA'}\n",
      "5         {'name': 'Colorado', 'code': 'CO'}\n",
      "6      {'name': 'Connecticut', 'code': 'CT'}\n",
      "7         {'name': 'Delaware', 'code': 'DE'}\n",
      "8          {'name': 'Florida', 'code': 'FL'}\n",
      "9          {'name': 'Georgia', 'code': 'GA'}\n",
      "10          {'name': 'Hawaii', 'code': 'HI'}\n",
      "11           {'name': 'Idaho', 'code': 'ID'}\n",
      "12        {'name': 'Illinois', 'code': 'IL'}\n",
      "13         {'name': 'Indiana', 'code': 'IN'}\n",
      "14            {'name': 'Iowa', 'code': 'IA'}\n",
      "15          {'name': 'Kansas', 'code': 'KS'}\n",
      "16        {'name': 'Kentucky', 'code': 'KY'}\n",
      "17       {'name': 'Louisiana', 'code': 'LA'}\n",
      "18           {'name': 'Maine', 'code': 'ME'}\n",
      "19        {'name': 'Maryland', 'code': 'MD'}\n",
      "20   {'name': 'Massachusetts', 'code': 'MA'}\n",
      "21        {'name': 'Michigan', 'code': 'MI'}\n",
      "22       {'name': 'Minnesota', 'code': 'MN'}\n",
      "23     {'name': 'Mississippi', 'code': 'MS'}\n",
      "24        {'name': 'Missouri', 'code': 'MO'}\n",
      "25         {'name': 'Montana', 'code': 'MT'}\n",
      "26        {'name': 'Nebraska', 'code': 'NE'}\n",
      "27          {'name': 'Nevada', 'code': 'NV'}\n",
      "28   {'name': 'New Hampshire', 'code': 'NH'}\n",
      "29      {'name': 'New Jersey', 'code': 'NJ'}\n",
      "30      {'name': 'New Mexico', 'code': 'NM'}\n",
      "31        {'name': 'New York', 'code': 'NY'}\n",
      "32  {'name': 'North Carolina', 'code': 'NC'}\n",
      "33    {'name': 'North Dakota', 'code': 'ND'}\n",
      "34            {'name': 'Ohio', 'code': 'OH'}\n",
      "35        {'name': 'Oklahoma', 'code': 'OK'}\n",
      "36          {'name': 'Oregon', 'code': 'OR'}\n",
      "37    {'name': 'Pennsylvania', 'code': 'PA'}\n",
      "38    {'name': 'Rhode Island', 'code': 'RI'}\n"
     ]
    }
   ],
   "source": [
    "print(readjson)"
   ]
  },
  {
   "cell_type": "code",
   "execution_count": 131,
   "metadata": {},
   "outputs": [],
   "source": [
    "dfxlx = pd.read_excel('accidents.xls')"
   ]
  },
  {
   "cell_type": "code",
   "execution_count": 133,
   "metadata": {},
   "outputs": [
    {
     "data": {
      "text/html": [
       "<div>\n",
       "<style scoped>\n",
       "    .dataframe tbody tr th:only-of-type {\n",
       "        vertical-align: middle;\n",
       "    }\n",
       "\n",
       "    .dataframe tbody tr th {\n",
       "        vertical-align: top;\n",
       "    }\n",
       "\n",
       "    .dataframe thead th {\n",
       "        text-align: right;\n",
       "    }\n",
       "</style>\n",
       "<table border=\"1\" class=\"dataframe\">\n",
       "  <thead>\n",
       "    <tr style=\"text-align: right;\">\n",
       "      <th></th>\n",
       "      <th>accident_index</th>\n",
       "      <th>vehicle_reference</th>\n",
       "      <th>vehicle_type</th>\n",
       "      <th>towing_and_articulation</th>\n",
       "      <th>vehicle_manoeuvre</th>\n",
       "      <th>vehicle_location-restricted_lane</th>\n",
       "      <th>junction_location</th>\n",
       "      <th>skidding_and_overturning</th>\n",
       "      <th>hit_object_in_carriageway</th>\n",
       "      <th>vehicle_leaving_carriageway</th>\n",
       "      <th>...</th>\n",
       "      <th>age_band_of_casualty</th>\n",
       "      <th>casualty_severity</th>\n",
       "      <th>pedestrian_location</th>\n",
       "      <th>pedestrian_movement</th>\n",
       "      <th>car_passenger</th>\n",
       "      <th>bus_or_coach_passenger</th>\n",
       "      <th>pedestrian_road_maintenance_worker</th>\n",
       "      <th>casualty_type</th>\n",
       "      <th>casualty_home_area_type</th>\n",
       "      <th>casualty_imd_decile</th>\n",
       "    </tr>\n",
       "  </thead>\n",
       "  <tbody>\n",
       "    <tr>\n",
       "      <th>0</th>\n",
       "      <td>201506E098757</td>\n",
       "      <td>2</td>\n",
       "      <td>9</td>\n",
       "      <td>0</td>\n",
       "      <td>18</td>\n",
       "      <td>0</td>\n",
       "      <td>8</td>\n",
       "      <td>0</td>\n",
       "      <td>0</td>\n",
       "      <td>0</td>\n",
       "      <td>...</td>\n",
       "      <td>NaN</td>\n",
       "      <td>NaN</td>\n",
       "      <td>NaN</td>\n",
       "      <td>NaN</td>\n",
       "      <td>NaN</td>\n",
       "      <td>NaN</td>\n",
       "      <td>NaN</td>\n",
       "      <td>NaN</td>\n",
       "      <td>NaN</td>\n",
       "      <td>NaN</td>\n",
       "    </tr>\n",
       "    <tr>\n",
       "      <th>1</th>\n",
       "      <td>201506E098766</td>\n",
       "      <td>1</td>\n",
       "      <td>9</td>\n",
       "      <td>0</td>\n",
       "      <td>9</td>\n",
       "      <td>0</td>\n",
       "      <td>8</td>\n",
       "      <td>0</td>\n",
       "      <td>0</td>\n",
       "      <td>0</td>\n",
       "      <td>...</td>\n",
       "      <td>NaN</td>\n",
       "      <td>NaN</td>\n",
       "      <td>NaN</td>\n",
       "      <td>NaN</td>\n",
       "      <td>NaN</td>\n",
       "      <td>NaN</td>\n",
       "      <td>NaN</td>\n",
       "      <td>NaN</td>\n",
       "      <td>NaN</td>\n",
       "      <td>NaN</td>\n",
       "    </tr>\n",
       "    <tr>\n",
       "      <th>2</th>\n",
       "      <td>201506E098766</td>\n",
       "      <td>2</td>\n",
       "      <td>9</td>\n",
       "      <td>0</td>\n",
       "      <td>18</td>\n",
       "      <td>0</td>\n",
       "      <td>8</td>\n",
       "      <td>0</td>\n",
       "      <td>0</td>\n",
       "      <td>0</td>\n",
       "      <td>...</td>\n",
       "      <td>8.0</td>\n",
       "      <td>3.0</td>\n",
       "      <td>0.0</td>\n",
       "      <td>0.0</td>\n",
       "      <td>0.0</td>\n",
       "      <td>0.0</td>\n",
       "      <td>0.0</td>\n",
       "      <td>9.0</td>\n",
       "      <td>1.0</td>\n",
       "      <td>3.0</td>\n",
       "    </tr>\n",
       "    <tr>\n",
       "      <th>3</th>\n",
       "      <td>201506E098777</td>\n",
       "      <td>1</td>\n",
       "      <td>20</td>\n",
       "      <td>0</td>\n",
       "      <td>4</td>\n",
       "      <td>0</td>\n",
       "      <td>0</td>\n",
       "      <td>0</td>\n",
       "      <td>0</td>\n",
       "      <td>0</td>\n",
       "      <td>...</td>\n",
       "      <td>6.0</td>\n",
       "      <td>3.0</td>\n",
       "      <td>1.0</td>\n",
       "      <td>1.0</td>\n",
       "      <td>0.0</td>\n",
       "      <td>0.0</td>\n",
       "      <td>0.0</td>\n",
       "      <td>0.0</td>\n",
       "      <td>1.0</td>\n",
       "      <td>1.0</td>\n",
       "    </tr>\n",
       "    <tr>\n",
       "      <th>4</th>\n",
       "      <td>201506E098780</td>\n",
       "      <td>1</td>\n",
       "      <td>9</td>\n",
       "      <td>0</td>\n",
       "      <td>15</td>\n",
       "      <td>0</td>\n",
       "      <td>1</td>\n",
       "      <td>0</td>\n",
       "      <td>0</td>\n",
       "      <td>0</td>\n",
       "      <td>...</td>\n",
       "      <td>NaN</td>\n",
       "      <td>NaN</td>\n",
       "      <td>NaN</td>\n",
       "      <td>NaN</td>\n",
       "      <td>NaN</td>\n",
       "      <td>NaN</td>\n",
       "      <td>NaN</td>\n",
       "      <td>NaN</td>\n",
       "      <td>NaN</td>\n",
       "      <td>NaN</td>\n",
       "    </tr>\n",
       "    <tr>\n",
       "      <th>5</th>\n",
       "      <td>201506E098780</td>\n",
       "      <td>2</td>\n",
       "      <td>1</td>\n",
       "      <td>0</td>\n",
       "      <td>9</td>\n",
       "      <td>0</td>\n",
       "      <td>5</td>\n",
       "      <td>0</td>\n",
       "      <td>0</td>\n",
       "      <td>0</td>\n",
       "      <td>...</td>\n",
       "      <td>8.0</td>\n",
       "      <td>3.0</td>\n",
       "      <td>0.0</td>\n",
       "      <td>0.0</td>\n",
       "      <td>0.0</td>\n",
       "      <td>0.0</td>\n",
       "      <td>0.0</td>\n",
       "      <td>1.0</td>\n",
       "      <td>1.0</td>\n",
       "      <td>2.0</td>\n",
       "    </tr>\n",
       "    <tr>\n",
       "      <th>6</th>\n",
       "      <td>201506E098792</td>\n",
       "      <td>1</td>\n",
       "      <td>3</td>\n",
       "      <td>0</td>\n",
       "      <td>4</td>\n",
       "      <td>0</td>\n",
       "      <td>2</td>\n",
       "      <td>0</td>\n",
       "      <td>0</td>\n",
       "      <td>0</td>\n",
       "      <td>...</td>\n",
       "      <td>6.0</td>\n",
       "      <td>3.0</td>\n",
       "      <td>0.0</td>\n",
       "      <td>0.0</td>\n",
       "      <td>0.0</td>\n",
       "      <td>0.0</td>\n",
       "      <td>0.0</td>\n",
       "      <td>3.0</td>\n",
       "      <td>1.0</td>\n",
       "      <td>3.0</td>\n",
       "    </tr>\n",
       "    <tr>\n",
       "      <th>7</th>\n",
       "      <td>201506E098792</td>\n",
       "      <td>2</td>\n",
       "      <td>9</td>\n",
       "      <td>0</td>\n",
       "      <td>4</td>\n",
       "      <td>0</td>\n",
       "      <td>2</td>\n",
       "      <td>0</td>\n",
       "      <td>0</td>\n",
       "      <td>0</td>\n",
       "      <td>...</td>\n",
       "      <td>NaN</td>\n",
       "      <td>NaN</td>\n",
       "      <td>NaN</td>\n",
       "      <td>NaN</td>\n",
       "      <td>NaN</td>\n",
       "      <td>NaN</td>\n",
       "      <td>NaN</td>\n",
       "      <td>NaN</td>\n",
       "      <td>NaN</td>\n",
       "      <td>NaN</td>\n",
       "    </tr>\n",
       "    <tr>\n",
       "      <th>8</th>\n",
       "      <td>201506E098804</td>\n",
       "      <td>1</td>\n",
       "      <td>9</td>\n",
       "      <td>0</td>\n",
       "      <td>14</td>\n",
       "      <td>0</td>\n",
       "      <td>1</td>\n",
       "      <td>0</td>\n",
       "      <td>0</td>\n",
       "      <td>0</td>\n",
       "      <td>...</td>\n",
       "      <td>3.0</td>\n",
       "      <td>3.0</td>\n",
       "      <td>1.0</td>\n",
       "      <td>2.0</td>\n",
       "      <td>0.0</td>\n",
       "      <td>0.0</td>\n",
       "      <td>0.0</td>\n",
       "      <td>0.0</td>\n",
       "      <td>1.0</td>\n",
       "      <td>2.0</td>\n",
       "    </tr>\n",
       "    <tr>\n",
       "      <th>9</th>\n",
       "      <td>201506E098826</td>\n",
       "      <td>1</td>\n",
       "      <td>9</td>\n",
       "      <td>0</td>\n",
       "      <td>4</td>\n",
       "      <td>0</td>\n",
       "      <td>0</td>\n",
       "      <td>0</td>\n",
       "      <td>0</td>\n",
       "      <td>0</td>\n",
       "      <td>...</td>\n",
       "      <td>5.0</td>\n",
       "      <td>3.0</td>\n",
       "      <td>0.0</td>\n",
       "      <td>0.0</td>\n",
       "      <td>1.0</td>\n",
       "      <td>0.0</td>\n",
       "      <td>0.0</td>\n",
       "      <td>9.0</td>\n",
       "      <td>1.0</td>\n",
       "      <td>1.0</td>\n",
       "    </tr>\n",
       "  </tbody>\n",
       "</table>\n",
       "<p>10 rows × 70 columns</p>\n",
       "</div>"
      ],
      "text/plain": [
       "  accident_index  vehicle_reference  vehicle_type  towing_and_articulation  \\\n",
       "0  201506E098757                  2             9                        0   \n",
       "1  201506E098766                  1             9                        0   \n",
       "2  201506E098766                  2             9                        0   \n",
       "3  201506E098777                  1            20                        0   \n",
       "4  201506E098780                  1             9                        0   \n",
       "5  201506E098780                  2             1                        0   \n",
       "6  201506E098792                  1             3                        0   \n",
       "7  201506E098792                  2             9                        0   \n",
       "8  201506E098804                  1             9                        0   \n",
       "9  201506E098826                  1             9                        0   \n",
       "\n",
       "   vehicle_manoeuvre  vehicle_location-restricted_lane  junction_location  \\\n",
       "0                 18                                 0                  8   \n",
       "1                  9                                 0                  8   \n",
       "2                 18                                 0                  8   \n",
       "3                  4                                 0                  0   \n",
       "4                 15                                 0                  1   \n",
       "5                  9                                 0                  5   \n",
       "6                  4                                 0                  2   \n",
       "7                  4                                 0                  2   \n",
       "8                 14                                 0                  1   \n",
       "9                  4                                 0                  0   \n",
       "\n",
       "   skidding_and_overturning  hit_object_in_carriageway  \\\n",
       "0                         0                          0   \n",
       "1                         0                          0   \n",
       "2                         0                          0   \n",
       "3                         0                          0   \n",
       "4                         0                          0   \n",
       "5                         0                          0   \n",
       "6                         0                          0   \n",
       "7                         0                          0   \n",
       "8                         0                          0   \n",
       "9                         0                          0   \n",
       "\n",
       "   vehicle_leaving_carriageway  ...  age_band_of_casualty  casualty_severity  \\\n",
       "0                            0  ...                   NaN                NaN   \n",
       "1                            0  ...                   NaN                NaN   \n",
       "2                            0  ...                   8.0                3.0   \n",
       "3                            0  ...                   6.0                3.0   \n",
       "4                            0  ...                   NaN                NaN   \n",
       "5                            0  ...                   8.0                3.0   \n",
       "6                            0  ...                   6.0                3.0   \n",
       "7                            0  ...                   NaN                NaN   \n",
       "8                            0  ...                   3.0                3.0   \n",
       "9                            0  ...                   5.0                3.0   \n",
       "\n",
       "   pedestrian_location  pedestrian_movement  car_passenger  \\\n",
       "0                  NaN                  NaN            NaN   \n",
       "1                  NaN                  NaN            NaN   \n",
       "2                  0.0                  0.0            0.0   \n",
       "3                  1.0                  1.0            0.0   \n",
       "4                  NaN                  NaN            NaN   \n",
       "5                  0.0                  0.0            0.0   \n",
       "6                  0.0                  0.0            0.0   \n",
       "7                  NaN                  NaN            NaN   \n",
       "8                  1.0                  2.0            0.0   \n",
       "9                  0.0                  0.0            1.0   \n",
       "\n",
       "   bus_or_coach_passenger  pedestrian_road_maintenance_worker  casualty_type  \\\n",
       "0                     NaN                                 NaN            NaN   \n",
       "1                     NaN                                 NaN            NaN   \n",
       "2                     0.0                                 0.0            9.0   \n",
       "3                     0.0                                 0.0            0.0   \n",
       "4                     NaN                                 NaN            NaN   \n",
       "5                     0.0                                 0.0            1.0   \n",
       "6                     0.0                                 0.0            3.0   \n",
       "7                     NaN                                 NaN            NaN   \n",
       "8                     0.0                                 0.0            0.0   \n",
       "9                     0.0                                 0.0            9.0   \n",
       "\n",
       "   casualty_home_area_type  casualty_imd_decile  \n",
       "0                      NaN                  NaN  \n",
       "1                      NaN                  NaN  \n",
       "2                      1.0                  3.0  \n",
       "3                      1.0                  1.0  \n",
       "4                      NaN                  NaN  \n",
       "5                      1.0                  2.0  \n",
       "6                      1.0                  3.0  \n",
       "7                      NaN                  NaN  \n",
       "8                      1.0                  2.0  \n",
       "9                      1.0                  1.0  \n",
       "\n",
       "[10 rows x 70 columns]"
      ]
     },
     "execution_count": 133,
     "metadata": {},
     "output_type": "execute_result"
    }
   ],
   "source": [
    "dfxlx.head((10))"
   ]
  },
  {
   "cell_type": "code",
   "execution_count": 135,
   "metadata": {},
   "outputs": [],
   "source": [
    "# Python will not understand \"\\\"\n",
    "# Remediation is to use the \"r\" >> regular expressions\n",
    "# using the \"/\"\n",
    "dfxlx2 = pd.read_excel('d:/accidents.xls')\n",
    "#D:\\"
   ]
  },
  {
   "cell_type": "code",
   "execution_count": 136,
   "metadata": {},
   "outputs": [
    {
     "data": {
      "text/html": [
       "<div>\n",
       "<style scoped>\n",
       "    .dataframe tbody tr th:only-of-type {\n",
       "        vertical-align: middle;\n",
       "    }\n",
       "\n",
       "    .dataframe tbody tr th {\n",
       "        vertical-align: top;\n",
       "    }\n",
       "\n",
       "    .dataframe thead th {\n",
       "        text-align: right;\n",
       "    }\n",
       "</style>\n",
       "<table border=\"1\" class=\"dataframe\">\n",
       "  <thead>\n",
       "    <tr style=\"text-align: right;\">\n",
       "      <th></th>\n",
       "      <th>accident_index</th>\n",
       "      <th>vehicle_reference</th>\n",
       "      <th>vehicle_type</th>\n",
       "      <th>towing_and_articulation</th>\n",
       "      <th>vehicle_manoeuvre</th>\n",
       "      <th>vehicle_location-restricted_lane</th>\n",
       "      <th>junction_location</th>\n",
       "      <th>skidding_and_overturning</th>\n",
       "      <th>hit_object_in_carriageway</th>\n",
       "      <th>vehicle_leaving_carriageway</th>\n",
       "      <th>...</th>\n",
       "      <th>age_band_of_casualty</th>\n",
       "      <th>casualty_severity</th>\n",
       "      <th>pedestrian_location</th>\n",
       "      <th>pedestrian_movement</th>\n",
       "      <th>car_passenger</th>\n",
       "      <th>bus_or_coach_passenger</th>\n",
       "      <th>pedestrian_road_maintenance_worker</th>\n",
       "      <th>casualty_type</th>\n",
       "      <th>casualty_home_area_type</th>\n",
       "      <th>casualty_imd_decile</th>\n",
       "    </tr>\n",
       "  </thead>\n",
       "  <tbody>\n",
       "    <tr>\n",
       "      <th>0</th>\n",
       "      <td>201506E098757</td>\n",
       "      <td>2</td>\n",
       "      <td>9</td>\n",
       "      <td>0</td>\n",
       "      <td>18</td>\n",
       "      <td>0</td>\n",
       "      <td>8</td>\n",
       "      <td>0</td>\n",
       "      <td>0</td>\n",
       "      <td>0</td>\n",
       "      <td>...</td>\n",
       "      <td>NaN</td>\n",
       "      <td>NaN</td>\n",
       "      <td>NaN</td>\n",
       "      <td>NaN</td>\n",
       "      <td>NaN</td>\n",
       "      <td>NaN</td>\n",
       "      <td>NaN</td>\n",
       "      <td>NaN</td>\n",
       "      <td>NaN</td>\n",
       "      <td>NaN</td>\n",
       "    </tr>\n",
       "    <tr>\n",
       "      <th>1</th>\n",
       "      <td>201506E098766</td>\n",
       "      <td>1</td>\n",
       "      <td>9</td>\n",
       "      <td>0</td>\n",
       "      <td>9</td>\n",
       "      <td>0</td>\n",
       "      <td>8</td>\n",
       "      <td>0</td>\n",
       "      <td>0</td>\n",
       "      <td>0</td>\n",
       "      <td>...</td>\n",
       "      <td>NaN</td>\n",
       "      <td>NaN</td>\n",
       "      <td>NaN</td>\n",
       "      <td>NaN</td>\n",
       "      <td>NaN</td>\n",
       "      <td>NaN</td>\n",
       "      <td>NaN</td>\n",
       "      <td>NaN</td>\n",
       "      <td>NaN</td>\n",
       "      <td>NaN</td>\n",
       "    </tr>\n",
       "  </tbody>\n",
       "</table>\n",
       "<p>2 rows × 70 columns</p>\n",
       "</div>"
      ],
      "text/plain": [
       "  accident_index  vehicle_reference  vehicle_type  towing_and_articulation  \\\n",
       "0  201506E098757                  2             9                        0   \n",
       "1  201506E098766                  1             9                        0   \n",
       "\n",
       "   vehicle_manoeuvre  vehicle_location-restricted_lane  junction_location  \\\n",
       "0                 18                                 0                  8   \n",
       "1                  9                                 0                  8   \n",
       "\n",
       "   skidding_and_overturning  hit_object_in_carriageway  \\\n",
       "0                         0                          0   \n",
       "1                         0                          0   \n",
       "\n",
       "   vehicle_leaving_carriageway  ...  age_band_of_casualty  casualty_severity  \\\n",
       "0                            0  ...                   NaN                NaN   \n",
       "1                            0  ...                   NaN                NaN   \n",
       "\n",
       "   pedestrian_location  pedestrian_movement  car_passenger  \\\n",
       "0                  NaN                  NaN            NaN   \n",
       "1                  NaN                  NaN            NaN   \n",
       "\n",
       "   bus_or_coach_passenger  pedestrian_road_maintenance_worker  casualty_type  \\\n",
       "0                     NaN                                 NaN            NaN   \n",
       "1                     NaN                                 NaN            NaN   \n",
       "\n",
       "   casualty_home_area_type  casualty_imd_decile  \n",
       "0                      NaN                  NaN  \n",
       "1                      NaN                  NaN  \n",
       "\n",
       "[2 rows x 70 columns]"
      ]
     },
     "execution_count": 136,
     "metadata": {},
     "output_type": "execute_result"
    }
   ],
   "source": [
    "dfxlx2.head(2)"
   ]
  },
  {
   "cell_type": "code",
   "execution_count": 137,
   "metadata": {},
   "outputs": [
    {
     "data": {
      "text/plain": [
       "Index(['accident_index', 'vehicle_reference', 'vehicle_type',\n",
       "       'towing_and_articulation', 'vehicle_manoeuvre',\n",
       "       'vehicle_location-restricted_lane', 'junction_location',\n",
       "       'skidding_and_overturning', 'hit_object_in_carriageway',\n",
       "       'vehicle_leaving_carriageway', 'hit_object_off_carriageway',\n",
       "       '1st_point_of_impact', 'was_vehicle_left_hand_drive?',\n",
       "       'journey_purpose_of_driver', 'sex_of_driver', 'age_of_driver',\n",
       "       'age_band_of_driver', 'engine_capacity_(cc)', 'propulsion_code',\n",
       "       'age_of_vehicle', 'driver_imd_decile', 'driver_home_area_type',\n",
       "       'vehicle_imd_decile', 'NUmber_of_Casualities_unique_to_accident_index',\n",
       "       'No_of_Vehicles_involved_unique_to_accident_index',\n",
       "       'location_easting_osgr', 'location_northing_osgr', 'longitude',\n",
       "       'latitude', 'police_force', 'accident_severity', 'number_of_vehicles',\n",
       "       'number_of_casualties', 'date', 'day_of_week', 'time',\n",
       "       'local_authority_(district)', 'local_authority_(highway)',\n",
       "       '1st_road_class', '1st_road_number', 'road_type', 'speed_limit',\n",
       "       'junction_detail', 'junction_control', '2nd_road_class',\n",
       "       '2nd_road_number', 'pedestrian_crossing-human_control',\n",
       "       'pedestrian_crossing-physical_facilities', 'light_conditions',\n",
       "       'weather_conditions', 'road_surface_conditions',\n",
       "       'special_conditions_at_site', 'carriageway_hazards',\n",
       "       'urban_or_rural_area', 'did_police_officer_attend_scene_of_accident',\n",
       "       'lsoa_of_accident_location', 'casualty_reference', 'casualty_class',\n",
       "       'sex_of_casualty', 'age_of_casualty', 'age_band_of_casualty',\n",
       "       'casualty_severity', 'pedestrian_location', 'pedestrian_movement',\n",
       "       'car_passenger', 'bus_or_coach_passenger',\n",
       "       'pedestrian_road_maintenance_worker', 'casualty_type',\n",
       "       'casualty_home_area_type', 'casualty_imd_decile'],\n",
       "      dtype='object')"
      ]
     },
     "execution_count": 137,
     "metadata": {},
     "output_type": "execute_result"
    }
   ],
   "source": [
    "dfxlx2.columns"
   ]
  },
  {
   "cell_type": "code",
   "execution_count": 139,
   "metadata": {},
   "outputs": [
    {
     "name": "stdout",
     "output_type": "stream",
     "text": [
      "<class 'pandas.core.frame.DataFrame'>\n",
      "RangeIndex: 65535 entries, 0 to 65534\n",
      "Data columns (total 70 columns):\n",
      " #   Column                                            Non-Null Count  Dtype  \n",
      "---  ------                                            --------------  -----  \n",
      " 0   accident_index                                    65535 non-null  object \n",
      " 1   vehicle_reference                                 65535 non-null  int64  \n",
      " 2   vehicle_type                                      65535 non-null  int64  \n",
      " 3   towing_and_articulation                           65535 non-null  int64  \n",
      " 4   vehicle_manoeuvre                                 65535 non-null  int64  \n",
      " 5   vehicle_location-restricted_lane                  65535 non-null  int64  \n",
      " 6   junction_location                                 65535 non-null  int64  \n",
      " 7   skidding_and_overturning                          65535 non-null  int64  \n",
      " 8   hit_object_in_carriageway                         65535 non-null  int64  \n",
      " 9   vehicle_leaving_carriageway                       65535 non-null  int64  \n",
      " 10  hit_object_off_carriageway                        65535 non-null  int64  \n",
      " 11  1st_point_of_impact                               65535 non-null  int64  \n",
      " 12  was_vehicle_left_hand_drive?                      65535 non-null  int64  \n",
      " 13  journey_purpose_of_driver                         65535 non-null  int64  \n",
      " 14  sex_of_driver                                     65535 non-null  int64  \n",
      " 15  age_of_driver                                     65535 non-null  int64  \n",
      " 16  age_band_of_driver                                65535 non-null  int64  \n",
      " 17  engine_capacity_(cc)                              65535 non-null  int64  \n",
      " 18  propulsion_code                                   65535 non-null  int64  \n",
      " 19  age_of_vehicle                                    65535 non-null  int64  \n",
      " 20  driver_imd_decile                                 65535 non-null  int64  \n",
      " 21  driver_home_area_type                             65535 non-null  int64  \n",
      " 22  vehicle_imd_decile                                65535 non-null  int64  \n",
      " 23  NUmber_of_Casualities_unique_to_accident_index    65535 non-null  int64  \n",
      " 24  No_of_Vehicles_involved_unique_to_accident_index  65535 non-null  int64  \n",
      " 25  location_easting_osgr                             65532 non-null  float64\n",
      " 26  location_northing_osgr                            65532 non-null  float64\n",
      " 27  longitude                                         65532 non-null  float64\n",
      " 28  latitude                                          65532 non-null  float64\n",
      " 29  police_force                                      65535 non-null  int64  \n",
      " 30  accident_severity                                 65535 non-null  int64  \n",
      " 31  number_of_vehicles                                65535 non-null  int64  \n",
      " 32  number_of_casualties                              65535 non-null  int64  \n",
      " 33  date                                              65535 non-null  object \n",
      " 34  day_of_week                                       65535 non-null  int64  \n",
      " 35  time                                              65535 non-null  object \n",
      " 36  local_authority_(district)                        65535 non-null  int64  \n",
      " 37  local_authority_(highway)                         65535 non-null  object \n",
      " 38  1st_road_class                                    65535 non-null  int64  \n",
      " 39  1st_road_number                                   65535 non-null  int64  \n",
      " 40  road_type                                         65535 non-null  int64  \n",
      " 41  speed_limit                                       65535 non-null  int64  \n",
      " 42  junction_detail                                   65535 non-null  int64  \n",
      " 43  junction_control                                  65535 non-null  int64  \n",
      " 44  2nd_road_class                                    65535 non-null  int64  \n",
      " 45  2nd_road_number                                   65535 non-null  int64  \n",
      " 46  pedestrian_crossing-human_control                 65535 non-null  int64  \n",
      " 47  pedestrian_crossing-physical_facilities           65535 non-null  int64  \n",
      " 48  light_conditions                                  65535 non-null  int64  \n",
      " 49  weather_conditions                                65535 non-null  int64  \n",
      " 50  road_surface_conditions                           65535 non-null  int64  \n",
      " 51  special_conditions_at_site                        65535 non-null  int64  \n",
      " 52  carriageway_hazards                               65535 non-null  int64  \n",
      " 53  urban_or_rural_area                               65535 non-null  int64  \n",
      " 54  did_police_officer_attend_scene_of_accident       65535 non-null  int64  \n",
      " 55  lsoa_of_accident_location                         65391 non-null  object \n",
      " 56  casualty_reference                                41923 non-null  float64\n",
      " 57  casualty_class                                    41923 non-null  float64\n",
      " 58  sex_of_casualty                                   41923 non-null  float64\n",
      " 59  age_of_casualty                                   41923 non-null  float64\n",
      " 60  age_band_of_casualty                              41923 non-null  float64\n",
      " 61  casualty_severity                                 41923 non-null  float64\n",
      " 62  pedestrian_location                               41923 non-null  float64\n",
      " 63  pedestrian_movement                               41923 non-null  float64\n",
      " 64  car_passenger                                     41923 non-null  float64\n",
      " 65  bus_or_coach_passenger                            41923 non-null  float64\n",
      " 66  pedestrian_road_maintenance_worker                41923 non-null  float64\n",
      " 67  casualty_type                                     41923 non-null  float64\n",
      " 68  casualty_home_area_type                           41923 non-null  float64\n",
      " 69  casualty_imd_decile                               41923 non-null  float64\n",
      "dtypes: float64(18), int64(47), object(5)\n",
      "memory usage: 35.0+ MB\n"
     ]
    }
   ],
   "source": [
    "dfxlx2.info()"
   ]
  },
  {
   "cell_type": "code",
   "execution_count": 87,
   "metadata": {},
   "outputs": [
    {
     "name": "stdout",
     "output_type": "stream",
     "text": [
      "Collecting pandasql\n",
      "  Downloading https://files.pythonhosted.org/packages/6b/c4/ee4096ffa2eeeca0c749b26f0371bd26aa5c8b611c43de99a4f86d3de0a7/pandasql-0.7.3.tar.gz\n",
      "Requirement already satisfied: numpy in c:\\users\\lenovo\\anaconda3\\lib\\site-packages (from pandasql) (1.21.6)\n",
      "Requirement already satisfied: pandas in c:\\users\\lenovo\\anaconda3\\lib\\site-packages (from pandasql) (1.3.5)\n",
      "Requirement already satisfied: sqlalchemy in c:\\users\\lenovo\\anaconda3\\lib\\site-packages (from pandasql) (1.3.1)\n",
      "Requirement already satisfied: pytz>=2017.3 in c:\\users\\lenovo\\anaconda3\\lib\\site-packages (from pandas->pandasql) (2018.9)\n",
      "Requirement already satisfied: python-dateutil>=2.7.3 in c:\\users\\lenovo\\anaconda3\\lib\\site-packages (from pandas->pandasql) (2.8.0)\n",
      "Requirement already satisfied: six>=1.5 in c:\\users\\lenovo\\anaconda3\\lib\\site-packages (from python-dateutil>=2.7.3->pandas->pandasql) (1.12.0)\n",
      "Building wheels for collected packages: pandasql\n",
      "  Building wheel for pandasql (setup.py): started\n",
      "  Building wheel for pandasql (setup.py): finished with status 'done'\n",
      "  Stored in directory: C:\\Users\\LENOVO\\AppData\\Local\\pip\\Cache\\wheels\\53\\6c\\18\\b87a2e5fa8a82e9c026311de56210b8d1c01846e18a9607fc9\n",
      "Successfully built pandasql\n",
      "Installing collected packages: pandasql\n",
      "Successfully installed pandasql-0.7.3\n",
      "Note: you may need to restart the kernel to use updated packages.\n"
     ]
    }
   ],
   "source": [
    "# this module is to use SQL statements to read the python dataframes\n",
    "\n",
    "pip install pandasql\n"
   ]
  },
  {
   "cell_type": "code",
   "execution_count": 141,
   "metadata": {},
   "outputs": [
    {
     "name": "stdout",
     "output_type": "stream",
     "text": [
      "     ID    Customer Billing Address Shipping Address\n",
      "0  1234  Customer A      123 Street                 \n",
      "1  1234  Customer A                       333 Street\n",
      "2  1233  Customer B      444 Street       333 Street\n",
      "3  1233  Customer B      444 Street       666 Street\n"
     ]
    }
   ],
   "source": [
    "import pandas as pd\n",
    "import pandasql as ps\n",
    "\n",
    "df_sql = pd.DataFrame([[1234, 'Customer A', '123 Street', ''],\n",
    "               [1234, 'Customer A',  '', '333 Street'],\n",
    "               [1233, 'Customer B', '444 Street', '333 Street'],\n",
    "              [1233, 'Customer B', '444 Street', '666 Street']], columns=\n",
    "['ID', 'Customer', 'Billing Address', 'Shipping Address'])\n",
    "\n",
    "q1 = \"\"\"SELECT ID FROM df_sql\"\"\"\n",
    "q2 = \"\"\"SELECT * FROM df_sql\"\"\"\n",
    "\n",
    "print(ps.sqldf(q2, locals()))"
   ]
  },
  {
   "cell_type": "code",
   "execution_count": 147,
   "metadata": {},
   "outputs": [
    {
     "name": "stdout",
     "output_type": "stream",
     "text": [
      "  accident_index  vehicle_reference  vehicle_type  towing_and_articulation  \\\n",
      "0  201506E098777                  1            20                        0   \n",
      "1  201506J001555                  2            20                        1   \n",
      "2  201506J003221                  3            20                        0   \n",
      "3  201506K002752                  1            20                        0   \n",
      "4  201506K003386                  1            20                        0   \n",
      "\n",
      "   vehicle_manoeuvre  vehicle_location-restricted_lane  junction_location  \\\n",
      "0                  4                                 0                  0   \n",
      "1                 17                                 0                  1   \n",
      "2                  3                                 0                  1   \n",
      "3                 17                                 0                  1   \n",
      "4                 18                                 0                  1   \n",
      "\n",
      "   skidding_and_overturning  hit_object_in_carriageway  \\\n",
      "0                         0                          0   \n",
      "1                         3                          0   \n",
      "2                         0                          0   \n",
      "3                         5                         10   \n",
      "4                         0                          0   \n",
      "\n",
      "   vehicle_leaving_carriageway  ...  age_band_of_casualty  casualty_severity  \\\n",
      "0                            0  ...                   6.0                3.0   \n",
      "1                            0  ...                   NaN                NaN   \n",
      "2                            0  ...                   NaN                NaN   \n",
      "3                            2  ...                   9.0                3.0   \n",
      "4                            0  ...                   3.0                3.0   \n",
      "\n",
      "   pedestrian_location  pedestrian_movement  car_passenger  \\\n",
      "0                  1.0                  1.0            0.0   \n",
      "1                  NaN                  NaN            NaN   \n",
      "2                  NaN                  NaN            NaN   \n",
      "3                  0.0                  0.0            0.0   \n",
      "4                  5.0                  1.0            0.0   \n",
      "\n",
      "   bus_or_coach_passenger  pedestrian_road_maintenance_worker  casualty_type  \\\n",
      "0                     0.0                                 0.0            0.0   \n",
      "1                     NaN                                 NaN            NaN   \n",
      "2                     NaN                                 NaN            NaN   \n",
      "3                     0.0                                 0.0           20.0   \n",
      "4                     0.0                                 0.0            0.0   \n",
      "\n",
      "   casualty_home_area_type  casualty_imd_decile  \n",
      "0                      1.0                  1.0  \n",
      "1                      NaN                  NaN  \n",
      "2                      NaN                  NaN  \n",
      "3                      1.0                 10.0  \n",
      "4                      1.0                  1.0  \n",
      "\n",
      "[5 rows x 70 columns]\n"
     ]
    }
   ],
   "source": [
    "import pandas as pd\n",
    "import pandasql as ps\n",
    "q1 = \"\"\"SELECT * FROM dfxlx limit 5 \"\"\"\n",
    "q2 = \"\"\"SELECT * FROM dfxlx where vehicle_type = 20 Limit 5\"\"\"\n",
    "#print(ps.sqldf(q1, locals()))\n",
    "print(ps.sqldf(q2, locals()))"
   ]
  },
  {
   "cell_type": "code",
   "execution_count": 155,
   "metadata": {},
   "outputs": [
    {
     "name": "stdout",
     "output_type": "stream",
     "text": [
      "0    False\n",
      "1    False\n",
      "2    False\n",
      "3    False\n",
      "4     True\n",
      "dtype: bool\n"
     ]
    }
   ],
   "source": [
    "import pandas as pd\n",
    "\n",
    "data = {\n",
    "\"name\": [\"John\", \"Mary\", \"John\", \"Sally\", \"Mary\"],\n",
    "\"age\": [40, 30, 40, 50, 30],\n",
    "\"city\": [\"Bergen\", \"Oslo\", \"Stavanger\", \"Oslo\", \"Oslo\"]\n",
    "}\n",
    "\n",
    "df = pd.DataFrame(data)\n",
    "\n",
    "s = df.duplicated()\n",
    "\n",
    "print(s)"
   ]
  },
  {
   "cell_type": "code",
   "execution_count": 156,
   "metadata": {},
   "outputs": [],
   "source": [
    "df.drop_duplicates(inplace = True)"
   ]
  },
  {
   "cell_type": "code",
   "execution_count": 157,
   "metadata": {},
   "outputs": [
    {
     "name": "stdout",
     "output_type": "stream",
     "text": [
      "    name  age       city\n",
      "0   John   40     Bergen\n",
      "1   Mary   30       Oslo\n",
      "2   John   40  Stavanger\n",
      "3  Sally   50       Oslo\n"
     ]
    }
   ],
   "source": [
    "print(df)"
   ]
  },
  {
   "cell_type": "code",
   "execution_count": 149,
   "metadata": {},
   "outputs": [],
   "source": [
    "df_dups = dfxlx.duplicated()"
   ]
  },
  {
   "cell_type": "code",
   "execution_count": 150,
   "metadata": {},
   "outputs": [
    {
     "name": "stdout",
     "output_type": "stream",
     "text": [
      "0        False\n",
      "1        False\n",
      "2        False\n",
      "3        False\n",
      "4        False\n",
      "         ...  \n",
      "65530    False\n",
      "65531    False\n",
      "65532    False\n",
      "65533    False\n",
      "65534    False\n",
      "Length: 65535, dtype: bool\n"
     ]
    }
   ],
   "source": [
    "print(df_dups)"
   ]
  },
  {
   "cell_type": "code",
   "execution_count": 99,
   "metadata": {},
   "outputs": [
    {
     "name": "stdout",
     "output_type": "stream",
     "text": [
      "<class 'pandas.core.frame.DataFrame'>\n",
      "RangeIndex: 65535 entries, 0 to 65534\n",
      "Data columns (total 70 columns):\n",
      " #   Column                                            Non-Null Count  Dtype  \n",
      "---  ------                                            --------------  -----  \n",
      " 0   accident_index                                    65535 non-null  object \n",
      " 1   vehicle_reference                                 65535 non-null  int64  \n",
      " 2   vehicle_type                                      65535 non-null  int64  \n",
      " 3   towing_and_articulation                           65535 non-null  int64  \n",
      " 4   vehicle_manoeuvre                                 65535 non-null  int64  \n",
      " 5   vehicle_location-restricted_lane                  65535 non-null  int64  \n",
      " 6   junction_location                                 65535 non-null  int64  \n",
      " 7   skidding_and_overturning                          65535 non-null  int64  \n",
      " 8   hit_object_in_carriageway                         65535 non-null  int64  \n",
      " 9   vehicle_leaving_carriageway                       65535 non-null  int64  \n",
      " 10  hit_object_off_carriageway                        65535 non-null  int64  \n",
      " 11  1st_point_of_impact                               65535 non-null  int64  \n",
      " 12  was_vehicle_left_hand_drive?                      65535 non-null  int64  \n",
      " 13  journey_purpose_of_driver                         65535 non-null  int64  \n",
      " 14  sex_of_driver                                     65535 non-null  int64  \n",
      " 15  age_of_driver                                     65535 non-null  int64  \n",
      " 16  age_band_of_driver                                65535 non-null  int64  \n",
      " 17  engine_capacity_(cc)                              65535 non-null  int64  \n",
      " 18  propulsion_code                                   65535 non-null  int64  \n",
      " 19  age_of_vehicle                                    65535 non-null  int64  \n",
      " 20  driver_imd_decile                                 65535 non-null  int64  \n",
      " 21  driver_home_area_type                             65535 non-null  int64  \n",
      " 22  vehicle_imd_decile                                65535 non-null  int64  \n",
      " 23  NUmber_of_Casualities_unique_to_accident_index    65535 non-null  int64  \n",
      " 24  No_of_Vehicles_involved_unique_to_accident_index  65535 non-null  int64  \n",
      " 25  location_easting_osgr                             65532 non-null  float64\n",
      " 26  location_northing_osgr                            65532 non-null  float64\n",
      " 27  longitude                                         65532 non-null  float64\n",
      " 28  latitude                                          65532 non-null  float64\n",
      " 29  police_force                                      65535 non-null  int64  \n",
      " 30  accident_severity                                 65535 non-null  int64  \n",
      " 31  number_of_vehicles                                65535 non-null  int64  \n",
      " 32  number_of_casualties                              65535 non-null  int64  \n",
      " 33  date                                              65535 non-null  object \n",
      " 34  day_of_week                                       65535 non-null  int64  \n",
      " 35  time                                              65535 non-null  object \n",
      " 36  local_authority_(district)                        65535 non-null  int64  \n",
      " 37  local_authority_(highway)                         65535 non-null  object \n",
      " 38  1st_road_class                                    65535 non-null  int64  \n",
      " 39  1st_road_number                                   65535 non-null  int64  \n",
      " 40  road_type                                         65535 non-null  int64  \n",
      " 41  speed_limit                                       65535 non-null  int64  \n",
      " 42  junction_detail                                   65535 non-null  int64  \n",
      " 43  junction_control                                  65535 non-null  int64  \n",
      " 44  2nd_road_class                                    65535 non-null  int64  \n",
      " 45  2nd_road_number                                   65535 non-null  int64  \n",
      " 46  pedestrian_crossing-human_control                 65535 non-null  int64  \n",
      " 47  pedestrian_crossing-physical_facilities           65535 non-null  int64  \n",
      " 48  light_conditions                                  65535 non-null  int64  \n",
      " 49  weather_conditions                                65535 non-null  int64  \n",
      " 50  road_surface_conditions                           65535 non-null  int64  \n",
      " 51  special_conditions_at_site                        65535 non-null  int64  \n",
      " 52  carriageway_hazards                               65535 non-null  int64  \n",
      " 53  urban_or_rural_area                               65535 non-null  int64  \n",
      " 54  did_police_officer_attend_scene_of_accident       65535 non-null  int64  \n",
      " 55  lsoa_of_accident_location                         65391 non-null  object \n",
      " 56  casualty_reference                                41923 non-null  float64\n",
      " 57  casualty_class                                    41923 non-null  float64\n",
      " 58  sex_of_casualty                                   41923 non-null  float64\n",
      " 59  age_of_casualty                                   41923 non-null  float64\n",
      " 60  age_band_of_casualty                              41923 non-null  float64\n",
      " 61  casualty_severity                                 41923 non-null  float64\n",
      " 62  pedestrian_location                               41923 non-null  float64\n",
      " 63  pedestrian_movement                               41923 non-null  float64\n",
      " 64  car_passenger                                     41923 non-null  float64\n",
      " 65  bus_or_coach_passenger                            41923 non-null  float64\n",
      " 66  pedestrian_road_maintenance_worker                41923 non-null  float64\n",
      " 67  casualty_type                                     41923 non-null  float64\n",
      " 68  casualty_home_area_type                           41923 non-null  float64\n",
      " 69  casualty_imd_decile                               41923 non-null  float64\n",
      "dtypes: float64(18), int64(47), object(5)\n",
      "memory usage: 35.0+ MB\n"
     ]
    }
   ],
   "source": [
    "dfxlx.info()"
   ]
  },
  {
   "cell_type": "code",
   "execution_count": 103,
   "metadata": {},
   "outputs": [],
   "source": [
    "# we use the drop_duplicates to delete the duplicates in the dataframe.\n",
    "df.drop_duplicates(inplace = True)"
   ]
  },
  {
   "cell_type": "code",
   "execution_count": 104,
   "metadata": {},
   "outputs": [
    {
     "name": "stdout",
     "output_type": "stream",
     "text": [
      "    name  age       city\n",
      "0   John   40     Bergen\n",
      "1   Mary   30       Oslo\n",
      "2   John   40  Stavanger\n",
      "3  Sally   50       Oslo\n"
     ]
    }
   ],
   "source": [
    "print(df)"
   ]
  },
  {
   "cell_type": "code",
   "execution_count": 152,
   "metadata": {},
   "outputs": [],
   "source": [
    "duplicate_rows=dfxlx.duplicated(subset = [\"casualty_class\",\"car_passenger\"])"
   ]
  },
  {
   "cell_type": "code",
   "execution_count": 153,
   "metadata": {},
   "outputs": [
    {
     "name": "stdout",
     "output_type": "stream",
     "text": [
      "0        False\n",
      "1         True\n",
      "2        False\n",
      "3        False\n",
      "4         True\n",
      "         ...  \n",
      "65530     True\n",
      "65531     True\n",
      "65532     True\n",
      "65533     True\n",
      "65534     True\n",
      "Length: 65535, dtype: bool\n"
     ]
    }
   ],
   "source": [
    "print(duplicate_rows)"
   ]
  },
  {
   "cell_type": "code",
   "execution_count": 107,
   "metadata": {},
   "outputs": [
    {
     "name": "stdout",
     "output_type": "stream",
     "text": [
      "0    False\n",
      "1    False\n",
      "2    False\n",
      "3    False\n",
      "4    False\n",
      "dtype: bool\n"
     ]
    }
   ],
   "source": [
    "import pandas as pd\n",
    "\n",
    "data = {\n",
    "\"name\": [\"John\", \"Mary\", \"John\", \"Sally\", \"Mary\"],\n",
    "\"age\": [40,\"\" , 40, 50, 30],\n",
    "\"city\": [\"Bergen\", \"Oslo\", \"Stavanger\", \"Oslo\", \"Oslo\"]\n",
    "}\n",
    "df = pd.DataFrame(data)\n",
    "\n",
    "s = df.duplicated()\n",
    "\n",
    "print(s)"
   ]
  },
  {
   "cell_type": "code",
   "execution_count": 108,
   "metadata": {},
   "outputs": [
    {
     "name": "stdout",
     "output_type": "stream",
     "text": [
      "    name age       city\n",
      "0   John  40     Bergen\n",
      "1   Mary           Oslo\n",
      "2   John  40  Stavanger\n",
      "3  Sally  50       Oslo\n",
      "4   Mary  30       Oslo\n"
     ]
    }
   ],
   "source": [
    "print(df)"
   ]
  },
  {
   "cell_type": "code",
   "execution_count": null,
   "metadata": {},
   "outputs": [],
   "source": [
    "# to read the csv or xls we use read_csv , to write the dataframe back to drive we use to_csv \n",
    "df.to_csv(r\"C:\\Users\\LENOVO\\Documents\\DataEngineering2024\\test.csv\")"
   ]
  },
  {
   "cell_type": "code",
   "execution_count": 154,
   "metadata": {},
   "outputs": [],
   "source": [
    "dfxlx.to_excel(r\"C:\\Users\\LENOVO\\Documents\\DataEngineering2024\\test.xlsx\")"
   ]
  },
  {
   "cell_type": "code",
   "execution_count": null,
   "metadata": {},
   "outputs": [],
   "source": []
  },
  {
   "cell_type": "code",
   "execution_count": 113,
   "metadata": {},
   "outputs": [
    {
     "name": "stdout",
     "output_type": "stream",
     "text": [
      "Collecting psycopg2\n",
      "  Downloading https://files.pythonhosted.org/packages/be/a7/0a39176d369a8289191f3d327139cfb4923dcedcfd7105774e57996f63cd/psycopg2-2.9.9-cp37-cp37m-win_amd64.whl (1.2MB)\n",
      "Installing collected packages: psycopg2\n",
      "Successfully installed psycopg2-2.9.9\n",
      "Note: you may need to restart the kernel to use updated packages.\n"
     ]
    }
   ],
   "source": [
    "pip install psycopg2"
   ]
  },
  {
   "cell_type": "code",
   "execution_count": 114,
   "metadata": {},
   "outputs": [],
   "source": [
    "# we have to install the module psycopg2 to connect the postgers database\n",
    "# pip install  psycopg2\n",
    "# FQDN -- Fully Qualified Domain Name\n",
    "import psycopg2"
   ]
  },
  {
   "cell_type": "code",
   "execution_count": null,
   "metadata": {},
   "outputs": [],
   "source": [
    "# To establish the connection string\n",
    "conn = psycopg2.connect(\n",
    "   database=\"postgres\", user='pg1', password='password', host='127.0.0.1', port= '5432'\n",
    ")\n",
    "# FQDN (Fully Qualified Domain Name DESKTOP-KN9LOGV.wipro.com)\n",
    "# In place of host we can either have the IP address or the FQDN\n",
    "# Port Number"
   ]
  },
  {
   "cell_type": "code",
   "execution_count": null,
   "metadata": {},
   "outputs": [],
   "source": [
    "cursor = conn.cursor()"
   ]
  },
  {
   "cell_type": "code",
   "execution_count": null,
   "metadata": {},
   "outputs": [],
   "source": [
    "cursor.execute(\"select version()\")"
   ]
  }
 ],
 "metadata": {
  "kernelspec": {
   "display_name": "Python 3",
   "language": "python",
   "name": "python3"
  },
  "language_info": {
   "codemirror_mode": {
    "name": "ipython",
    "version": 3
   },
   "file_extension": ".py",
   "mimetype": "text/x-python",
   "name": "python",
   "nbconvert_exporter": "python",
   "pygments_lexer": "ipython3",
   "version": "3.7.3"
  }
 },
 "nbformat": 4,
 "nbformat_minor": 2
}
